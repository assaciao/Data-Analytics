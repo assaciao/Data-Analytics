{
  "nbformat": 4,
  "nbformat_minor": 0,
  "metadata": {
    "kernelspec": {
      "display_name": "Python 3",
      "language": "python",
      "name": "python3"
    },
    "language_info": {
      "codemirror_mode": {
        "name": "ipython",
        "version": 3
      },
      "file_extension": ".py",
      "mimetype": "text/x-python",
      "name": "python",
      "nbconvert_exporter": "python",
      "pygments_lexer": "ipython3",
      "version": "3.6.9"
    },
    "colab": {
      "name": "02. Regression & Regularization.ipynb\"",
      "provenance": [],
      "collapsed_sections": []
    }
  },
  "cells": [
    {
      "cell_type": "markdown",
      "metadata": {
        "id": "eYwLs5joJfJN"
      },
      "source": [
        "<div class=\"alert alert-block alert-info\"><b></b>\n",
        "<h1><center> <font color='black'> Homework 02  </font></center></h1>\n",
        "<h2><center> <font color='black'> Regression & Regularization</font></center></h2>    \n"
      ]
    },
    {
      "cell_type": "markdown",
      "metadata": {
        "id": "fQFbVbtpJfJn"
      },
      "source": [
        "# Introduction\n",
        "\n",
        "* In this homework you are going to apply supervised learning: Linear Regression method using Scikit-learn package; Scikit-learn (formerly scikits.learn and also known as sklearn) is a free software machine learning library for the Python programming language. It features various classification, regression and clustering algorithms including support vector machines, random forests, gradient boosting, k-means and DBSCAN, and is designed to interoperate with the Python numerical and scientific libraries NumPy and SciPy [https://en.wikipedia.org/wiki/Scikit-learn].\n",
        "\n",
        "### The homework is divided into four sections and the points are distributed as below:\n",
        "<pre>\n",
        "- Linear Regression    -> 2 points\n",
        "- PCA                  -> 2 points\n",
        "- Overfitting          -> 5 points\n",
        "_________________________________________\n",
        "Total                  -> 9 points\n",
        "</pre>"
      ]
    },
    {
      "cell_type": "markdown",
      "metadata": {
        "id": "p1wszlIpJfJo"
      },
      "source": [
        "# 1. Regression \n",
        "## 1.1 Linear Regression (2 points)\n",
        "\n",
        "We are going to use the Prices dataset that contains 74 columns. Each column represents a feature of houses for sale. The ```SalePrice``` column  shows their prices. "
      ]
    },
    {
      "cell_type": "code",
      "metadata": {
        "id": "qidamLnMJfJo",
        "outputId": "26647957-0492-4fed-e03b-82f571d5ce71",
        "colab": {
          "base_uri": "https://localhost:8080/",
          "height": 424
        }
      },
      "source": [
        "import pandas as pd\n",
        "data = pd.read_csv(\"Prices.csv\")\n",
        "data"
      ],
      "execution_count": null,
      "outputs": [
        {
          "output_type": "execute_result",
          "data": {
            "text/plain": [
              "      MSSubClass MSZoning  LotFrontage  LotArea Street LotShape LandContour  \\\n",
              "0             60       RL         65.0     8450   Pave      Reg         Lvl   \n",
              "1             20       RL         80.0     9600   Pave      Reg         Lvl   \n",
              "2             60       RL         68.0    11250   Pave      IR1         Lvl   \n",
              "3             70       RL         60.0     9550   Pave      IR1         Lvl   \n",
              "4             60       RL         84.0    14260   Pave      IR1         Lvl   \n",
              "...          ...      ...          ...      ...    ...      ...         ...   \n",
              "1455          60       RL         62.0     7917   Pave      Reg         Lvl   \n",
              "1456          20       RL         85.0    13175   Pave      Reg         Lvl   \n",
              "1457          70       RL         66.0     9042   Pave      Reg         Lvl   \n",
              "1458          20       RL         68.0     9717   Pave      Reg         Lvl   \n",
              "1459          20       RL         75.0     9937   Pave      Reg         Lvl   \n",
              "\n",
              "     Utilities LotConfig LandSlope  ... EnclosedPorch 3SsnPorch ScreenPorch  \\\n",
              "0       AllPub    Inside       Gtl  ...             0         0           0   \n",
              "1       AllPub       FR2       Gtl  ...             0         0           0   \n",
              "2       AllPub    Inside       Gtl  ...             0         0           0   \n",
              "3       AllPub    Corner       Gtl  ...           272         0           0   \n",
              "4       AllPub       FR2       Gtl  ...             0         0           0   \n",
              "...        ...       ...       ...  ...           ...       ...         ...   \n",
              "1455    AllPub    Inside       Gtl  ...             0         0           0   \n",
              "1456    AllPub    Inside       Gtl  ...             0         0           0   \n",
              "1457    AllPub    Inside       Gtl  ...             0         0           0   \n",
              "1458    AllPub    Inside       Gtl  ...           112         0           0   \n",
              "1459    AllPub    Inside       Gtl  ...             0         0           0   \n",
              "\n",
              "     PoolArea MiscVal  MoSold  YrSold  SaleType  SaleCondition SalePrice  \n",
              "0           0       0       2    2008        WD         Normal    208500  \n",
              "1           0       0       5    2007        WD         Normal    181500  \n",
              "2           0       0       9    2008        WD         Normal    223500  \n",
              "3           0       0       2    2006        WD        Abnorml    140000  \n",
              "4           0       0      12    2008        WD         Normal    250000  \n",
              "...       ...     ...     ...     ...       ...            ...       ...  \n",
              "1455        0       0       8    2007        WD         Normal    175000  \n",
              "1456        0       0       2    2010        WD         Normal    210000  \n",
              "1457        0    2500       5    2010        WD         Normal    266500  \n",
              "1458        0       0       4    2010        WD         Normal    142125  \n",
              "1459        0       0       6    2008        WD         Normal    147500  \n",
              "\n",
              "[1460 rows x 75 columns]"
            ],
            "text/html": [
              "\n",
              "  <div id=\"df-cd20754f-8c50-4432-aaeb-af6e9e3a6ad1\">\n",
              "    <div class=\"colab-df-container\">\n",
              "      <div>\n",
              "<style scoped>\n",
              "    .dataframe tbody tr th:only-of-type {\n",
              "        vertical-align: middle;\n",
              "    }\n",
              "\n",
              "    .dataframe tbody tr th {\n",
              "        vertical-align: top;\n",
              "    }\n",
              "\n",
              "    .dataframe thead th {\n",
              "        text-align: right;\n",
              "    }\n",
              "</style>\n",
              "<table border=\"1\" class=\"dataframe\">\n",
              "  <thead>\n",
              "    <tr style=\"text-align: right;\">\n",
              "      <th></th>\n",
              "      <th>MSSubClass</th>\n",
              "      <th>MSZoning</th>\n",
              "      <th>LotFrontage</th>\n",
              "      <th>LotArea</th>\n",
              "      <th>Street</th>\n",
              "      <th>LotShape</th>\n",
              "      <th>LandContour</th>\n",
              "      <th>Utilities</th>\n",
              "      <th>LotConfig</th>\n",
              "      <th>LandSlope</th>\n",
              "      <th>...</th>\n",
              "      <th>EnclosedPorch</th>\n",
              "      <th>3SsnPorch</th>\n",
              "      <th>ScreenPorch</th>\n",
              "      <th>PoolArea</th>\n",
              "      <th>MiscVal</th>\n",
              "      <th>MoSold</th>\n",
              "      <th>YrSold</th>\n",
              "      <th>SaleType</th>\n",
              "      <th>SaleCondition</th>\n",
              "      <th>SalePrice</th>\n",
              "    </tr>\n",
              "  </thead>\n",
              "  <tbody>\n",
              "    <tr>\n",
              "      <th>0</th>\n",
              "      <td>60</td>\n",
              "      <td>RL</td>\n",
              "      <td>65.0</td>\n",
              "      <td>8450</td>\n",
              "      <td>Pave</td>\n",
              "      <td>Reg</td>\n",
              "      <td>Lvl</td>\n",
              "      <td>AllPub</td>\n",
              "      <td>Inside</td>\n",
              "      <td>Gtl</td>\n",
              "      <td>...</td>\n",
              "      <td>0</td>\n",
              "      <td>0</td>\n",
              "      <td>0</td>\n",
              "      <td>0</td>\n",
              "      <td>0</td>\n",
              "      <td>2</td>\n",
              "      <td>2008</td>\n",
              "      <td>WD</td>\n",
              "      <td>Normal</td>\n",
              "      <td>208500</td>\n",
              "    </tr>\n",
              "    <tr>\n",
              "      <th>1</th>\n",
              "      <td>20</td>\n",
              "      <td>RL</td>\n",
              "      <td>80.0</td>\n",
              "      <td>9600</td>\n",
              "      <td>Pave</td>\n",
              "      <td>Reg</td>\n",
              "      <td>Lvl</td>\n",
              "      <td>AllPub</td>\n",
              "      <td>FR2</td>\n",
              "      <td>Gtl</td>\n",
              "      <td>...</td>\n",
              "      <td>0</td>\n",
              "      <td>0</td>\n",
              "      <td>0</td>\n",
              "      <td>0</td>\n",
              "      <td>0</td>\n",
              "      <td>5</td>\n",
              "      <td>2007</td>\n",
              "      <td>WD</td>\n",
              "      <td>Normal</td>\n",
              "      <td>181500</td>\n",
              "    </tr>\n",
              "    <tr>\n",
              "      <th>2</th>\n",
              "      <td>60</td>\n",
              "      <td>RL</td>\n",
              "      <td>68.0</td>\n",
              "      <td>11250</td>\n",
              "      <td>Pave</td>\n",
              "      <td>IR1</td>\n",
              "      <td>Lvl</td>\n",
              "      <td>AllPub</td>\n",
              "      <td>Inside</td>\n",
              "      <td>Gtl</td>\n",
              "      <td>...</td>\n",
              "      <td>0</td>\n",
              "      <td>0</td>\n",
              "      <td>0</td>\n",
              "      <td>0</td>\n",
              "      <td>0</td>\n",
              "      <td>9</td>\n",
              "      <td>2008</td>\n",
              "      <td>WD</td>\n",
              "      <td>Normal</td>\n",
              "      <td>223500</td>\n",
              "    </tr>\n",
              "    <tr>\n",
              "      <th>3</th>\n",
              "      <td>70</td>\n",
              "      <td>RL</td>\n",
              "      <td>60.0</td>\n",
              "      <td>9550</td>\n",
              "      <td>Pave</td>\n",
              "      <td>IR1</td>\n",
              "      <td>Lvl</td>\n",
              "      <td>AllPub</td>\n",
              "      <td>Corner</td>\n",
              "      <td>Gtl</td>\n",
              "      <td>...</td>\n",
              "      <td>272</td>\n",
              "      <td>0</td>\n",
              "      <td>0</td>\n",
              "      <td>0</td>\n",
              "      <td>0</td>\n",
              "      <td>2</td>\n",
              "      <td>2006</td>\n",
              "      <td>WD</td>\n",
              "      <td>Abnorml</td>\n",
              "      <td>140000</td>\n",
              "    </tr>\n",
              "    <tr>\n",
              "      <th>4</th>\n",
              "      <td>60</td>\n",
              "      <td>RL</td>\n",
              "      <td>84.0</td>\n",
              "      <td>14260</td>\n",
              "      <td>Pave</td>\n",
              "      <td>IR1</td>\n",
              "      <td>Lvl</td>\n",
              "      <td>AllPub</td>\n",
              "      <td>FR2</td>\n",
              "      <td>Gtl</td>\n",
              "      <td>...</td>\n",
              "      <td>0</td>\n",
              "      <td>0</td>\n",
              "      <td>0</td>\n",
              "      <td>0</td>\n",
              "      <td>0</td>\n",
              "      <td>12</td>\n",
              "      <td>2008</td>\n",
              "      <td>WD</td>\n",
              "      <td>Normal</td>\n",
              "      <td>250000</td>\n",
              "    </tr>\n",
              "    <tr>\n",
              "      <th>...</th>\n",
              "      <td>...</td>\n",
              "      <td>...</td>\n",
              "      <td>...</td>\n",
              "      <td>...</td>\n",
              "      <td>...</td>\n",
              "      <td>...</td>\n",
              "      <td>...</td>\n",
              "      <td>...</td>\n",
              "      <td>...</td>\n",
              "      <td>...</td>\n",
              "      <td>...</td>\n",
              "      <td>...</td>\n",
              "      <td>...</td>\n",
              "      <td>...</td>\n",
              "      <td>...</td>\n",
              "      <td>...</td>\n",
              "      <td>...</td>\n",
              "      <td>...</td>\n",
              "      <td>...</td>\n",
              "      <td>...</td>\n",
              "      <td>...</td>\n",
              "    </tr>\n",
              "    <tr>\n",
              "      <th>1455</th>\n",
              "      <td>60</td>\n",
              "      <td>RL</td>\n",
              "      <td>62.0</td>\n",
              "      <td>7917</td>\n",
              "      <td>Pave</td>\n",
              "      <td>Reg</td>\n",
              "      <td>Lvl</td>\n",
              "      <td>AllPub</td>\n",
              "      <td>Inside</td>\n",
              "      <td>Gtl</td>\n",
              "      <td>...</td>\n",
              "      <td>0</td>\n",
              "      <td>0</td>\n",
              "      <td>0</td>\n",
              "      <td>0</td>\n",
              "      <td>0</td>\n",
              "      <td>8</td>\n",
              "      <td>2007</td>\n",
              "      <td>WD</td>\n",
              "      <td>Normal</td>\n",
              "      <td>175000</td>\n",
              "    </tr>\n",
              "    <tr>\n",
              "      <th>1456</th>\n",
              "      <td>20</td>\n",
              "      <td>RL</td>\n",
              "      <td>85.0</td>\n",
              "      <td>13175</td>\n",
              "      <td>Pave</td>\n",
              "      <td>Reg</td>\n",
              "      <td>Lvl</td>\n",
              "      <td>AllPub</td>\n",
              "      <td>Inside</td>\n",
              "      <td>Gtl</td>\n",
              "      <td>...</td>\n",
              "      <td>0</td>\n",
              "      <td>0</td>\n",
              "      <td>0</td>\n",
              "      <td>0</td>\n",
              "      <td>0</td>\n",
              "      <td>2</td>\n",
              "      <td>2010</td>\n",
              "      <td>WD</td>\n",
              "      <td>Normal</td>\n",
              "      <td>210000</td>\n",
              "    </tr>\n",
              "    <tr>\n",
              "      <th>1457</th>\n",
              "      <td>70</td>\n",
              "      <td>RL</td>\n",
              "      <td>66.0</td>\n",
              "      <td>9042</td>\n",
              "      <td>Pave</td>\n",
              "      <td>Reg</td>\n",
              "      <td>Lvl</td>\n",
              "      <td>AllPub</td>\n",
              "      <td>Inside</td>\n",
              "      <td>Gtl</td>\n",
              "      <td>...</td>\n",
              "      <td>0</td>\n",
              "      <td>0</td>\n",
              "      <td>0</td>\n",
              "      <td>0</td>\n",
              "      <td>2500</td>\n",
              "      <td>5</td>\n",
              "      <td>2010</td>\n",
              "      <td>WD</td>\n",
              "      <td>Normal</td>\n",
              "      <td>266500</td>\n",
              "    </tr>\n",
              "    <tr>\n",
              "      <th>1458</th>\n",
              "      <td>20</td>\n",
              "      <td>RL</td>\n",
              "      <td>68.0</td>\n",
              "      <td>9717</td>\n",
              "      <td>Pave</td>\n",
              "      <td>Reg</td>\n",
              "      <td>Lvl</td>\n",
              "      <td>AllPub</td>\n",
              "      <td>Inside</td>\n",
              "      <td>Gtl</td>\n",
              "      <td>...</td>\n",
              "      <td>112</td>\n",
              "      <td>0</td>\n",
              "      <td>0</td>\n",
              "      <td>0</td>\n",
              "      <td>0</td>\n",
              "      <td>4</td>\n",
              "      <td>2010</td>\n",
              "      <td>WD</td>\n",
              "      <td>Normal</td>\n",
              "      <td>142125</td>\n",
              "    </tr>\n",
              "    <tr>\n",
              "      <th>1459</th>\n",
              "      <td>20</td>\n",
              "      <td>RL</td>\n",
              "      <td>75.0</td>\n",
              "      <td>9937</td>\n",
              "      <td>Pave</td>\n",
              "      <td>Reg</td>\n",
              "      <td>Lvl</td>\n",
              "      <td>AllPub</td>\n",
              "      <td>Inside</td>\n",
              "      <td>Gtl</td>\n",
              "      <td>...</td>\n",
              "      <td>0</td>\n",
              "      <td>0</td>\n",
              "      <td>0</td>\n",
              "      <td>0</td>\n",
              "      <td>0</td>\n",
              "      <td>6</td>\n",
              "      <td>2008</td>\n",
              "      <td>WD</td>\n",
              "      <td>Normal</td>\n",
              "      <td>147500</td>\n",
              "    </tr>\n",
              "  </tbody>\n",
              "</table>\n",
              "<p>1460 rows × 75 columns</p>\n",
              "</div>\n",
              "      <button class=\"colab-df-convert\" onclick=\"convertToInteractive('df-cd20754f-8c50-4432-aaeb-af6e9e3a6ad1')\"\n",
              "              title=\"Convert this dataframe to an interactive table.\"\n",
              "              style=\"display:none;\">\n",
              "        \n",
              "  <svg xmlns=\"http://www.w3.org/2000/svg\" height=\"24px\"viewBox=\"0 0 24 24\"\n",
              "       width=\"24px\">\n",
              "    <path d=\"M0 0h24v24H0V0z\" fill=\"none\"/>\n",
              "    <path d=\"M18.56 5.44l.94 2.06.94-2.06 2.06-.94-2.06-.94-.94-2.06-.94 2.06-2.06.94zm-11 1L8.5 8.5l.94-2.06 2.06-.94-2.06-.94L8.5 2.5l-.94 2.06-2.06.94zm10 10l.94 2.06.94-2.06 2.06-.94-2.06-.94-.94-2.06-.94 2.06-2.06.94z\"/><path d=\"M17.41 7.96l-1.37-1.37c-.4-.4-.92-.59-1.43-.59-.52 0-1.04.2-1.43.59L10.3 9.45l-7.72 7.72c-.78.78-.78 2.05 0 2.83L4 21.41c.39.39.9.59 1.41.59.51 0 1.02-.2 1.41-.59l7.78-7.78 2.81-2.81c.8-.78.8-2.07 0-2.86zM5.41 20L4 18.59l7.72-7.72 1.47 1.35L5.41 20z\"/>\n",
              "  </svg>\n",
              "      </button>\n",
              "      \n",
              "  <style>\n",
              "    .colab-df-container {\n",
              "      display:flex;\n",
              "      flex-wrap:wrap;\n",
              "      gap: 12px;\n",
              "    }\n",
              "\n",
              "    .colab-df-convert {\n",
              "      background-color: #E8F0FE;\n",
              "      border: none;\n",
              "      border-radius: 50%;\n",
              "      cursor: pointer;\n",
              "      display: none;\n",
              "      fill: #1967D2;\n",
              "      height: 32px;\n",
              "      padding: 0 0 0 0;\n",
              "      width: 32px;\n",
              "    }\n",
              "\n",
              "    .colab-df-convert:hover {\n",
              "      background-color: #E2EBFA;\n",
              "      box-shadow: 0px 1px 2px rgba(60, 64, 67, 0.3), 0px 1px 3px 1px rgba(60, 64, 67, 0.15);\n",
              "      fill: #174EA6;\n",
              "    }\n",
              "\n",
              "    [theme=dark] .colab-df-convert {\n",
              "      background-color: #3B4455;\n",
              "      fill: #D2E3FC;\n",
              "    }\n",
              "\n",
              "    [theme=dark] .colab-df-convert:hover {\n",
              "      background-color: #434B5C;\n",
              "      box-shadow: 0px 1px 3px 1px rgba(0, 0, 0, 0.15);\n",
              "      filter: drop-shadow(0px 1px 2px rgba(0, 0, 0, 0.3));\n",
              "      fill: #FFFFFF;\n",
              "    }\n",
              "  </style>\n",
              "\n",
              "      <script>\n",
              "        const buttonEl =\n",
              "          document.querySelector('#df-cd20754f-8c50-4432-aaeb-af6e9e3a6ad1 button.colab-df-convert');\n",
              "        buttonEl.style.display =\n",
              "          google.colab.kernel.accessAllowed ? 'block' : 'none';\n",
              "\n",
              "        async function convertToInteractive(key) {\n",
              "          const element = document.querySelector('#df-cd20754f-8c50-4432-aaeb-af6e9e3a6ad1');\n",
              "          const dataTable =\n",
              "            await google.colab.kernel.invokeFunction('convertToInteractive',\n",
              "                                                     [key], {});\n",
              "          if (!dataTable) return;\n",
              "\n",
              "          const docLinkHtml = 'Like what you see? Visit the ' +\n",
              "            '<a target=\"_blank\" href=https://colab.research.google.com/notebooks/data_table.ipynb>data table notebook</a>'\n",
              "            + ' to learn more about interactive tables.';\n",
              "          element.innerHTML = '';\n",
              "          dataTable['output_type'] = 'display_data';\n",
              "          await google.colab.output.renderOutput(dataTable, element);\n",
              "          const docLink = document.createElement('div');\n",
              "          docLink.innerHTML = docLinkHtml;\n",
              "          element.appendChild(docLink);\n",
              "        }\n",
              "      </script>\n",
              "    </div>\n",
              "  </div>\n",
              "  "
            ]
          },
          "metadata": {},
          "execution_count": 282
        }
      ]
    },
    {
      "cell_type": "markdown",
      "metadata": {
        "id": "L5dxc_JaJfJq"
      },
      "source": [
        "The column names are self-explanatory which indicates features of each house."
      ]
    },
    {
      "cell_type": "markdown",
      "metadata": {
        "id": "Xt1Kln3rJfJq"
      },
      "source": [
        "**1.1.1. The target label is```SalePrice``` which means, later we will predict the sale-price based on the given features (columns). But for regression task, it is important to ensure that the data is not skewed. In order to do that, please plot the distribution of ```SalePrice``` column and explain what do you see. (0.2 point)**"
      ]
    },
    {
      "cell_type": "code",
      "metadata": {
        "id": "IJbRJKE8JfJq",
        "colab": {
          "base_uri": "https://localhost:8080/",
          "height": 265
        },
        "outputId": "e054854a-00ce-44f8-bb2e-510b939304a5"
      },
      "source": [
        "minlength = min(data.SalePrice.values)\n",
        "maxlength = max(data.SalePrice.values)\n",
        "bins = int((maxlength - minlength) * 10) + 1\n",
        "\n",
        "# shows the distribution of the data\n",
        "data[\"SalePrice\"].hist(bins = 50);"
      ],
      "execution_count": null,
      "outputs": [
        {
          "output_type": "display_data",
          "data": {
            "text/plain": [
              "<Figure size 432x288 with 1 Axes>"
            ],
            "image/png": "[encoded data removed]"
          },
          "metadata": {
            "needs_background": "light"
          }
        }
      ]
    },
    {
      "cell_type": "markdown",
      "metadata": {
        "id": "UthxdZLyJfJq"
      },
      "source": [
        "**<font color='red'>Answer:</font>** The data is definitely skewed. The values peak at around 150000 and the transition from 0 to 150000 seems to follow a normal distribution. However, the transition from 150000 to 500000 is much slower and seems to follow more of an exponential distribution."
      ]
    },
    {
      "cell_type": "markdown",
      "metadata": {
        "id": "jCEjKtlJJfJr"
      },
      "source": [
        "So, the data seems to be skewed which has to be fixed otherwise it may lead to erronous result. \n",
        "Apart from that, look closely, some columns are not numerical. For those, you have to convert them to numerical value or represent them in a way so that the algorithm can understand the data. One of such way is called, one hot encoding. Along with that, the algorithm cannot deal with NaN or Infinite values. So please address all of these in the preprocessing section. \n",
        "\n",
        "- Preprocess for skewed data\n",
        "- Apply one-hot encoding to categorical data types\n",
        "- Replace negative infinite values with 0"
      ]
    },
    {
      "cell_type": "markdown",
      "metadata": {
        "id": "I1s3u1LLJfJr"
      },
      "source": [
        "**1.1.2. After preprocessing the skewed data, plot ```SalePrice``` column distribution again. (0.05 point)**"
      ]
    },
    {
      "cell_type": "code",
      "metadata": {
        "id": "hl0qQwwdJfJs",
        "colab": {
          "base_uri": "https://localhost:8080/",
          "height": 265
        },
        "outputId": "a3154174-5793-440d-a50e-7c70743e478a"
      },
      "source": [
        "import seaborn as sns\n",
        "import numpy as np\n",
        "from sklearn.preprocessing import MinMaxScaler\n",
        "\n",
        "# --- preprocess this data ---\n",
        "\n",
        "# check for and replace all NaN and infinite values with 0\n",
        "data.isin([np.inf, -np.inf]).sum().sum()\n",
        "data.replace([np.inf, -np.inf], 0, inplace=True)\n",
        "\n",
        "# transform the skewed data (remember to reverse this with np.exp later, before analysis!)\n",
        "#data[\"SalePrice\"] = np.log(data[\"SalePrice\"])\n",
        "data.loc[:, ('SalePrice')] = np.log(data[\"SalePrice\"])\n",
        "\n",
        "# one-hot encoding\n",
        "X = data.iloc[:, 0:-1]\n",
        "y = data.iloc[:, -1]\n",
        "data = pd.get_dummies(X)\n",
        "data[\"SalePrice\"]=y\n",
        "\n",
        "# save this data to a separate variable so we can retrieve it for regression\n",
        "processedData = data.copy(deep=True)\n",
        "\n",
        "\n",
        "# --- plot SalePrice again ---\n",
        "minlength = min(data.SalePrice.values)\n",
        "maxlength = max(data.SalePrice.values)\n",
        "bins = int((maxlength - minlength) * 10) + 1\n",
        "\n",
        "# shows the distribution of the data\n",
        "data[\"SalePrice\"].hist(bins = 50);"
      ],
      "execution_count": null,
      "outputs": [
        {
          "output_type": "display_data",
          "data": {
            "text/plain": [
              "<Figure size 432x288 with 1 Axes>"
            ],
            "image/png": "[encoded data removed]"
          },
          "metadata": {
            "needs_background": "light"
          }
        }
      ]
    },
    {
      "cell_type": "markdown",
      "metadata": {
        "id": "OQPBZ0QWJfJs"
      },
      "source": [
        "**1.1.3. Calculate the correlation between price and each feature. Which are the top 3 features that have the highest correlation with  price? Is the correlation positive or negative? Explain what happens with the price when each of those 3 features change (consider only one feature at a time) and others are kept constant. (0.25 point)** \n",
        "\n"
      ]
    },
    {
      "cell_type": "code",
      "metadata": {
        "id": "A59X1K5fJfJs",
        "colab": {
          "base_uri": "https://localhost:8080/"
        },
        "outputId": "c91cfcc4-56ca-4db4-c4e9-00d323f9ace7"
      },
      "source": [
        "correlation = data.corr()\n",
        "correlation[correlation['SalePrice'] >= 0]['SalePrice'].sort_values(ascending = False)"
      ],
      "execution_count": null,
      "outputs": [
        {
          "output_type": "execute_result",
          "data": {
            "text/plain": [
              "SalePrice           1.000000\n",
              "OverallQual         0.817184\n",
              "GrLivArea           0.700927\n",
              "GarageCars          0.680625\n",
              "GarageArea          0.650888\n",
              "                      ...   \n",
              "LotConfig_FR2       0.004883\n",
              "BsmtFinSF2          0.004832\n",
              "LotConfig_Corner    0.003985\n",
              "SaleType_ConLI      0.003058\n",
              "BsmtFinType2_GLQ    0.002345\n",
              "Name: SalePrice, Length: 132, dtype: float64"
            ]
          },
          "metadata": {},
          "execution_count": 285
        }
      ]
    },
    {
      "cell_type": "markdown",
      "metadata": {
        "id": "zLYyFSd-JfJt"
      },
      "source": [
        "<font color='red'> **Answer:**</font> top 3 features that have the highest correlation with price: OverallQual, GrLivArea, GarageCars. Correlation is positive. So when each of those 3 features change, the price changes considerably."
      ]
    },
    {
      "cell_type": "markdown",
      "metadata": {
        "id": "0qQzbp4RJfJt"
      },
      "source": [
        "**1.1.4.  Now you have to build a regression model that would be trained on training data and later predict the price on test data. You are free to select features on which you want train the model. The dataset has missing values, so please apply the following methods to deal with the missing data in the features of your choice:**\n",
        "\n",
        "a) mean imputation\n",
        "\n",
        "b) median imputation\n",
        "\n",
        "c) mode imputation\n",
        "\n",
        "d) dropping missing values\n",
        "\n",
        "**Split dataset into the training (80% of the all rows) and test ( 20% of all rows) set, you can use train_test_split function from scikit-learn. While splitting, set the parameter random_state equal to 2, this will reproduce similar split during grading.**\n",
        "\n",
        "**For each of the case report MAE, RMSE and R<sup>2</sup>. Which method works better ?(1.50 points)**\n",
        "\n"
      ]
    },
    {
      "cell_type": "code",
      "metadata": {
        "id": "DCaoOjKWJfJt",
        "colab": {
          "base_uri": "https://localhost:8080/"
        },
        "outputId": "3368c452-52c7-4d32-9da3-673344890b2f"
      },
      "source": [
        "from sklearn.model_selection import train_test_split\n",
        "from sklearn.impute import SimpleImputer\n",
        "from sklearn.linear_model import LinearRegression\n",
        "from sklearn.metrics import mean_absolute_error\n",
        "from sklearn.metrics import mean_squared_error\n",
        "from sklearn.metrics import r2_score\n",
        "\n",
        "# correlation[correlation['SalePrice'] >= 0.5]['SalePrice'].sort_values(ascending = False)\n",
        "\n",
        "methods = ['mean imputation', 'median imputation', 'mode imputation', 'dropping missing values']\n",
        "#Store the result in the following variables\n",
        "MAE = []\n",
        "RMSE = []\n",
        "R2 = []\n",
        "\n",
        "\n",
        "# We're selecting the top 10 values with the highest correlation to SalePrice to be the training features\n",
        "# We're also selecting all three columns that contain NaN values (LotFrontage, MasVnrArea, GarageYrBlt), otherwise why use imputation\n",
        "highest_correlation_feature_columns = ['SalePrice', 'OverallQual','GrLivArea', 'GarageCars','GarageArea','TotalBsmtSF', '1stFlrSF', 'FullBath', 'YearBuilt', 'YearRemodAdd', 'TotRmsAbvGrd', 'LotFrontage', 'MasVnrArea', 'GarageYrBlt' ]\n",
        "\n",
        "\n",
        "# -------- MEAN IMPUTATION START --------\n",
        "\n",
        "# load data\n",
        "data = processedData.copy(deep=True)\n",
        "\n",
        "# mean imputation\n",
        "data.fillna(data.mean(), inplace=True)\n",
        "\n",
        "# select highest correlation features\n",
        "highest_correlation_features = data[highest_correlation_feature_columns]\n",
        "\n",
        "# target variable\n",
        "X_mean = highest_correlation_features.loc[:, highest_correlation_features.columns != 'SalePrice'] \n",
        "\n",
        "# variable to predict\n",
        "y_mean = highest_correlation_features[['SalePrice']]\n",
        "\n",
        "# split\n",
        "X_train, X_test, y_train, y_test = train_test_split(X_mean, y_mean, test_size = 0.2, random_state=2)\n",
        "\n",
        "mean_lin_reg_mod = LinearRegression()\n",
        "\n",
        "mean_lin_reg_mod.fit(X_train, y_train)\n",
        "\n",
        "pred = mean_lin_reg_mod.predict(X_test)\n",
        "\n",
        "# MAE\n",
        "test_set_mae = mean_absolute_error(y_test, pred)\n",
        "MAE.append(test_set_mae)\n",
        "\n",
        "# RMSE\n",
        "test_set_rmse = (np.sqrt(mean_squared_error(y_test, pred)))\n",
        "RMSE.append(test_set_rmse)\n",
        "\n",
        "# R^2\n",
        "test_set_r2 = r2_score(y_test, pred)\n",
        "R2.append(test_set_r2)\n",
        "\n",
        "# MSE\n",
        "test_set_mse = (mean_squared_error(y_test, pred))\n",
        "\n",
        "# -------- MEAN IMPUTATION END --------\n",
        "\n",
        "# -------- MEDIAN IMPUTATION START --------\n",
        "\n",
        "# load data\n",
        "data = processedData.copy(deep=True)\n",
        "\n",
        "# median imputation\n",
        "data.fillna(data.median(), inplace=True)\n",
        "\n",
        "# select highest correlation features\n",
        "highest_correlation_features = data[highest_correlation_feature_columns]\n",
        "\n",
        "# target variable\n",
        "X_median = highest_correlation_features.loc[:, highest_correlation_features.columns != 'SalePrice'] \n",
        "\n",
        "# variable to predict\n",
        "y_median = highest_correlation_features[['SalePrice']]\n",
        "\n",
        "# split\n",
        "X_train, X_test, y_train, y_test = train_test_split(X_median, y_median, test_size = 0.2, random_state=2)\n",
        "\n",
        "median_lin_reg_mod = LinearRegression()\n",
        "\n",
        "median_lin_reg_mod.fit(X_train, y_train)\n",
        "\n",
        "pred = median_lin_reg_mod.predict(X_test)\n",
        "\n",
        "# MAE\n",
        "test_set_mae = mean_absolute_error(y_test, pred)\n",
        "MAE.append(test_set_mae)\n",
        "\n",
        "# RMSE\n",
        "test_set_rmse = (np.sqrt(mean_squared_error(y_test, pred)))\n",
        "RMSE.append(test_set_rmse)\n",
        "\n",
        "# R^2\n",
        "test_set_r2 = r2_score(y_test, pred)\n",
        "R2.append(test_set_r2)\n",
        "\n",
        "# MSE\n",
        "test_set_mse = (mean_squared_error(y_test, pred))\n",
        "\n",
        "# -------- MEDIAN IMPUTATION END --------\n",
        "\n",
        "# -------- MODE IMPUTATION START --------\n",
        "\n",
        "# load data\n",
        "data = processedData.copy(deep=True)\n",
        "\n",
        "# mode imputation\n",
        "for column in data.columns:\n",
        "    data[column].fillna(data[column].mode()[0], inplace=True)\n",
        "\n",
        "# select highest correlation features\n",
        "highest_correlation_features = data[highest_correlation_feature_columns]\n",
        "\n",
        "# target variable\n",
        "X_mode = highest_correlation_features.loc[:, highest_correlation_features.columns != 'SalePrice'] \n",
        "\n",
        "# variable to predict\n",
        "y_mode = highest_correlation_features[['SalePrice']]\n",
        "\n",
        "# split\n",
        "X_train, X_test, y_train, y_test = train_test_split(X_mode, y_mode, test_size = 0.2, random_state=2)\n",
        "\n",
        "mode_lin_reg_mod = LinearRegression()\n",
        "\n",
        "mode_lin_reg_mod.fit(X_train, y_train)\n",
        "\n",
        "pred = mode_lin_reg_mod.predict(X_test)\n",
        "\n",
        "# MAE\n",
        "test_set_mae = mean_absolute_error(y_test, pred)\n",
        "MAE.append(test_set_mae)\n",
        "\n",
        "# RMSE\n",
        "test_set_rmse = (np.sqrt(mean_squared_error(y_test, pred)))\n",
        "RMSE.append(test_set_rmse)\n",
        "\n",
        "# R^2\n",
        "test_set_r2 = r2_score(y_test, pred)\n",
        "R2.append(test_set_r2)\n",
        "\n",
        "# MSE\n",
        "test_set_mse = (mean_squared_error(y_test, pred))\n",
        "\n",
        "# -------- MODE IMPUTATION END --------\n",
        "\n",
        "\n",
        "# -------- DROP IMPUTATION START --------\n",
        "\n",
        "# load data\n",
        "data = processedData.copy(deep=True)\n",
        "\n",
        "# select highest correlation features\n",
        "highest_correlation_features = data[highest_correlation_feature_columns]\n",
        "\n",
        "# drop all NaN values (we're calling it drop imputation because it looks nice)\n",
        "highest_correlation_features = highest_correlation_features.dropna()\n",
        "\n",
        "# target variable\n",
        "X_drop = highest_correlation_features.loc[:, highest_correlation_features.columns != 'SalePrice'] \n",
        "\n",
        "# variable to predict\n",
        "y_drop = highest_correlation_features[['SalePrice']]\n",
        "\n",
        "# split\n",
        "X_train, X_test, y_train, y_test = train_test_split(X_drop, y_drop, test_size = 0.2, random_state=2)\n",
        "\n",
        "drop_lin_reg_mod = LinearRegression()\n",
        "\n",
        "drop_lin_reg_mod.fit(X_train, y_train)\n",
        "\n",
        "pred = drop_lin_reg_mod.predict(X_test)\n",
        "\n",
        "# MAE\n",
        "test_set_mae = mean_absolute_error(y_test, pred)\n",
        "MAE.append(test_set_mae)\n",
        "\n",
        "# RMSE\n",
        "test_set_rmse = (np.sqrt(mean_squared_error(y_test, pred)))\n",
        "RMSE.append(test_set_rmse)\n",
        "\n",
        "# R^2\n",
        "test_set_r2 = r2_score(y_test, pred)\n",
        "R2.append(test_set_r2)\n",
        "\n",
        "# MSE\n",
        "test_set_mse = (mean_squared_error(y_test, pred))\n",
        "\n",
        "# -------- DROP IMPUTATION END --------\n",
        "\n",
        "#print the metrics\n",
        "i = 0\n",
        "\n",
        "for m in methods:\n",
        "    print(\"Method: \" + m + \"  MAE: \" + str(MAE[i]) + \"  RMSE: \" + str(RMSE[i]) + \"  R2: \" + str(R2[i]))\n",
        "    i+=1\n",
        "    \n"
      ],
      "execution_count": null,
      "outputs": [
        {
          "output_type": "stream",
          "name": "stdout",
          "text": [
            "Method: mean imputation  MAE: 0.1154615661666249  RMSE: 0.1579491666641637  R2: 0.8517494201871889\n",
            "Method: median imputation  MAE: 0.11541946430587964  RMSE: 0.15789297772974797  R2: 0.8518548789321119\n",
            "Method: mode imputation  MAE: 0.11502769139890467  RMSE: 0.15722353021780278  R2: 0.8531084512973245\n",
            "Method: dropping missing values  MAE: 0.11489422545036228  RMSE: 0.23352987764098662  R2: 0.6276727081576537\n"
          ]
        }
      ]
    },
    {
      "cell_type": "markdown",
      "metadata": {
        "id": "di6eU4kRJfJt"
      },
      "source": [
        "<font color='red'> **Answer:**</font> Mode imputation worked best. \n",
        "\n",
        "It's also notable that although dropping missing values had the lowest MAE, doing so significantly reduced R2 and increased the RMSE, meaning that the resulting model was still probably worse than the alternatives. This difference is most significant, because it is the only mode of imputation that affects features (columns) without any missing values (77% of features)."
      ]
    },
    {
      "cell_type": "markdown",
      "metadata": {
        "id": "O4mCTiasJfJu"
      },
      "source": [
        "**Please store the best MAE, RMSE, r2_best score in the following variables. We will use these variable to compare ```1.2.7```**"
      ]
    },
    {
      "cell_type": "code",
      "metadata": {
        "id": "XD8eDSFNJfJv"
      },
      "source": [
        "mae_best = 0.11502769139890467\n",
        "rmse_best = 0.15722353021780278\t\n",
        "r2_best = 0.8531084512973245\n",
        "             "
      ],
      "execution_count": null,
      "outputs": []
    },
    {
      "cell_type": "markdown",
      "metadata": {
        "id": "qgkUo5YBJfJv"
      },
      "source": [
        "# 1.2 Principal Component Analysis (PCA) (2 points)\n",
        "Our model performs quite good. But there is always room to make it better and simpler. By simpler, we mean the reducing the dimensionality of the dataset so that we can have a simpler linear regression model. <br> <br>If you noticed after one-hot encoding, we have 270 features (columns) but all these features do not hold the same level of information. For example, the first feature may hold 50% of the information required to make the linear regression acheive the performance we already had; the last, (feature number 270) may contribute to only 0.0000001% to the total output. Hence, adding this last variable (actually there could be more) to our linear regression model (read equation) will only increase the complexity of the model; space, time and computational complexity. Therefore, it is wise and desirable to make the model simpler yet performing the best (better). \n",
        "<br> <br>\n",
        "One such way to reduce the dimensionality of the dataset is known as Pricipal Component Analysis. Using this method, we can find out which features contribute the most in our model, therefore, we can wisely select how many we need. We will perform, PCA in this section of the homework. <br><br>\n",
        "\n",
        "*There is another powerful method for dimensionality reduction, named t-SNE. We will use t-sne in future homework. <br><br>*\n",
        "\n"
      ]
    },
    {
      "cell_type": "markdown",
      "metadata": {
        "id": "Gm5DmYT3JfJv"
      },
      "source": [
        "**1.2.1. From ```1.1.4``` keep the best method to deal with missing values and apply PCA to reduce the number of features. (0.5point)**"
      ]
    },
    {
      "cell_type": "code",
      "metadata": {
        "id": "Zy7hzDhHJfJv"
      },
      "source": [
        "# from sklearn.decomposition import PCA\n",
        "\n",
        "# X = #TODO\n",
        "# y = #TODO\n",
        "#TODO: initialize pca, pass, whiten=True, svd_solver='randomized', random_state=0\n",
        "\n",
        "#TODO: fit pca"
      ],
      "execution_count": null,
      "outputs": []
    },
    {
      "cell_type": "code",
      "source": [
        "data = processedData.copy(deep=True)\n",
        "\n",
        "# Mode Imputation\n",
        "\n",
        "for column in data.columns:\n",
        "    data[column].fillna(data[column].mode()[0], inplace=True)"
      ],
      "metadata": {
        "id": "D97s8XaVDjIA"
      },
      "execution_count": null,
      "outputs": []
    },
    {
      "cell_type": "code",
      "source": [
        "x = data.loc[:, data.columns != 'SalePrice'] \n",
        "y = data[['SalePrice']] "
      ],
      "metadata": {
        "id": "oxb0RGUJD2FE"
      },
      "execution_count": null,
      "outputs": []
    },
    {
      "cell_type": "code",
      "source": [
        "x.shape"
      ],
      "metadata": {
        "id": "U8RUo3iFD1zi",
        "colab": {
          "base_uri": "https://localhost:8080/"
        },
        "outputId": "aa234877-52a3-49f9-b0b0-fd37a5b20435"
      },
      "execution_count": null,
      "outputs": [
        {
          "output_type": "execute_result",
          "data": {
            "text/plain": [
              "(1460, 270)"
            ]
          },
          "metadata": {},
          "execution_count": 291
        }
      ]
    },
    {
      "cell_type": "code",
      "source": [
        "y.shape"
      ],
      "metadata": {
        "id": "PRoqKRejD95b",
        "colab": {
          "base_uri": "https://localhost:8080/"
        },
        "outputId": "63865ed0-0191-41cb-861b-fa35da509d99"
      },
      "execution_count": null,
      "outputs": [
        {
          "output_type": "execute_result",
          "data": {
            "text/plain": [
              "(1460, 1)"
            ]
          },
          "metadata": {},
          "execution_count": 292
        }
      ]
    },
    {
      "cell_type": "code",
      "source": [
        "from sklearn.decomposition import PCA\n"
      ],
      "metadata": {
        "id": "taimgOPHEDXz"
      },
      "execution_count": null,
      "outputs": []
    },
    {
      "cell_type": "code",
      "source": [
        "X = x\n",
        "y = y\n",
        "X = X.to_numpy()\n",
        "\n",
        "#whiten\n",
        "pca = PCA(n_components=270,whiten=True,svd_solver='randomized',random_state=0)\n",
        "pca = pca.fit(X)\n",
        "\n",
        "#new features by PCA\n",
        "dataPCA = pca.transform(X)"
      ],
      "metadata": {
        "id": "aY9Ff1fpEbJa"
      },
      "execution_count": null,
      "outputs": []
    },
    {
      "cell_type": "markdown",
      "metadata": {
        "id": "Y-w3klggJfJw"
      },
      "source": [
        "**1.2.2. What percentage of the variance is explained by the first five components? (0.10 point)**"
      ]
    },
    {
      "cell_type": "code",
      "source": [
        "df_dataPCA = pd.DataFrame(dataPCA)\n",
        "df_dataPCA_5 = df_dataPCA.head(5)\n",
        "df_dataPCA_5"
      ],
      "metadata": {
        "colab": {
          "base_uri": "https://localhost:8080/",
          "height": 236
        },
        "id": "iojxDQwaJzZe",
        "outputId": "012146e5-b829-43a3-a3a4-1e79a20b4cfc"
      },
      "execution_count": null,
      "outputs": [
        {
          "output_type": "execute_result",
          "data": {
            "text/plain": [
              "        0         1         2         3         4         5         6    \\\n",
              "0 -0.206881  0.026013 -0.486965  1.388483 -0.335617 -0.833013 -0.349596   \n",
              "1 -0.091348 -0.014626  1.269713  0.425276 -0.094310 -0.347166  0.320896   \n",
              "2  0.073532  0.122712 -0.806402  0.778285 -0.254811 -0.782075 -0.461805   \n",
              "3 -0.097237 -0.076671 -0.992711  0.340622 -0.194366  0.041531 -0.606840   \n",
              "4  0.376391  0.901920 -0.918456  1.018237 -0.275072 -0.826368 -1.354220   \n",
              "\n",
              "        7         8         9    ...       260       261       262       263  \\\n",
              "0  0.274482  0.088214 -0.917944  ... -0.000016  0.000053 -0.000085  0.000176   \n",
              "1 -0.270839 -0.645449  1.718847  ... -0.000087  0.000293  0.000103  0.000255   \n",
              "2  0.360703 -0.244185 -0.932036  ...  0.000140 -0.000021 -0.000220  0.000397   \n",
              "3  0.084406 -1.184512 -0.969936  ...  0.000582 -0.000241 -0.001068  0.000695   \n",
              "4  0.790226  0.037118  0.257021  ...  0.000026 -0.000050 -0.000046  0.000013   \n",
              "\n",
              "        264       265       266       267       268       269  \n",
              "0  0.000079  0.000014  0.000298  0.000073 -0.000150 -0.000339  \n",
              "1 -0.000024  0.000004 -0.000064  0.000193 -0.000325 -0.000249  \n",
              "2  0.000110 -0.000009  0.000007  0.000208 -0.000315 -0.000180  \n",
              "3  0.000143  0.000114  0.001007 -0.000251 -0.000593  0.000099  \n",
              "4  0.000198  0.000294  0.000533 -0.000080  0.000308 -0.000126  \n",
              "\n",
              "[5 rows x 270 columns]"
            ],
            "text/html": [
              "\n",
              "  <div id=\"df-16a124f8-5ccf-4fb8-869a-caac1153246c\">\n",
              "    <div class=\"colab-df-container\">\n",
              "      <div>\n",
              "<style scoped>\n",
              "    .dataframe tbody tr th:only-of-type {\n",
              "        vertical-align: middle;\n",
              "    }\n",
              "\n",
              "    .dataframe tbody tr th {\n",
              "        vertical-align: top;\n",
              "    }\n",
              "\n",
              "    .dataframe thead th {\n",
              "        text-align: right;\n",
              "    }\n",
              "</style>\n",
              "<table border=\"1\" class=\"dataframe\">\n",
              "  <thead>\n",
              "    <tr style=\"text-align: right;\">\n",
              "      <th></th>\n",
              "      <th>0</th>\n",
              "      <th>1</th>\n",
              "      <th>2</th>\n",
              "      <th>3</th>\n",
              "      <th>4</th>\n",
              "      <th>5</th>\n",
              "      <th>6</th>\n",
              "      <th>7</th>\n",
              "      <th>8</th>\n",
              "      <th>9</th>\n",
              "      <th>...</th>\n",
              "      <th>260</th>\n",
              "      <th>261</th>\n",
              "      <th>262</th>\n",
              "      <th>263</th>\n",
              "      <th>264</th>\n",
              "      <th>265</th>\n",
              "      <th>266</th>\n",
              "      <th>267</th>\n",
              "      <th>268</th>\n",
              "      <th>269</th>\n",
              "    </tr>\n",
              "  </thead>\n",
              "  <tbody>\n",
              "    <tr>\n",
              "      <th>0</th>\n",
              "      <td>-0.206881</td>\n",
              "      <td>0.026013</td>\n",
              "      <td>-0.486965</td>\n",
              "      <td>1.388483</td>\n",
              "      <td>-0.335617</td>\n",
              "      <td>-0.833013</td>\n",
              "      <td>-0.349596</td>\n",
              "      <td>0.274482</td>\n",
              "      <td>0.088214</td>\n",
              "      <td>-0.917944</td>\n",
              "      <td>...</td>\n",
              "      <td>-0.000016</td>\n",
              "      <td>0.000053</td>\n",
              "      <td>-0.000085</td>\n",
              "      <td>0.000176</td>\n",
              "      <td>0.000079</td>\n",
              "      <td>0.000014</td>\n",
              "      <td>0.000298</td>\n",
              "      <td>0.000073</td>\n",
              "      <td>-0.000150</td>\n",
              "      <td>-0.000339</td>\n",
              "    </tr>\n",
              "    <tr>\n",
              "      <th>1</th>\n",
              "      <td>-0.091348</td>\n",
              "      <td>-0.014626</td>\n",
              "      <td>1.269713</td>\n",
              "      <td>0.425276</td>\n",
              "      <td>-0.094310</td>\n",
              "      <td>-0.347166</td>\n",
              "      <td>0.320896</td>\n",
              "      <td>-0.270839</td>\n",
              "      <td>-0.645449</td>\n",
              "      <td>1.718847</td>\n",
              "      <td>...</td>\n",
              "      <td>-0.000087</td>\n",
              "      <td>0.000293</td>\n",
              "      <td>0.000103</td>\n",
              "      <td>0.000255</td>\n",
              "      <td>-0.000024</td>\n",
              "      <td>0.000004</td>\n",
              "      <td>-0.000064</td>\n",
              "      <td>0.000193</td>\n",
              "      <td>-0.000325</td>\n",
              "      <td>-0.000249</td>\n",
              "    </tr>\n",
              "    <tr>\n",
              "      <th>2</th>\n",
              "      <td>0.073532</td>\n",
              "      <td>0.122712</td>\n",
              "      <td>-0.806402</td>\n",
              "      <td>0.778285</td>\n",
              "      <td>-0.254811</td>\n",
              "      <td>-0.782075</td>\n",
              "      <td>-0.461805</td>\n",
              "      <td>0.360703</td>\n",
              "      <td>-0.244185</td>\n",
              "      <td>-0.932036</td>\n",
              "      <td>...</td>\n",
              "      <td>0.000140</td>\n",
              "      <td>-0.000021</td>\n",
              "      <td>-0.000220</td>\n",
              "      <td>0.000397</td>\n",
              "      <td>0.000110</td>\n",
              "      <td>-0.000009</td>\n",
              "      <td>0.000007</td>\n",
              "      <td>0.000208</td>\n",
              "      <td>-0.000315</td>\n",
              "      <td>-0.000180</td>\n",
              "    </tr>\n",
              "    <tr>\n",
              "      <th>3</th>\n",
              "      <td>-0.097237</td>\n",
              "      <td>-0.076671</td>\n",
              "      <td>-0.992711</td>\n",
              "      <td>0.340622</td>\n",
              "      <td>-0.194366</td>\n",
              "      <td>0.041531</td>\n",
              "      <td>-0.606840</td>\n",
              "      <td>0.084406</td>\n",
              "      <td>-1.184512</td>\n",
              "      <td>-0.969936</td>\n",
              "      <td>...</td>\n",
              "      <td>0.000582</td>\n",
              "      <td>-0.000241</td>\n",
              "      <td>-0.001068</td>\n",
              "      <td>0.000695</td>\n",
              "      <td>0.000143</td>\n",
              "      <td>0.000114</td>\n",
              "      <td>0.001007</td>\n",
              "      <td>-0.000251</td>\n",
              "      <td>-0.000593</td>\n",
              "      <td>0.000099</td>\n",
              "    </tr>\n",
              "    <tr>\n",
              "      <th>4</th>\n",
              "      <td>0.376391</td>\n",
              "      <td>0.901920</td>\n",
              "      <td>-0.918456</td>\n",
              "      <td>1.018237</td>\n",
              "      <td>-0.275072</td>\n",
              "      <td>-0.826368</td>\n",
              "      <td>-1.354220</td>\n",
              "      <td>0.790226</td>\n",
              "      <td>0.037118</td>\n",
              "      <td>0.257021</td>\n",
              "      <td>...</td>\n",
              "      <td>0.000026</td>\n",
              "      <td>-0.000050</td>\n",
              "      <td>-0.000046</td>\n",
              "      <td>0.000013</td>\n",
              "      <td>0.000198</td>\n",
              "      <td>0.000294</td>\n",
              "      <td>0.000533</td>\n",
              "      <td>-0.000080</td>\n",
              "      <td>0.000308</td>\n",
              "      <td>-0.000126</td>\n",
              "    </tr>\n",
              "  </tbody>\n",
              "</table>\n",
              "<p>5 rows × 270 columns</p>\n",
              "</div>\n",
              "      <button class=\"colab-df-convert\" onclick=\"convertToInteractive('df-16a124f8-5ccf-4fb8-869a-caac1153246c')\"\n",
              "              title=\"Convert this dataframe to an interactive table.\"\n",
              "              style=\"display:none;\">\n",
              "        \n",
              "  <svg xmlns=\"http://www.w3.org/2000/svg\" height=\"24px\"viewBox=\"0 0 24 24\"\n",
              "       width=\"24px\">\n",
              "    <path d=\"M0 0h24v24H0V0z\" fill=\"none\"/>\n",
              "    <path d=\"M18.56 5.44l.94 2.06.94-2.06 2.06-.94-2.06-.94-.94-2.06-.94 2.06-2.06.94zm-11 1L8.5 8.5l.94-2.06 2.06-.94-2.06-.94L8.5 2.5l-.94 2.06-2.06.94zm10 10l.94 2.06.94-2.06 2.06-.94-2.06-.94-.94-2.06-.94 2.06-2.06.94z\"/><path d=\"M17.41 7.96l-1.37-1.37c-.4-.4-.92-.59-1.43-.59-.52 0-1.04.2-1.43.59L10.3 9.45l-7.72 7.72c-.78.78-.78 2.05 0 2.83L4 21.41c.39.39.9.59 1.41.59.51 0 1.02-.2 1.41-.59l7.78-7.78 2.81-2.81c.8-.78.8-2.07 0-2.86zM5.41 20L4 18.59l7.72-7.72 1.47 1.35L5.41 20z\"/>\n",
              "  </svg>\n",
              "      </button>\n",
              "      \n",
              "  <style>\n",
              "    .colab-df-container {\n",
              "      display:flex;\n",
              "      flex-wrap:wrap;\n",
              "      gap: 12px;\n",
              "    }\n",
              "\n",
              "    .colab-df-convert {\n",
              "      background-color: #E8F0FE;\n",
              "      border: none;\n",
              "      border-radius: 50%;\n",
              "      cursor: pointer;\n",
              "      display: none;\n",
              "      fill: #1967D2;\n",
              "      height: 32px;\n",
              "      padding: 0 0 0 0;\n",
              "      width: 32px;\n",
              "    }\n",
              "\n",
              "    .colab-df-convert:hover {\n",
              "      background-color: #E2EBFA;\n",
              "      box-shadow: 0px 1px 2px rgba(60, 64, 67, 0.3), 0px 1px 3px 1px rgba(60, 64, 67, 0.15);\n",
              "      fill: #174EA6;\n",
              "    }\n",
              "\n",
              "    [theme=dark] .colab-df-convert {\n",
              "      background-color: #3B4455;\n",
              "      fill: #D2E3FC;\n",
              "    }\n",
              "\n",
              "    [theme=dark] .colab-df-convert:hover {\n",
              "      background-color: #434B5C;\n",
              "      box-shadow: 0px 1px 3px 1px rgba(0, 0, 0, 0.15);\n",
              "      filter: drop-shadow(0px 1px 2px rgba(0, 0, 0, 0.3));\n",
              "      fill: #FFFFFF;\n",
              "    }\n",
              "  </style>\n",
              "\n",
              "      <script>\n",
              "        const buttonEl =\n",
              "          document.querySelector('#df-16a124f8-5ccf-4fb8-869a-caac1153246c button.colab-df-convert');\n",
              "        buttonEl.style.display =\n",
              "          google.colab.kernel.accessAllowed ? 'block' : 'none';\n",
              "\n",
              "        async function convertToInteractive(key) {\n",
              "          const element = document.querySelector('#df-16a124f8-5ccf-4fb8-869a-caac1153246c');\n",
              "          const dataTable =\n",
              "            await google.colab.kernel.invokeFunction('convertToInteractive',\n",
              "                                                     [key], {});\n",
              "          if (!dataTable) return;\n",
              "\n",
              "          const docLinkHtml = 'Like what you see? Visit the ' +\n",
              "            '<a target=\"_blank\" href=https://colab.research.google.com/notebooks/data_table.ipynb>data table notebook</a>'\n",
              "            + ' to learn more about interactive tables.';\n",
              "          element.innerHTML = '';\n",
              "          dataTable['output_type'] = 'display_data';\n",
              "          await google.colab.output.renderOutput(dataTable, element);\n",
              "          const docLink = document.createElement('div');\n",
              "          docLink.innerHTML = docLinkHtml;\n",
              "          element.appendChild(docLink);\n",
              "        }\n",
              "      </script>\n",
              "    </div>\n",
              "  </div>\n",
              "  "
            ]
          },
          "metadata": {},
          "execution_count": 295
        }
      ]
    },
    {
      "cell_type": "code",
      "source": [
        "df_dataPCA_5[0][0] / sum(np.diagonal(df_dataPCA_5))"
      ],
      "metadata": {
        "colab": {
          "base_uri": "https://localhost:8080/"
        },
        "id": "phzB-pG0MHCk",
        "outputId": "47c57598-068e-401f-812e-c3a3ca4f4d41"
      },
      "execution_count": null,
      "outputs": [
        {
          "output_type": "execute_result",
          "data": {
            "text/plain": [
              "0.21497250996629552"
            ]
          },
          "metadata": {},
          "execution_count": 296
        }
      ]
    },
    {
      "cell_type": "markdown",
      "metadata": {
        "id": "oQEVP0WjJfJw"
      },
      "source": [
        "<font color='red'> **Answer:**</font> 21.49%"
      ]
    },
    {
      "cell_type": "markdown",
      "metadata": {
        "id": "J7ELb09LJfJw"
      },
      "source": [
        "It would be helpful if we could see all of the variance against the number of components, so a plot would give us a better understanding of the situation. "
      ]
    },
    {
      "cell_type": "markdown",
      "metadata": {
        "id": "u3FzebW5JfJ2"
      },
      "source": [
        "**1.2.3. Please plot the result of PCA you built in ```1.2.1```<br>\n",
        "X-axis=Number of Components, Y-axis=Total explained variance and explain the result.(0.5 point)**"
      ]
    },
    {
      "cell_type": "code",
      "metadata": {
        "id": "Irp6UKBbJfJ3",
        "colab": {
          "base_uri": "https://localhost:8080/",
          "height": 442
        },
        "outputId": "60defada-1d6e-4951-fe4a-0b2daed5941f"
      },
      "source": [
        "import matplotlib.pyplot as plt\n",
        "plt.figure(figsize=(10,7))\n",
        "lw=2\n",
        "plt.plot(dataPCA, color='k', lw=lw)\n",
        "plt.xlabel('Number of components')\n",
        "plt.ylabel('Total explained variance')\n",
        "    \n",
        "#plt.xlim(0, 2000)\n",
        "#plt.yticks(np.arange(0, 1.1, 0.1))\n",
        "\n",
        "plt.axhline(0.9, c='c')\n",
        "plt.show()\n"
      ],
      "execution_count": null,
      "outputs": [
        {
          "output_type": "display_data",
          "data": {
            "text/plain": [
              "<Figure size 720x504 with 1 Axes>"
            ],
            "image/png": "[encoded data removed]"
          },
          "metadata": {
            "needs_background": "light"
          }
        }
      ]
    },
    {
      "cell_type": "markdown",
      "metadata": {
        "id": "WHnlCo-5JfJ3"
      },
      "source": [
        "<font color='red'> **Answer:**</font>"
      ]
    },
    {
      "cell_type": "markdown",
      "metadata": {
        "id": "1_4PB8XRJfJ4"
      },
      "source": [
        "**1.2.5. Again, from ```1.1.4``` keep the best method to deal with missing values and use PCA to reduce the number of features. But you can use only the number of features that are significant in ```1.1.3```, in this case you have to choose an optimum n_component value based on the PCA plot. Otherwise, you can select all of the features and pass the n_components=37. In all cases, keep random_state for PCA equal to 0. (0.20 points)**"
      ]
    },
    {
      "cell_type": "code",
      "metadata": {
        "id": "T5V5J9lkJfJ4"
      },
      "source": [
        "data = processedData.copy(deep=True)\n",
        "\n",
        "# Mode Imputation\n",
        "\n",
        "for column in data.columns:\n",
        "    data[column].fillna(data[column].mode()[0], inplace=True)"
      ],
      "execution_count": null,
      "outputs": []
    },
    {
      "cell_type": "code",
      "source": [
        "x = data.loc[:, data.columns != 'SalePrice'] \n",
        "y = data[['SalePrice']] "
      ],
      "metadata": {
        "id": "DptquPMKU-kW"
      },
      "execution_count": null,
      "outputs": []
    },
    {
      "cell_type": "code",
      "source": [
        "x.shape"
      ],
      "metadata": {
        "colab": {
          "base_uri": "https://localhost:8080/"
        },
        "id": "Hi1sXHx7VB33",
        "outputId": "ac89c77c-8226-474c-8a6b-dd91a22de04e"
      },
      "execution_count": null,
      "outputs": [
        {
          "output_type": "execute_result",
          "data": {
            "text/plain": [
              "(1460, 270)"
            ]
          },
          "metadata": {},
          "execution_count": 300
        }
      ]
    },
    {
      "cell_type": "code",
      "source": [
        "y.shape"
      ],
      "metadata": {
        "colab": {
          "base_uri": "https://localhost:8080/"
        },
        "id": "V_AJxurvVHmN",
        "outputId": "5074c23a-f4bc-4f5b-9066-3626cb0b59f3"
      },
      "execution_count": null,
      "outputs": [
        {
          "output_type": "execute_result",
          "data": {
            "text/plain": [
              "(1460, 1)"
            ]
          },
          "metadata": {},
          "execution_count": 301
        }
      ]
    },
    {
      "cell_type": "code",
      "source": [
        "from sklearn.decomposition import PCA\n",
        "\n",
        "X = x\n",
        "y = y\n",
        "X = X.to_numpy()\n",
        "\n",
        "#whiten\n",
        "pca = PCA(n_components=37,whiten=True,svd_solver='randomized',random_state=0)\n",
        "pca = pca.fit(X)\n",
        "\n",
        "#new features by PCA\n",
        "dataPCA = pca.transform(X)"
      ],
      "metadata": {
        "id": "SitPVvN7VKEn"
      },
      "execution_count": null,
      "outputs": []
    },
    {
      "cell_type": "markdown",
      "metadata": {
        "id": "-ii2fvRuJfJ4"
      },
      "source": [
        "**1.2.6. Use the new components derived from PCA to predict the house prices. Keep the ratio of test and train set to 20/80 and the random_state equal to 0. Report MAE, RMSE and R<sup>2</sup> (0.60 point)** <br>\n",
        "*Hint: Now your training data is different. Please use pca.transform(X) function to create your new training dataset. But make sure you have the fitted pca from ```1.2.5```*"
      ]
    },
    {
      "cell_type": "code",
      "source": [
        "pca_X = pca.transform(X)\n",
        "\n",
        "X_train_pca, X_test_pca, y_train_pca, y_test_pca = train_test_split(dataPCA, y, train_size=0.80, test_size=0.20, random_state=0)"
      ],
      "metadata": {
        "id": "YEyvhjQUc5ul"
      },
      "execution_count": null,
      "outputs": []
    },
    {
      "cell_type": "code",
      "source": [
        "# create the model\n",
        "regressor = LinearRegression() \n",
        "\n",
        "# create the model\n",
        "regressor.fit(X_train, y_train)\n",
        "\n",
        "# make predictiion (test) ## X test???\n",
        "y_predicted_pca = regressor.predict(X_test) \n",
        "\n",
        "# train data: make prediction (train)\n",
        "y_predicted_pca_tr = regressor.predict(X_train)  ## X train ???"
      ],
      "metadata": {
        "id": "_h4fvXeydkL8"
      },
      "execution_count": null,
      "outputs": []
    },
    {
      "cell_type": "code",
      "source": [
        "# Evaluate the model\n",
        "from sklearn.metrics import mean_absolute_error\n",
        "from sklearn.model_selection import train_test_split\n",
        "from sklearn.metrics import mean_squared_error\n",
        "from sklearn.metrics import r2_score\n",
        "\n",
        "# MAE\n",
        "pca_mae = mean_absolute_error(y_test, y_predicted_pca)\n",
        "\n",
        "#MSE\n",
        "test_set_mse = (mean_squared_error(y_test, y_predicted_pca))\n",
        "\n",
        "# RMSE\n",
        "pca_rmse = (np.sqrt(mean_squared_error(y_test, y_predicted_pca)))\n",
        "\n",
        "#R^2\n",
        "pca_r2 = r2_score(y_test, y_predicted_pca)\n",
        "\n",
        "print(\"mean absolute error is: \", pca_mae)\n",
        "print(\"mean squared error is: \", test_set_mse)\n",
        "print(\"root mean squared error is: \", pca_rmse)\n",
        "print(\"rscore: \", pca_r2)"
      ],
      "metadata": {
        "id": "5cPJxbs8dzsL",
        "colab": {
          "base_uri": "https://localhost:8080/"
        },
        "outputId": "0ee16cd8-bb37-4a9b-8ef6-3c9f20da385a"
      },
      "execution_count": null,
      "outputs": [
        {
          "output_type": "stream",
          "name": "stdout",
          "text": [
            "mean absolute error is:  0.11489422545036228\n",
            "mean squared error is:  0.05453620375101418\n",
            "root mean squared error is:  0.23352987764098662\n",
            "rscore:  0.6276727081576537\n"
          ]
        }
      ]
    },
    {
      "cell_type": "markdown",
      "metadata": {
        "id": "BJ8DEaLyJfJ4"
      },
      "source": [
        "**1.2.7 The following cell would calculate the difference between pre-PCA and post-PCA. Please explain the situation based on the differences. (0.1 point)**"
      ]
    },
    {
      "cell_type": "code",
      "metadata": {
        "id": "aLFLGYHnJfJ5",
        "colab": {
          "base_uri": "https://localhost:8080/"
        },
        "outputId": "7d6f6d61-4c52-40d2-efda-515b4e517bed"
      },
      "source": [
        "print(\"MAE difference after PCA: \", pca_mae-mae_best)\n",
        "print(\"RMSE difference after PCA: \", pca_rmse-rmse_best)\n",
        "print(\"R2 difference after PCA: \", pca_r2-r2_best) "
      ],
      "execution_count": null,
      "outputs": [
        {
          "output_type": "stream",
          "name": "stdout",
          "text": [
            "MAE difference after PCA:  -0.00013346594854239668\n",
            "RMSE difference after PCA:  0.07630634742318385\n",
            "R2 difference after PCA:  -0.22543574313967074\n"
          ]
        }
      ]
    },
    {
      "cell_type": "markdown",
      "metadata": {
        "id": "YTZCW4GEJfJ5"
      },
      "source": [
        "<font color='red'> **Answer:**</font> The MAE is slightly better after PCA, but the RMSE has become significantly higher. This could mean that there are a lot of outliars in the data that the post-PCA model isn't accounting for.\n",
        "\n",
        "The post-PCA R<sup>2</sup> is much lower, which indicates that the model's performance has worsened. \n",
        "\n",
        "In conclusion, I would say that post-PCA the model performs much worse. "
      ]
    },
    {
      "cell_type": "markdown",
      "metadata": {
        "id": "MVj81M_uJfJ5"
      },
      "source": [
        "## 1.3 Overfitting (5 points)\n",
        "\n",
        "Now our model is comparatively better than the earlier models. It is less complex yet performs the almost the same. Let's dive a little deeper into the model now. In this section, we will check if the model is overfitting. The concept of overfitting has already been delivered in the lectures. However, if you are interesed in honing it up, please take a look here or anywhere you understand better: https://datascience.foundation/sciencewhitepaper/underfitting-and-overfitting-in-machine-learning\n",
        "<br>\n",
        "<br>\n",
        "Unfortunately it is difficult to know if a model is overfitting or underfitting. One way to know more about model's performance is cross-validation. Cross-validation is also used in the hyperparameter searching to find the best performing model in a given scenario.  \n",
        "We have a few techniques to prevent overfitting and we will focus on \n",
        "- 1.3.1 Cross-validation \n",
        "    - K-Fold cross-validation: Most common (we would apply this one to see the performance of the Linear regression model)\n",
        "    - Leave One Out (LOO): Takes each row as the validation set for once, and trains the model on the rest n-1 rows. Thus, it trains n number of models.\n",
        "\n",
        "    - Leave P-Out (LPO): Creates possible splits after leaving p samples out. For n rows, there would be (nCp) possibile train-test splits.\n",
        "    - (For classification problems) Stratified K-Fold: Ensures relative class proportion is preserved in each train and validation fold. Important when the class label is imbalanced (e.g. 95% label: 1; 5% label: 0).\n",
        "    \n",
        "    *The last three techniques will be discussed in detail in the Lecture 7.* <br><br>\n",
        "    \n",
        "- 1.3.2 Regularization \n",
        "    - L1 (Lasso)    \n",
        "    - L2 (Ridge)\n",
        "\n"
      ]
    },
    {
      "cell_type": "markdown",
      "metadata": {
        "id": "cgnrzErbJfJ5"
      },
      "source": [
        "**1.3.0. Now we have to check if the trained regression model in ```1.1.4``` is overfitting. Please use R<sup>2</sup> value on train and test result to determine the overfitting. Please explain the result from the perspective of the dataset and the value(0.2 point)**"
      ]
    },
    {
      "cell_type": "code",
      "metadata": {
        "id": "-U9AhTxCJfJ5",
        "colab": {
          "base_uri": "https://localhost:8080/"
        },
        "outputId": "8e08ec7f-1193-4a24-9331-49fe4400c8e0"
      },
      "source": [
        "# Let's use the model trained on mode imputation, since that one had the best results\n",
        "X_train, X_test, y_train, y_test = train_test_split(X_mode, y_mode, test_size = 0.2, random_state=2)\n",
        "\n",
        "train_pred = mode_lin_reg_mod.predict(X_train)\n",
        "test_pred = mode_lin_reg_mod.predict(X_test)\n",
        "\n",
        "# R^2\n",
        "train_set_r2 = r2_score(y_train, train_pred)\n",
        "test_set_r2 = r2_score(y_test, test_pred)\n",
        "\n",
        "print(\"Training R2 value: \" + str(train_set_r2))\n",
        "print(\"Testing R2 value: \" + str(test_set_r2))\n"
      ],
      "execution_count": null,
      "outputs": [
        {
          "output_type": "stream",
          "name": "stdout",
          "text": [
            "Training R2 value: 0.8148722026980968\n",
            "Testing R2 value: 0.8531084512973245\n"
          ]
        }
      ]
    },
    {
      "cell_type": "markdown",
      "metadata": {
        "id": "aejhzWfUJfJ6"
      },
      "source": [
        "<font color='red'> **Answer:**</font> The R<sup>2</sup> value is greater on the test data than on the training data. However, the difference between the two R<sup>2</sup> values is pretty small. As a result, we can conclude that the data probably does not have any serious overfitting problems, as that would have caused a significantly lower R<sup>2</sup> value on the testing data. However, there may still be some overfitting present in the model, as the training and test data sets aren't very large and the R<sup>2</sup> value can sometimes be misleading."
      ]
    },
    {
      "cell_type": "markdown",
      "metadata": {
        "id": "la1JX3IhJfJ6"
      },
      "source": [
        "**1.3.1 Please apply K-fold=10 fold cross validation on the training dataset of ```1.1.4``` Keep random_state=1, shuffle=True, while performing cross validation, make sure that return_train_score=True.(0.5 point)**\n"
      ]
    },
    {
      "cell_type": "code",
      "metadata": {
        "id": "7cZsA7alJfJ6",
        "colab": {
          "base_uri": "https://localhost:8080/"
        },
        "outputId": "85d807ca-b032-4020-ee74-61daa38d55fb"
      },
      "source": [
        "from sklearn.model_selection import KFold\n",
        "from sklearn.model_selection import cross_val_score\n",
        "from sklearn.model_selection import cross_validate\n",
        "from numpy import mean\n",
        "from numpy import std\n",
        "\n",
        "cv = KFold(n_splits = 11, shuffle = True, random_state = 1)\n",
        "\n",
        "# create model\n",
        "lm = LinearRegression()\n",
        "\n",
        "# evaluate model using R^2, and MSE as evaluation metrics\n",
        "scores = cross_validate(lm, X_train, y_train, scoring=['r2', 'neg_mean_squared_error'], cv=cv, return_train_score=True)\n",
        "\n",
        "# report performance\n",
        "print('R^2: %.3f (%.3f)' % (mean(scores['test_r2']), std(scores['test_r2'])))\n",
        "print('MSE: %.3f (%.3f)' % (mean(scores['test_neg_mean_squared_error']), std(scores['test_neg_mean_squared_error'])))"
      ],
      "execution_count": null,
      "outputs": [
        {
          "output_type": "stream",
          "name": "stdout",
          "text": [
            "R^2: 0.777 (0.159)\n",
            "MSE: -0.033 (0.021)\n"
          ]
        }
      ]
    },
    {
      "cell_type": "markdown",
      "metadata": {
        "id": "TALQSL6JJfJ6"
      },
      "source": [
        "**1.3.1.2. Please plot the training and test R<sup>2</sup> value where X-axis=number of folds, Y-axis=R<sup>2</sup> value. Explain the plot, if the model shows overfitting or not.(0.3 point)**"
      ]
    },
    {
      "cell_type": "code",
      "metadata": {
        "id": "h6AxRDbsJfJ6",
        "colab": {
          "base_uri": "https://localhost:8080/",
          "height": 405
        },
        "outputId": "59b6db48-46bd-4ff2-b3af-6220210318f0"
      },
      "source": [
        "import matplotlib.pyplot as plt # useful because of work order\n",
        "plt.figure(figsize=(16,6))\n",
        "# plot the trendlines\n",
        "plt.plot(scores['test_r2'])\n",
        "plt.plot(scores['train_r2'])\n",
        "plt.xlabel('number of folds')\n",
        "plt.ylabel('r-squared')\n",
        "plt.legend(['test score', 'train score'], loc='lower left')"
      ],
      "execution_count": null,
      "outputs": [
        {
          "output_type": "execute_result",
          "data": {
            "text/plain": [
              "<matplotlib.legend.Legend at 0x7f7430505fd0>"
            ]
          },
          "metadata": {},
          "execution_count": 309
        },
        {
          "output_type": "display_data",
          "data": {
            "text/plain": [
              "<Figure size 1152x432 with 1 Axes>"
            ],
            "image/png": "[encoded data removed]"
          },
          "metadata": {
            "needs_background": "light"
          }
        }
      ]
    },
    {
      "cell_type": "markdown",
      "metadata": {
        "id": "Qq62bO4LJfJ6"
      },
      "source": [
        "<font color='red'> **Answer:**</font> The result shows that on most folds, the R<sup>2</sup> value on the training data is very close to the R<sup>2</sup> value on the test data. However, on three folds (fold 2, 4 and 6) we can see some clear signs of overfitting, as the R<sup>2</sup> value on test data is much worse compared to the R<sup>2</sup> on training data, even dropping under 0.4 in one case. Based on this, we can assume that the model has some problems with overfitting."
      ]
    },
    {
      "cell_type": "markdown",
      "metadata": {
        "id": "PRU2r7W0JfJ7"
      },
      "source": [
        "**1.3.2  Please apply L1 (Lasso) regularization with variable alpha parameters and report the corresponding alpha value and R<sup>2</sup> value. Use the training split from ```1.1.4``` (1.5 point)**"
      ]
    },
    {
      "cell_type": "code",
      "metadata": {
        "scrolled": true,
        "id": "JBLdIUk6JfJ7",
        "colab": {
          "base_uri": "https://localhost:8080/"
        },
        "outputId": "c45bc9cc-b0b4-48ef-8adc-72285f9aef17"
      },
      "source": [
        "from sklearn.model_selection import KFold\n",
        "from sklearn.model_selection import cross_val_score\n",
        "from numpy import mean\n",
        "from numpy import std\n",
        "import pandas as pd\n",
        "from sklearn.linear_model import Lasso, Ridge\n",
        "\n",
        "\n",
        "cross_val_scores_lasso = [] \n",
        "  \n",
        "# List to maintain the different values of alpha \n",
        "alpha = [] \n",
        "\n",
        "# Split the data again, just in case the user is running cells out of order\n",
        "X_train, X_test, y_train, y_test = train_test_split(X_mode, y_mode, test_size = 0.2, random_state=2)\n",
        "\n",
        "# Loop to for different alpha value \n",
        "for i in range(1, 9): \n",
        "    # formulate the lasso model where alpha=i * 0.0001\n",
        "    lassoModel = Lasso(alpha = i * 0.0001)\n",
        "\n",
        "    # fit the lasso model on whole X, y\n",
        "    lassoModel.fit(X_mode, y_mode)\n",
        "\n",
        "    # perform 10 fold cross validation and store the result in score variable\n",
        "    scores = cross_val_score(lassoModel, X_mode, y_mode, cv=10)\n",
        "    avg_cross_val_score = mean(scores)*100\n",
        "    \n",
        "    cross_val_scores_lasso.append(avg_cross_val_score) \n",
        "    alpha.append(i * 0.0001) \n",
        "  \n",
        "# Loop to print the different values of cross-validation scores \n",
        "for i in range(0, len(alpha)): \n",
        "    print(str(alpha[i])+' : '+str(cross_val_scores_lasso[i])) \n",
        "    \n",
        "    \n"
      ],
      "execution_count": null,
      "outputs": [
        {
          "output_type": "stream",
          "name": "stdout",
          "text": [
            "0.0001 : 80.1865483484265\n",
            "0.0002 : 80.18630344708546\n",
            "0.00030000000000000003 : 80.18729245158124\n",
            "0.0004 : 80.18768625008887\n",
            "0.0005 : 80.18685982218672\n",
            "0.0006000000000000001 : 80.1866589677297\n",
            "0.0007 : 80.1862413242924\n",
            "0.0008 : 80.18609435830726\n"
          ]
        }
      ]
    },
    {
      "cell_type": "markdown",
      "metadata": {
        "id": "8bfFzmDfJfJ7"
      },
      "source": [
        "**1.3.3. Take the best alpha value from ```1.3.2``` and use it to train a new lasso model and report the  R<sup>2</sup> value on test set. Use the train test split from ```1.1.4```. (0.5 point)**"
      ]
    },
    {
      "cell_type": "code",
      "metadata": {
        "id": "26ebQVQ6JfJ7",
        "colab": {
          "base_uri": "https://localhost:8080/"
        },
        "outputId": "41e287df-a4a8-4332-ee6b-c0e11c6592bf"
      },
      "source": [
        "# Building and fitting the Lasso Regression Model \n",
        "from sklearn.model_selection import train_test_split\n",
        "lassoModelBest = Lasso(alpha = 0.0004) # pass the best alpha value\n",
        "\n",
        "# Split the data again, just in case\n",
        "X_train, X_test, y_train, y_test = train_test_split(X_mode, y_mode, test_size = 0.2, random_state=2)\n",
        "\n",
        "#TODO: Fit the model again \n",
        "lassoModelBest.fit(X_train, y_train)\n",
        "  \n",
        "# Evaluating the Lasso Regression model \n",
        "print(lassoModelBest.score(X_test, y_test)) "
      ],
      "execution_count": null,
      "outputs": [
        {
          "output_type": "stream",
          "name": "stdout",
          "text": [
            "0.8529956544260788\n"
          ]
        }
      ]
    },
    {
      "cell_type": "markdown",
      "metadata": {
        "id": "CNhJ6cwkJfJ7"
      },
      "source": [
        "**1.3.4.  Please apply L2 (Ridge) regularization with variable alpha parameters and report the corresponding alpha value and R<sup>2</sup> value. Use the training split from ```1.1.4``` (1.5 point)**\n",
        "\n",
        "N.B. The $alpha$ here in the ridge regularization is the same as $lambda$ you saw in the lecture. We did not initiate the variable with $lambda$ because $lambda$ is a reserved keyword in python which is used to create small anonymous functions. A $lambda$ function can take any number of arguments, but can only have one expression.\n",
        "You can read more about it here: https://www.w3schools.com/python/ref_keyword_lambda.asp#:~:text=The%20lambda%20keyword%20is%20used,and%20the%20result%20is%20returned."
      ]
    },
    {
      "cell_type": "code",
      "metadata": {
        "id": "WQXWz0z4JfJ8",
        "colab": {
          "base_uri": "https://localhost:8080/"
        },
        "outputId": "0e4f81a7-1b3b-48c0-e74f-e7552d35458f"
      },
      "source": [
        "cross_val_scores_ridge = [] \n",
        "  \n",
        "# List to maintain the different values of alpha \n",
        "alpha = [] \n",
        "\n",
        "\n",
        "# Split the data again, just in case the user is running cells out of order\n",
        "X_train, X_test, y_train, y_test = train_test_split(X_mode, y_mode, test_size = 0.2, random_state=2)\n",
        "\n",
        "\n",
        "# Loop to for different alpha value \n",
        "for i in range(1, 9): \n",
        "    #TODO: formulate the ridge model where alpha=i * 0.0001\n",
        "    ridgeModel = Ridge(alpha = i * 0.0001)\n",
        "\n",
        "    #TODO: fit the ridge model on whole X, y\n",
        "    ridgeModel.fit(X_mode, y_mode) \n",
        "\n",
        "    #TODO: perform 10 fold cross validation and store the result in score variable\n",
        "    scores = cross_val_score(ridgeModel, X_mode, y_mode, cv = 10) \n",
        "    avg_cross_val_score = mean(scores)*100\n",
        "    \n",
        "    cross_val_scores_ridge.append(avg_cross_val_score) \n",
        "    alpha.append(i * 0.0001) \n",
        "  \n",
        "# Loop to print the different values of cross-validation scores \n",
        "for i in range(0, len(alpha)): \n",
        "    print(str(alpha[i])+' : '+str(cross_val_scores_ridge[i])) \n",
        "    \n",
        "    \n"
      ],
      "execution_count": null,
      "outputs": [
        {
          "output_type": "stream",
          "name": "stdout",
          "text": [
            "0.0001 : 80.18655508947133\n",
            "0.0002 : 80.1865551888868\n",
            "0.00030000000000000003 : 80.18655528830173\n",
            "0.0004 : 80.18655538771615\n",
            "0.0005 : 80.18655548713005\n",
            "0.0006000000000000001 : 80.18655558654339\n",
            "0.0007 : 80.18655568595625\n",
            "0.0008 : 80.18655578536857\n"
          ]
        }
      ]
    },
    {
      "cell_type": "markdown",
      "metadata": {
        "id": "_3k6yZXNJfJ8"
      },
      "source": [
        "**1.3.5. Take the best alpha value from ```1.3.4``` and use it to train a new ridge model and report the  R<sup>2</sup> value on test set. Use the train test split from ```1.1.4```. (0.5 point)**"
      ]
    },
    {
      "cell_type": "code",
      "metadata": {
        "id": "JB_FtNHeJfJ8",
        "colab": {
          "base_uri": "https://localhost:8080/"
        },
        "outputId": "77be0866-e498-4271-971e-9dc84ce43125"
      },
      "source": [
        "# Building and fitting the Ridge Regression Model \n",
        "from sklearn.model_selection import train_test_split\n",
        "ridgeModelBest = Ridge(0.0003) # pass the best alpha value\n",
        "\n",
        "#TODO: Fit the model again \n",
        "ridgeModelBest.fit(X_train, y_train) \n",
        "  \n",
        "# Evaluating the ridge Regression model \n",
        "print(ridgeModelBest.score(X_test, y_test)) "
      ],
      "execution_count": null,
      "outputs": [
        {
          "output_type": "stream",
          "name": "stdout",
          "text": [
            "0.8531084475797762\n"
          ]
        }
      ]
    }
  ]
}