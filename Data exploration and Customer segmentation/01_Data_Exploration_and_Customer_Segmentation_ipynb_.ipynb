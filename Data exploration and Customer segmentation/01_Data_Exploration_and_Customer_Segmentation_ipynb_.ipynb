{
  "cells": [
    {
      "cell_type": "markdown",
      "metadata": {
        "id": "vrqBoJqvgyEg"
      },
      "source": [
        "### <div class=\"alert alert-block alert-info\"><b></b>\n",
        "<h1><center> <font color='black'> Homework 01  </font></center></h1>\n",
        "<h2><center> <font color='black'> Data Exploration and Customer Segmentation </font></center></h2>    \n"
      ]
    },
    {
      "cell_type": "markdown",
      "metadata": {
        "id": "sCCZbDuZgyEj"
      },
      "source": [
        "# Introduction\n",
        "\n",
        "* In this homework you are going to use Python; specifically Pandas package which is a powerful and handy data analysis and manipulation tool, built on top of the Python programming language. In addition, there are questions related to clustering as well. The tasks are relevant to the tasks from the practice session. So, please make sure to go through the practise session carefully before you attempt to solve this homework.\n",
        "\n",
        "### The homework is divided into four sections and the points are distributed as below:\n",
        "<pre>\n",
        "- Python and Pandas    -> 1.5 points\n",
        "- Understanding data   -> 2.5 points\n",
        "- Data Preparation     -> 1.5 points\n",
        "- Exploring dataset    -> 1.5 points\n",
        "- Basic Clustering     -> 5.0 points\n",
        "_________________________________________\n",
        "Total                  -> 12 points\n",
        "</pre>"
      ]
    },
    {
      "cell_type": "markdown",
      "metadata": {
        "id": "wqOWh3hrgyEk"
      },
      "source": [
        "# 1. Python and Pandas (1.5 points)"
      ]
    },
    {
      "cell_type": "markdown",
      "metadata": {
        "id": "xOZOWT9xgyEl"
      },
      "source": [
        "First, let's import pandas package as pd and read data from the CSV file into a pandas DataFrame."
      ]
    },
    {
      "cell_type": "code",
      "execution_count": null,
      "metadata": {
        "id": "CuwdGoezgyEm"
      },
      "outputs": [],
      "source": [
        "import pandas as pd\n",
        " \n",
        "data = pd.read_csv('abalone.csv')"
      ]
    },
    {
      "cell_type": "markdown",
      "metadata": {
        "id": "XLssOWbLgyEq"
      },
      "source": [
        "`Question 1.0` is an example of how you should answer the following questions. First, in the `#TODO` cell you have to write the code representing your solution. And in the answer cell write the answer with your own words. Please make sure your sentences should be clear enough. Try to avoid abbreviations and short sentences."
      ]
    },
    {
      "cell_type": "markdown",
      "metadata": {
        "id": "NiAAHDUUgyEr"
      },
      "source": [
        " **1.0. What is overall memory consumption of the data?** (EXAMPLE)"
      ]
    },
    {
      "cell_type": "code",
      "execution_count": null,
      "metadata": {
        "id": "IgejyfJXgyEs",
        "colab": {
          "base_uri": "https://localhost:8080/"
        },
        "outputId": "c279b0a2-f051-4a15-80ee-6e4b7dab3a6c"
      },
      "outputs": [
        {
          "output_type": "execute_result",
          "data": {
            "text/plain": [
              "98128"
            ]
          },
          "metadata": {},
          "execution_count": 56
        }
      ],
      "source": [
        "# TODO - here you have to write the code.\n",
        "data.memory_usage(deep=True).sum()"
      ]
    },
    {
      "cell_type": "markdown",
      "metadata": {
        "id": "e4vjuR2_gyEu"
      },
      "source": [
        "* Provide description based on the outcome of the cell above. Please describe as much as possible and as little as required. If you are asked to display a dataframe, you can use the code cells and display the dataframe in the output. You can also use the answer cell (markdown type) for descriptive answers.<br> <br>\n",
        "**<font color='red'>Answer:</font>** The total memory usage is 98128 bytes (98.128 kB)."
      ]
    },
    {
      "cell_type": "markdown",
      "metadata": {
        "id": "VvZjPHCegyEv"
      },
      "source": [
        " **1.1. How many variables (features) are in the dataset? State the feature names. (0.10 point)** <br>\n",
        " Hint: Variables or features are the number of columns in a dataset."
      ]
    },
    {
      "cell_type": "code",
      "execution_count": null,
      "metadata": {
        "id": "q4Aiwr-TgyEw",
        "colab": {
          "base_uri": "https://localhost:8080/"
        },
        "outputId": "d768ffab-1e52-48ce-8f6d-d5eaffe9f675"
      },
      "outputs": [
        {
          "output_type": "stream",
          "name": "stdout",
          "text": [
            "Index(['Gender', 'Length', 'Diameter', 'Height', 'Weight', 'Rings'], dtype='object')\n",
            "6\n"
          ]
        }
      ],
      "source": [
        "print(data.columns)\n",
        "print(len(data.columns))"
      ]
    },
    {
      "cell_type": "markdown",
      "metadata": {
        "id": "ISRKVsizgyEy"
      },
      "source": [
        "**<font color='red'>Answer:</font>** 11 variables with the following feature names: age, workclass, education, occupation, capital.gain,\n",
        "       capital.loss, native.country, salaries, jobsatisfaction, male,\n",
        "       female."
      ]
    },
    {
      "cell_type": "markdown",
      "metadata": {
        "id": "B9QwvJRAgyEz"
      },
      "source": [
        "**1.2. How many observations (i.e. rows) are in this data frame?** **(0.10 point)**\n"
      ]
    },
    {
      "cell_type": "code",
      "execution_count": null,
      "metadata": {
        "id": "7Sf3o8PzgyE0",
        "colab": {
          "base_uri": "https://localhost:8080/"
        },
        "outputId": "c1292830-a607-43d4-ceef-8e84eef0a1ec"
      },
      "outputs": [
        {
          "output_type": "execute_result",
          "data": {
            "text/plain": [
              "1000"
            ]
          },
          "metadata": {},
          "execution_count": 58
        }
      ],
      "source": [
        "len(data)\n"
      ]
    },
    {
      "cell_type": "markdown",
      "metadata": {
        "id": "gGNbN-ttgyE2"
      },
      "source": [
        "**<font color='red'>Answer:</font>** 1000 observations"
      ]
    },
    {
      "cell_type": "markdown",
      "source": [
        ""
      ],
      "metadata": {
        "id": "1voYE3UpkD5I"
      }
    },
    {
      "cell_type": "markdown",
      "metadata": {
        "id": "7bNY26vggyE4"
      },
      "source": [
        "**1.3. Print the first 5 lines from the dataset. What are the values of feature `Rings`?** **(0.10 point)**"
      ]
    },
    {
      "cell_type": "code",
      "execution_count": null,
      "metadata": {
        "id": "pozF0WCagyE5",
        "colab": {
          "base_uri": "https://localhost:8080/"
        },
        "outputId": "7036713b-3698-4c9f-b58e-ed6da0f752b4"
      },
      "outputs": [
        {
          "output_type": "stream",
          "name": "stdout",
          "text": [
            "  Gender  Length  Diameter  Height  Weight  Rings\n",
            "0      F   0.505     0.385   0.135  0.6185     12\n",
            "1      F   0.650     0.475   0.165  1.3875      9\n",
            "2      I   0.520     0.380   0.135  0.5395      8\n",
            "3      F   0.550     0.425   0.140  0.9520      7\n",
            "4      M   0.640     0.525   0.180  1.3135     10\n",
            "0    12\n",
            "1     9\n",
            "2     8\n",
            "3     7\n",
            "4    10\n",
            "Name: Rings, dtype: int64\n"
          ]
        }
      ],
      "source": [
        "print(data.head(5))\n",
        "\n",
        "print(data.head(5)['Rings'])\n"
      ]
    },
    {
      "cell_type": "markdown",
      "metadata": {
        "id": "i3S6mDeJgyE7"
      },
      "source": [
        "**<font color='red'>Answer:</font>** values of feature Rings are 12, 9, 9, 7, 10."
      ]
    },
    {
      "cell_type": "markdown",
      "metadata": {
        "id": "CKvqW0PYgyE8"
      },
      "source": [
        "**1.4. Extract the last 3 rows of the data frame. What are the values of feature `Weight`?** **(0.10 point)**"
      ]
    },
    {
      "cell_type": "code",
      "execution_count": null,
      "metadata": {
        "id": "yFQPHLnVgyE8",
        "colab": {
          "base_uri": "https://localhost:8080/"
        },
        "outputId": "7b0cc873-8aba-4cb5-d30f-199df7d83a95"
      },
      "outputs": [
        {
          "output_type": "stream",
          "name": "stdout",
          "text": [
            "    Gender  Length  Diameter  Height  Weight  Rings\n",
            "997      M   0.660     0.500   0.165  1.3195      9\n",
            "998      I   0.525     0.400   0.130  0.6455      8\n",
            "999      M   0.515     0.395   0.135  1.0070      8\n",
            "997    1.3195\n",
            "998    0.6455\n",
            "999    1.0070\n",
            "Name: Weight, dtype: float64\n"
          ]
        }
      ],
      "source": [
        "print(data.tail(3))\n",
        "print(data.tail(3)['Weight'])"
      ]
    },
    {
      "cell_type": "markdown",
      "metadata": {
        "id": "5e46xJ0WgyE-"
      },
      "source": [
        "**<font color='red'>Answer:</font>** values of feature Weight are 1.3195, 0.6455, 1.0070"
      ]
    },
    {
      "cell_type": "markdown",
      "metadata": {
        "id": "IAG09Z2SgyE_"
      },
      "source": [
        "**1.5. What is the value of diameter in the row 575?** **(0.25 point)**"
      ]
    },
    {
      "cell_type": "code",
      "execution_count": null,
      "metadata": {
        "id": "e6p3_5BSgyFA",
        "colab": {
          "base_uri": "https://localhost:8080/"
        },
        "outputId": "0edbe8a9-d0ff-4692-f6d8-fb6b49a89d5a"
      },
      "outputs": [
        {
          "output_type": "execute_result",
          "data": {
            "text/plain": [
              "0.265"
            ]
          },
          "metadata": {},
          "execution_count": 61
        }
      ],
      "source": [
        "data.iloc[575]['Diameter']\n"
      ]
    },
    {
      "cell_type": "markdown",
      "metadata": {
        "id": "PbMP_QZigyFC"
      },
      "source": [
        "**1.6. What are the mean, median and third (75%) quartile value of the height column?** **(0.25 point)** <br>\n",
        "Hint: Use pandas describe() method"
      ]
    },
    {
      "cell_type": "code",
      "execution_count": null,
      "metadata": {
        "id": "Zsjdbu1MgyFD",
        "scrolled": true,
        "colab": {
          "base_uri": "https://localhost:8080/"
        },
        "outputId": "61786a20-208f-4f6f-d3de-a6a64129d436"
      },
      "outputs": [
        {
          "output_type": "stream",
          "name": "stdout",
          "text": [
            "            Length     Diameter       Height       Weight        Rings\n",
            "count  1000.000000  1000.000000  1000.000000  1000.000000  1000.000000\n",
            "mean      0.522760     0.405955     0.141100     0.825540    11.318000\n",
            "std       0.120064     0.098832     0.057064     0.490380    47.227697\n",
            "min       0.075000     0.055000     0.000000     0.002000     1.000000\n",
            "25%       0.450000     0.345000     0.115000     0.438875     8.000000\n",
            "50%       0.545000     0.420000     0.145000     0.801000     9.000000\n",
            "75%       0.615000     0.480000     0.165000     1.146250    11.000000\n",
            "max       0.815000     0.650000     1.130000     2.555000  1500.000000\n",
            "0.1410999999999999\n",
            "0.145\n",
            "0.165\n"
          ]
        }
      ],
      "source": [
        "print(data.describe())\n",
        "\n",
        "print(data[\"Height\"].mean())\n",
        "print(data[\"Height\"].median())\n",
        "print(data[\"Height\"].quantile(q=0.75))\n"
      ]
    },
    {
      "cell_type": "markdown",
      "metadata": {
        "id": "MXUVEljWgyFF"
      },
      "source": [
        "**<font color='red'>Answer:</font>** the mean is 0.1410999999999999, the median is 0.145, and the quartile is 0.165"
      ]
    },
    {
      "cell_type": "markdown",
      "metadata": {
        "id": "rqK3C2AZgyFF"
      },
      "source": [
        "**1.7. Show the subset of rows from the data frame where `Gender` is F and `Weight` values are above 0.75. What is the mean of `Diameter` in this subset?** **(0.30 point)**"
      ]
    },
    {
      "cell_type": "code",
      "execution_count": null,
      "metadata": {
        "id": "0QpY4bo0gyFG",
        "colab": {
          "base_uri": "https://localhost:8080/"
        },
        "outputId": "40ae6957-38bb-4a30-c7f8-107e60939203"
      },
      "outputs": [
        {
          "output_type": "stream",
          "name": "stdout",
          "text": [
            "    Gender  Length  Diameter  Height  Weight  Rings\n",
            "1        F   0.650     0.475   0.165  1.3875      9\n",
            "3        F   0.550     0.425   0.140  0.9520      7\n",
            "10       F   0.585     0.455   0.130  0.8755      8\n",
            "14       F   0.660     0.530   0.185  1.3460     11\n",
            "27       F   0.580     0.475   0.165  1.0385     13\n",
            "..     ...     ...       ...     ...     ...    ...\n",
            "976      F   0.545     0.385   0.150  1.1185      9\n",
            "978      F   0.605     0.450   0.195  1.0980     13\n",
            "982      F   0.670     0.540   0.165  1.5015     14\n",
            "990      F   0.680     0.550   0.200  1.5960     21\n",
            "991      F   0.670     0.525   0.195  1.4200     10\n",
            "\n",
            "[225 rows x 6 columns]\n",
            "0.48102222222222213\n"
          ]
        }
      ],
      "source": [
        "print(data[(data['Gender'] == 'F') & (data['Weight']>0.75)])\n",
        "print(data[(data['Gender'] == 'F') & (data['Weight']>0.75)]['Diameter'].mean())\n",
        "\n"
      ]
    },
    {
      "cell_type": "markdown",
      "metadata": {
        "id": "YaMEfs3ogyFJ"
      },
      "source": [
        "**<font color='red'>Answer:</font>** the mean of Diameter in this subset is 0.48102222222222213"
      ]
    },
    {
      "cell_type": "markdown",
      "metadata": {
        "id": "B7Yd8ZPSgyFK"
      },
      "source": [
        "**1.8. Show the subset of rows from the dataframe where `Rings` values are exactly 18? <br>\n",
        "Find the minimum value of `Length` of this subset** **(0.30 point)**"
      ]
    },
    {
      "cell_type": "code",
      "execution_count": null,
      "metadata": {
        "id": "_IeMWswJgyFK",
        "colab": {
          "base_uri": "https://localhost:8080/"
        },
        "outputId": "7b9907fe-7663-44d3-cdbb-4c6324783d8c"
      },
      "outputs": [
        {
          "output_type": "stream",
          "name": "stdout",
          "text": [
            "    Gender  Length  Diameter  Height  Weight  Rings\n",
            "84       F   0.725     0.560   0.210  2.1410     18\n",
            "122      F   0.500     0.405   0.140  0.6735     18\n",
            "249      M   0.525     0.425   0.120  0.8665     18\n",
            "260      M   0.520     0.435   0.195  0.9730     18\n",
            "322      F   0.660     0.525   0.205  1.3665     18\n",
            "336      F   0.465     0.350   0.130  0.4940     18\n",
            "500      F   0.635     0.500   0.180  1.3120     18\n",
            "589      F   0.545     0.405   0.175  0.9800     18\n",
            "629      M   0.570     0.475   0.195  1.0295     18\n",
            "725      F   0.600     0.475   0.180  1.1620     18\n",
            "798      I   0.525     0.410   0.175  0.8740     18\n",
            "855      F   0.575     0.450   0.170  1.0475     18\n",
            "0.465\n"
          ]
        }
      ],
      "source": [
        "print(data[data['Rings']==18])\n",
        "print(data[data['Rings']==18]['Length'].min())\n"
      ]
    },
    {
      "cell_type": "markdown",
      "metadata": {
        "id": "8tbre7YtgyFM"
      },
      "source": [
        "**<font color='red'>Answer:</font>**  the minimum value of Length of this subset is 0.465"
      ]
    },
    {
      "cell_type": "markdown",
      "metadata": {
        "id": "sDL-xKNugyFN"
      },
      "source": [
        "# 2.  Understanding Data (2.5 point)"
      ]
    },
    {
      "cell_type": "markdown",
      "metadata": {
        "id": "hyESgblXgyFN"
      },
      "source": [
        "Data loading, describing, exploring, and verifying the quality of the data are <b>pivotal</b> to any data analysis task. <br>\n",
        "We will work with a new dataset, 'adult.csv',in this section. You will be asked to perform the mentioned tasks on this dataset.<br>"
      ]
    },
    {
      "cell_type": "markdown",
      "metadata": {
        "id": "qqaqaUAtgyFO"
      },
      "source": [
        "**2.0. Load data from the  `adult.csv` file.** <br>\n",
        "Hint 1: The extension of the filename may not always reflect the structure of data precisely. Are the values comma-separated (csv) or not? "
      ]
    },
    {
      "cell_type": "code",
      "execution_count": null,
      "metadata": {
        "id": "MiipOOJ0gyFP",
        "scrolled": false,
        "outputId": "60ecf551-8224-4692-8c6b-7f3068b84daa",
        "colab": {
          "base_uri": "https://localhost:8080/",
          "height": 238
        }
      },
      "outputs": [
        {
          "output_type": "execute_result",
          "data": {
            "text/html": [
              "\n",
              "  <div id=\"df-47f96026-af11-43c9-9185-e6110ef820f3\">\n",
              "    <div class=\"colab-df-container\">\n",
              "      <div>\n",
              "<style scoped>\n",
              "    .dataframe tbody tr th:only-of-type {\n",
              "        vertical-align: middle;\n",
              "    }\n",
              "\n",
              "    .dataframe tbody tr th {\n",
              "        vertical-align: top;\n",
              "    }\n",
              "\n",
              "    .dataframe thead th {\n",
              "        text-align: right;\n",
              "    }\n",
              "</style>\n",
              "<table border=\"1\" class=\"dataframe\">\n",
              "  <thead>\n",
              "    <tr style=\"text-align: right;\">\n",
              "      <th></th>\n",
              "      <th>age</th>\n",
              "      <th>workclass</th>\n",
              "      <th>education</th>\n",
              "      <th>occupation</th>\n",
              "      <th>capital.gain</th>\n",
              "      <th>capital.loss</th>\n",
              "      <th>native.country</th>\n",
              "      <th>salaries</th>\n",
              "      <th>jobsatisfaction</th>\n",
              "      <th>male</th>\n",
              "      <th>female</th>\n",
              "    </tr>\n",
              "    <tr>\n",
              "      <th>X</th>\n",
              "      <th></th>\n",
              "      <th></th>\n",
              "      <th></th>\n",
              "      <th></th>\n",
              "      <th></th>\n",
              "      <th></th>\n",
              "      <th></th>\n",
              "      <th></th>\n",
              "      <th></th>\n",
              "      <th></th>\n",
              "      <th></th>\n",
              "    </tr>\n",
              "  </thead>\n",
              "  <tbody>\n",
              "    <tr>\n",
              "      <th>0</th>\n",
              "      <td>39</td>\n",
              "      <td>State-gov</td>\n",
              "      <td>Bachelors</td>\n",
              "      <td>Adm-clerical</td>\n",
              "      <td>2174</td>\n",
              "      <td>0</td>\n",
              "      <td>United-States</td>\n",
              "      <td>43136.0</td>\n",
              "      <td>0</td>\n",
              "      <td>1.0</td>\n",
              "      <td>NaN</td>\n",
              "    </tr>\n",
              "    <tr>\n",
              "      <th>1</th>\n",
              "      <td>50</td>\n",
              "      <td>Self-emp-not-inc</td>\n",
              "      <td>Bachelors</td>\n",
              "      <td>Exec-managerial</td>\n",
              "      <td>0</td>\n",
              "      <td>0</td>\n",
              "      <td>UnitedStates</td>\n",
              "      <td>46209.0</td>\n",
              "      <td>7</td>\n",
              "      <td>1.0</td>\n",
              "      <td>NaN</td>\n",
              "    </tr>\n",
              "    <tr>\n",
              "      <th>2</th>\n",
              "      <td>38</td>\n",
              "      <td>privat</td>\n",
              "      <td>HS-grad</td>\n",
              "      <td>Handlers-cleaners</td>\n",
              "      <td>0</td>\n",
              "      <td>0</td>\n",
              "      <td>United-States</td>\n",
              "      <td>28937.0</td>\n",
              "      <td>6</td>\n",
              "      <td>1.0</td>\n",
              "      <td>NaN</td>\n",
              "    </tr>\n",
              "    <tr>\n",
              "      <th>3</th>\n",
              "      <td>53</td>\n",
              "      <td>privat</td>\n",
              "      <td>11th</td>\n",
              "      <td>Handlers-cleaners</td>\n",
              "      <td>0</td>\n",
              "      <td>0</td>\n",
              "      <td>United-States</td>\n",
              "      <td>33658.0</td>\n",
              "      <td>6</td>\n",
              "      <td>1.0</td>\n",
              "      <td>NaN</td>\n",
              "    </tr>\n",
              "    <tr>\n",
              "      <th>4</th>\n",
              "      <td>28</td>\n",
              "      <td>privat</td>\n",
              "      <td>Bachelors</td>\n",
              "      <td>Prof-specialty</td>\n",
              "      <td>0</td>\n",
              "      <td>0</td>\n",
              "      <td>Cuba</td>\n",
              "      <td>34372.0</td>\n",
              "      <td>12</td>\n",
              "      <td>NaN</td>\n",
              "      <td>1.0</td>\n",
              "    </tr>\n",
              "  </tbody>\n",
              "</table>\n",
              "</div>\n",
              "      <button class=\"colab-df-convert\" onclick=\"convertToInteractive('df-47f96026-af11-43c9-9185-e6110ef820f3')\"\n",
              "              title=\"Convert this dataframe to an interactive table.\"\n",
              "              style=\"display:none;\">\n",
              "        \n",
              "  <svg xmlns=\"http://www.w3.org/2000/svg\" height=\"24px\"viewBox=\"0 0 24 24\"\n",
              "       width=\"24px\">\n",
              "    <path d=\"M0 0h24v24H0V0z\" fill=\"none\"/>\n",
              "    <path d=\"M18.56 5.44l.94 2.06.94-2.06 2.06-.94-2.06-.94-.94-2.06-.94 2.06-2.06.94zm-11 1L8.5 8.5l.94-2.06 2.06-.94-2.06-.94L8.5 2.5l-.94 2.06-2.06.94zm10 10l.94 2.06.94-2.06 2.06-.94-2.06-.94-.94-2.06-.94 2.06-2.06.94z\"/><path d=\"M17.41 7.96l-1.37-1.37c-.4-.4-.92-.59-1.43-.59-.52 0-1.04.2-1.43.59L10.3 9.45l-7.72 7.72c-.78.78-.78 2.05 0 2.83L4 21.41c.39.39.9.59 1.41.59.51 0 1.02-.2 1.41-.59l7.78-7.78 2.81-2.81c.8-.78.8-2.07 0-2.86zM5.41 20L4 18.59l7.72-7.72 1.47 1.35L5.41 20z\"/>\n",
              "  </svg>\n",
              "      </button>\n",
              "      \n",
              "  <style>\n",
              "    .colab-df-container {\n",
              "      display:flex;\n",
              "      flex-wrap:wrap;\n",
              "      gap: 12px;\n",
              "    }\n",
              "\n",
              "    .colab-df-convert {\n",
              "      background-color: #E8F0FE;\n",
              "      border: none;\n",
              "      border-radius: 50%;\n",
              "      cursor: pointer;\n",
              "      display: none;\n",
              "      fill: #1967D2;\n",
              "      height: 32px;\n",
              "      padding: 0 0 0 0;\n",
              "      width: 32px;\n",
              "    }\n",
              "\n",
              "    .colab-df-convert:hover {\n",
              "      background-color: #E2EBFA;\n",
              "      box-shadow: 0px 1px 2px rgba(60, 64, 67, 0.3), 0px 1px 3px 1px rgba(60, 64, 67, 0.15);\n",
              "      fill: #174EA6;\n",
              "    }\n",
              "\n",
              "    [theme=dark] .colab-df-convert {\n",
              "      background-color: #3B4455;\n",
              "      fill: #D2E3FC;\n",
              "    }\n",
              "\n",
              "    [theme=dark] .colab-df-convert:hover {\n",
              "      background-color: #434B5C;\n",
              "      box-shadow: 0px 1px 3px 1px rgba(0, 0, 0, 0.15);\n",
              "      filter: drop-shadow(0px 1px 2px rgba(0, 0, 0, 0.3));\n",
              "      fill: #FFFFFF;\n",
              "    }\n",
              "  </style>\n",
              "\n",
              "      <script>\n",
              "        const buttonEl =\n",
              "          document.querySelector('#df-47f96026-af11-43c9-9185-e6110ef820f3 button.colab-df-convert');\n",
              "        buttonEl.style.display =\n",
              "          google.colab.kernel.accessAllowed ? 'block' : 'none';\n",
              "\n",
              "        async function convertToInteractive(key) {\n",
              "          const element = document.querySelector('#df-47f96026-af11-43c9-9185-e6110ef820f3');\n",
              "          const dataTable =\n",
              "            await google.colab.kernel.invokeFunction('convertToInteractive',\n",
              "                                                     [key], {});\n",
              "          if (!dataTable) return;\n",
              "\n",
              "          const docLinkHtml = 'Like what you see? Visit the ' +\n",
              "            '<a target=\"_blank\" href=https://colab.research.google.com/notebooks/data_table.ipynb>data table notebook</a>'\n",
              "            + ' to learn more about interactive tables.';\n",
              "          element.innerHTML = '';\n",
              "          dataTable['output_type'] = 'display_data';\n",
              "          await google.colab.output.renderOutput(dataTable, element);\n",
              "          const docLink = document.createElement('div');\n",
              "          docLink.innerHTML = docLinkHtml;\n",
              "          element.appendChild(docLink);\n",
              "        }\n",
              "      </script>\n",
              "    </div>\n",
              "  </div>\n",
              "  "
            ],
            "text/plain": [
              "  age          workclass   education          occupation  capital.gain  \\\n",
              "X                                                                        \n",
              "0  39          State-gov   Bachelors        Adm-clerical          2174   \n",
              "1  50   Self-emp-not-inc   Bachelors     Exec-managerial             0   \n",
              "2  38             privat     HS-grad   Handlers-cleaners             0   \n",
              "3  53             privat        11th   Handlers-cleaners             0   \n",
              "4  28             privat   Bachelors      Prof-specialty             0   \n",
              "\n",
              "   capital.loss  native.country  salaries jobsatisfaction  male  female  \n",
              "X                                                                        \n",
              "0             0   United-States   43136.0               0   1.0     NaN  \n",
              "1             0    UnitedStates   46209.0               7   1.0     NaN  \n",
              "2             0   United-States   28937.0               6   1.0     NaN  \n",
              "3             0   United-States   33658.0               6   1.0     NaN  \n",
              "4             0            Cuba   34372.0              12   NaN     1.0  "
            ]
          },
          "metadata": {},
          "execution_count": 106
        }
      ],
      "source": [
        "import numpy as np\n",
        "import pandas as pd\n",
        "\n",
        "\n",
        "data = pd.read_csv(\"adult.csv\", sep='\\t', index_col=0)\n",
        "#data = data.dropna()\n",
        "data.head()"
      ]
    },
    {
      "cell_type": "markdown",
      "metadata": {
        "id": "kfVl2ZCYgyFR"
      },
      "source": [
        "**2.1. Name all the columns in this dataset and describe the meaning of each column in one sentence. (0.25 points)** <br>"
      ]
    },
    {
      "cell_type": "code",
      "source": [
        "print(list(data.columns))"
      ],
      "metadata": {
        "colab": {
          "base_uri": "https://localhost:8080/"
        },
        "id": "One-VH4LlJU2",
        "outputId": "03580604-8212-4642-f60a-f9d2dd81f80e"
      },
      "execution_count": null,
      "outputs": [
        {
          "output_type": "stream",
          "name": "stdout",
          "text": [
            "['age', 'workclass', 'education', 'occupation', 'capital.gain', 'capital.loss', 'native.country', 'salaries', 'jobsatisfaction', 'male', 'female']\n"
          ]
        }
      ]
    },
    {
      "cell_type": "markdown",
      "metadata": {
        "id": "m7LD_44EgyFU"
      },
      "source": [
        "**<font color='red'>Answer:</font>** there are general personal parameters: 'age, 'workclass', 'education', 'occupation', 'capital.gain', 'capital.loss', 'native.country', 'salaries', 'jobsatisfaction', 'male', 'female'."
      ]
    },
    {
      "cell_type": "markdown",
      "metadata": {
        "id": "3qgkWuAQgyFU"
      },
      "source": [
        "####  2.1.1.Visualization is one of the easiest ways to get a good overview of the data, notice any peculiarity, or outliers. <br>In the following subtasks, you will have to visualize the distribution of the values for different features using appropriate diagrams. "
      ]
    },
    {
      "cell_type": "code",
      "execution_count": null,
      "metadata": {
        "id": "seKrq_6pgyFV"
      },
      "outputs": [],
      "source": [
        "# Matplotlib is a Python 2D plotting library which produces publication quality figures in a variety of hardcopy formats \n",
        "# and interactive environments across platforms. Matplotlib can be used in Python scripts, the Python and IPython shells, \n",
        "# Jupyter notebook, web application servers, and for graphical user interface toolkits.\n",
        "import matplotlib.pyplot as plt\n",
        "\n",
        "# allows to output plots in the notebook\n",
        "%matplotlib inline \n",
        "\n",
        "# Set the default style\n",
        "plt.style.use(\"ggplot\") "
      ]
    },
    {
      "cell_type": "markdown",
      "metadata": {
        "id": "nGn22mj5gyFX"
      },
      "source": [
        "As an example, here is the frequency histogram of \"age\" column, where age is an attribute of type **numeric**:"
      ]
    },
    {
      "cell_type": "code",
      "execution_count": null,
      "metadata": {
        "id": "70TQxyBkgyFX",
        "colab": {
          "base_uri": "https://localhost:8080/",
          "height": 262
        },
        "outputId": "7717b207-f94e-4fb9-b29a-4c049539588b"
      },
      "outputs": [
        {
          "output_type": "display_data",
          "data": {
            "image/png": "[encoded data removed]",
            "text/plain": [
              "<Figure size 432x288 with 1 Axes>"
            ]
          },
          "metadata": {}
        }
      ],
      "source": [
        "# Columns may contain non-numeric values, errors or missing values. Therefore, non-numeric values must be dealt with.\n",
        "if data is not ...:\n",
        "    pd.to_numeric(data['age'], errors='coerce').hist(bins=30) # ‘coerce’ -> invalid parsing will be set as NaN\n",
        "else:\n",
        "    print('Please define `data` in earlier subtasks')"
      ]
    },
    {
      "cell_type": "markdown",
      "metadata": {
        "id": "7sHWWIhygyFZ"
      },
      "source": [
        "**2.2. Specify the type of `workclass` attribute (nominal / ordinal / numeric). Choose an appropriate chart to visualise the frequency distribution for the values of `workclass`. (0.25 points)** <br>\n",
        "Hint: Do not forget the data preprocessing part. First look for any unusual value in the specific column and deal with it appropriately. You do not necessarily need to eyeball each of the rows. But you can think of other ways perhaps. The original dataset uses '?' for missing values"
      ]
    },
    {
      "cell_type": "markdown",
      "metadata": {
        "id": "fn8nRBz8gyFa"
      },
      "source": [
        "**<font color='red'>Attribute type :</font>** Nominal."
      ]
    },
    {
      "cell_type": "code",
      "execution_count": null,
      "metadata": {
        "id": "ZykR2zwMgyFa",
        "colab": {
          "base_uri": "https://localhost:8080/"
        },
        "outputId": "d64feec6-8852-4526-9458-89d414ad562e"
      },
      "outputs": [
        {
          "output_type": "stream",
          "name": "stdout",
          "text": [
            "X\n",
            "0                State-gov\n",
            "1         Self-emp-not-inc\n",
            "2                   privat\n",
            "3                   privat\n",
            "4                   privat\n",
            "               ...        \n",
            "32556              Private\n",
            "32557              Private\n",
            "32558              Private\n",
            "32559              Private\n",
            "32560         Self-emp-inc\n",
            "Name: workclass, Length: 32561, dtype: object\n",
            " Private             22686\n",
            " Self-emp-not-inc     2541\n",
            " Local-gov            2093\n",
            " ?                    1836\n",
            " State-gov            1298\n",
            " Self-emp-inc         1116\n",
            " Federal-gov           960\n",
            " Without-pay            14\n",
            "privat                  10\n",
            " Never-worked            7\n",
            "Name: workclass, dtype: int64\n"
          ]
        }
      ],
      "source": [
        "print(data.workclass)\n",
        "print(data.workclass.value_counts())"
      ]
    },
    {
      "cell_type": "code",
      "source": [
        "freqs = data.workclass.value_counts().values\n",
        "labels = data.workclass.value_counts().index"
      ],
      "metadata": {
        "id": "5Bki8JsqDtD3"
      },
      "execution_count": null,
      "outputs": []
    },
    {
      "cell_type": "code",
      "source": [
        "fig1, ax1 = plt.subplots()\n",
        "ax1.pie(freqs, labels = labels)\n",
        "ax1.axis('equal')  \n",
        "\n",
        "plt.show()"
      ],
      "metadata": {
        "colab": {
          "base_uri": "https://localhost:8080/",
          "height": 253
        },
        "id": "j8CVggHRDV7t",
        "outputId": "7498098b-4f42-4235-8e3f-01289174350f"
      },
      "execution_count": null,
      "outputs": [
        {
          "output_type": "display_data",
          "data": {
            "image/png": "[encoded data removed]",
            "text/plain": [
              "<Figure size 432x288 with 1 Axes>"
            ]
          },
          "metadata": {}
        }
      ]
    },
    {
      "cell_type": "code",
      "source": [
        "plt.figure(figsize=(8,8))\n",
        "patches, texts = plt.pie(freqs, startangle=90)\n",
        "plt.legend(patches, labels, loc=\"best\")\n",
        "plt.title('Work class distribution')"
      ],
      "metadata": {
        "colab": {
          "base_uri": "https://localhost:8080/",
          "height": 500
        },
        "id": "QC-w9VX4FlYG",
        "outputId": "0e542a84-b354-41ec-b77d-7f0e6e7ade3e"
      },
      "execution_count": null,
      "outputs": [
        {
          "output_type": "execute_result",
          "data": {
            "text/plain": [
              "Text(0.5, 1.0, 'Work class distribution')"
            ]
          },
          "metadata": {},
          "execution_count": 72
        },
        {
          "output_type": "display_data",
          "data": {
            "image/png": "[encoded data removed]",
            "text/plain": [
              "<Figure size 576x576 with 1 Axes>"
            ]
          },
          "metadata": {}
        }
      ]
    },
    {
      "cell_type": "markdown",
      "metadata": {
        "id": "ic6lq5ergyFc"
      },
      "source": [
        "**2.3. Specify the type of `education` attribute (nominal / ordinal / numeric). Choose an appropriate chart to visualise the frequency distribution for the values of `education`. (0.25 points)** <br>"
      ]
    },
    {
      "cell_type": "markdown",
      "metadata": {
        "id": "C1zSn4tygyFd"
      },
      "source": [
        "**<font color='red'>Attribute type :</font>** Nominal."
      ]
    },
    {
      "cell_type": "code",
      "execution_count": null,
      "metadata": {
        "id": "YxFaVtnCgyFd",
        "colab": {
          "base_uri": "https://localhost:8080/",
          "height": 339
        },
        "outputId": "4234dc66-cd51-4bc7-f21b-4d92463b1ffb"
      },
      "outputs": [
        {
          "output_type": "stream",
          "name": "stdout",
          "text": [
            "AxesSubplot(0.08,0.125;0.87x0.755)\n"
          ]
        },
        {
          "output_type": "display_data",
          "data": {
            "image/png": "[encoded data removed]",
            "text/plain": [
              "<Figure size 432x288 with 1 Axes>"
            ]
          },
          "metadata": {}
        }
      ],
      "source": [
        "print(data[\"education\"].value_counts().plot(kind=\"bar\"))"
      ]
    },
    {
      "cell_type": "markdown",
      "metadata": {
        "id": "fDoBsgchgyFf"
      },
      "source": [
        "**2.4. Specify the type of `occupation` attribute (nominal / ordinal / numeric). Choose an appropriate chart to visualise the frequency distribution for the values of `occupation`. (0.25 points)**"
      ]
    },
    {
      "cell_type": "markdown",
      "metadata": {
        "id": "mX0UIBsSgyFf"
      },
      "source": [
        "**<font color='red'>Attribute type :</font>** Nominal."
      ]
    },
    {
      "cell_type": "code",
      "execution_count": null,
      "metadata": {
        "id": "FtrZuF9XgyFg",
        "scrolled": false,
        "colab": {
          "base_uri": "https://localhost:8080/",
          "height": 364
        },
        "outputId": "47cb1fd1-bc44-490a-9418-6f9814e27960"
      },
      "outputs": [
        {
          "output_type": "stream",
          "name": "stdout",
          "text": [
            "AxesSubplot(0.08,0.125;0.87x0.755)\n"
          ]
        },
        {
          "output_type": "display_data",
          "data": {
            "image/png": "[encoded data removed]",
            "text/plain": [
              "<Figure size 432x288 with 1 Axes>"
            ]
          },
          "metadata": {}
        }
      ],
      "source": [
        "print(data[\"occupation\"].value_counts().plot(kind=\"bar\"))"
      ]
    },
    {
      "cell_type": "markdown",
      "metadata": {
        "id": "OUykwd4-gyFi"
      },
      "source": [
        "**2.5. Specify the type of `native.country` attribute (nominal / ordinal / numeric). Choose an appropriate chart to visualise the frequency distribution for the values of `native.country`. (0.25 points)**"
      ]
    },
    {
      "cell_type": "markdown",
      "metadata": {
        "id": "b40iyT1ggyFi"
      },
      "source": [
        "**<font color='red'>Attribute type :</font>** Nominal."
      ]
    },
    {
      "cell_type": "code",
      "execution_count": null,
      "metadata": {
        "id": "6jwSal9ogyFj",
        "scrolled": false,
        "colab": {
          "base_uri": "https://localhost:8080/",
          "height": 415
        },
        "outputId": "f16558e1-f208-43bb-89a7-3ee9ea33b22f"
      },
      "outputs": [
        {
          "output_type": "stream",
          "name": "stdout",
          "text": [
            "AxesSubplot(0.08,0.125;0.87x0.755)\n"
          ]
        },
        {
          "output_type": "display_data",
          "data": {
            "image/png": "[encoded data removed]",
            "text/plain": [
              "<Figure size 432x288 with 1 Axes>"
            ]
          },
          "metadata": {}
        }
      ],
      "source": [
        "print(data[\"native.country\"].value_counts().plot(kind=\"bar\"))"
      ]
    },
    {
      "cell_type": "markdown",
      "metadata": {
        "id": "9noaPZsHgyFl"
      },
      "source": [
        "**2.6. Specify the type of `salaries` attribute (nominal / ordinal / numeric). Choose an appropriate chart to visualise the frequency distribution for the values of `salaries`. (0.25 points)**"
      ]
    },
    {
      "cell_type": "markdown",
      "metadata": {
        "id": "N4sTxrttgyFl"
      },
      "source": [
        "**<font color='red'>Attribute type :</font>** Numeric."
      ]
    },
    {
      "cell_type": "code",
      "execution_count": null,
      "metadata": {
        "id": "7tg9bjOzgyFm",
        "scrolled": false,
        "colab": {
          "base_uri": "https://localhost:8080/",
          "height": 1000
        },
        "outputId": "a4ea7754-a2f3-47b8-dbdf-3a634189f0de"
      },
      "outputs": [
        {
          "output_type": "stream",
          "name": "stdout",
          "text": [
            "(array([2.200e+01, 2.000e+00, 5.000e+00, 9.000e+00, 2.200e+01, 2.700e+01,\n",
            "       4.400e+01, 8.500e+01, 1.130e+02, 1.690e+02, 2.380e+02, 3.090e+02,\n",
            "       5.060e+02, 6.150e+02, 7.660e+02, 9.390e+02, 1.110e+03, 1.280e+03,\n",
            "       1.439e+03, 1.559e+03, 1.687e+03, 1.744e+03, 1.661e+03, 1.602e+03,\n",
            "       1.573e+03, 1.443e+03, 1.199e+03, 1.046e+03, 8.620e+02, 7.510e+02,\n",
            "       5.230e+02, 4.410e+02, 3.090e+02, 2.490e+02, 1.600e+02, 1.310e+02,\n",
            "       1.010e+02, 1.150e+02, 1.450e+02, 1.550e+02, 2.290e+02, 2.670e+02,\n",
            "       3.580e+02, 4.770e+02, 4.870e+02, 5.580e+02, 6.200e+02, 6.530e+02,\n",
            "       6.600e+02, 5.640e+02, 5.540e+02, 4.690e+02, 3.960e+02, 3.480e+02,\n",
            "       2.280e+02, 1.820e+02, 1.400e+02, 9.300e+01, 4.500e+01, 4.000e+01,\n",
            "       1.500e+01, 8.000e+00, 3.000e+00, 5.000e+00, 3.000e+00, 1.000e+00,\n",
            "       0.000e+00, 0.000e+00, 0.000e+00, 0.000e+00, 0.000e+00, 1.000e+00,\n",
            "       0.000e+00, 0.000e+00, 0.000e+00, 0.000e+00, 0.000e+00, 0.000e+00,\n",
            "       0.000e+00, 0.000e+00, 0.000e+00, 0.000e+00, 0.000e+00, 0.000e+00,\n",
            "       0.000e+00, 0.000e+00, 0.000e+00, 0.000e+00, 0.000e+00, 0.000e+00,\n",
            "       0.000e+00, 0.000e+00, 0.000e+00, 0.000e+00, 0.000e+00, 0.000e+00,\n",
            "       0.000e+00, 0.000e+00, 0.000e+00, 1.000e+00]), array([3.83412463e+01, 1.43795783e+03, 2.83757442e+03, 4.23719101e+03,\n",
            "       5.63680760e+03, 7.03642418e+03, 8.43604077e+03, 9.83565736e+03,\n",
            "       1.12352739e+04, 1.26348905e+04, 1.40345071e+04, 1.54341237e+04,\n",
            "       1.68337403e+04, 1.82333569e+04, 1.96329735e+04, 2.10325901e+04,\n",
            "       2.24322066e+04, 2.38318232e+04, 2.52314398e+04, 2.66310564e+04,\n",
            "       2.80306730e+04, 2.94302896e+04, 3.08299062e+04, 3.22295228e+04,\n",
            "       3.36291393e+04, 3.50287559e+04, 3.64283725e+04, 3.78279891e+04,\n",
            "       3.92276057e+04, 4.06272223e+04, 4.20268389e+04, 4.34264555e+04,\n",
            "       4.48260720e+04, 4.62256886e+04, 4.76253052e+04, 4.90249218e+04,\n",
            "       5.04245384e+04, 5.18241550e+04, 5.32237716e+04, 5.46233882e+04,\n",
            "       5.60230047e+04, 5.74226213e+04, 5.88222379e+04, 6.02218545e+04,\n",
            "       6.16214711e+04, 6.30210877e+04, 6.44207043e+04, 6.58203209e+04,\n",
            "       6.72199374e+04, 6.86195540e+04, 7.00191706e+04, 7.14187872e+04,\n",
            "       7.28184038e+04, 7.42180204e+04, 7.56176370e+04, 7.70172536e+04,\n",
            "       7.84168701e+04, 7.98164867e+04, 8.12161033e+04, 8.26157199e+04,\n",
            "       8.40153365e+04, 8.54149531e+04, 8.68145697e+04, 8.82141863e+04,\n",
            "       8.96138028e+04, 9.10134194e+04, 9.24130360e+04, 9.38126526e+04,\n",
            "       9.52122692e+04, 9.66118858e+04, 9.80115024e+04, 9.94111190e+04,\n",
            "       1.00810736e+05, 1.02210352e+05, 1.03609969e+05, 1.05009585e+05,\n",
            "       1.06409202e+05, 1.07808818e+05, 1.09208435e+05, 1.10608052e+05,\n",
            "       1.12007668e+05, 1.13407285e+05, 1.14806901e+05, 1.16206518e+05,\n",
            "       1.17606135e+05, 1.19005751e+05, 1.20405368e+05, 1.21804984e+05,\n",
            "       1.23204601e+05, 1.24604218e+05, 1.26003834e+05, 1.27403451e+05,\n",
            "       1.28803067e+05, 1.30202684e+05, 1.31602300e+05, 1.33001917e+05,\n",
            "       1.34401534e+05, 1.35801150e+05, 1.37200767e+05, 1.38600383e+05,\n",
            "       1.40000000e+05]), <a list of 100 Patch objects>)\n",
            "[Text(0, 0.5, 'Frequency'), Text(0.5, 1.0, 'Salaries Distrubution')]\n"
          ]
        },
        {
          "output_type": "display_data",
          "data": {
            "image/png": "[encoded data removed]",
            "text/plain": [
              "<Figure size 432x288 with 1 Axes>"
            ]
          },
          "metadata": {}
        }
      ],
      "source": [
        "print(plt.hist(data[\"salaries\"], bins=100))\n",
        "print(plt.gca().set(title='Salaries Distrubution', ylabel=\"Frequency\"))\n"
      ]
    },
    {
      "cell_type": "markdown",
      "metadata": {
        "id": "HzDSxjzsgyFo"
      },
      "source": [
        "**2.7. Attributes `male` and `female`. Specify the types of these attributes (nominal / ordinal / numeric). Choose an appropriate chart type to visualise the relative frequency of positive values in attribute `male` and positive values in attribute `female` (relative frequency of males and females). (0.25 points)**"
      ]
    },
    {
      "cell_type": "markdown",
      "metadata": {
        "id": "gpNd1Z7XgyFo"
      },
      "source": [
        "**<font color='red'>Attribute type :</font>** Numeric."
      ]
    },
    {
      "cell_type": "code",
      "execution_count": null,
      "metadata": {
        "id": "VokObsU2gyFp",
        "scrolled": false,
        "colab": {
          "base_uri": "https://localhost:8080/",
          "height": 337
        },
        "outputId": "3fea90a9-da0f-4b0a-e73f-5b6db06a5786"
      },
      "outputs": [
        {
          "output_type": "stream",
          "name": "stdout",
          "text": [
            "([<matplotlib.patches.Wedge object at 0x7f6f99cafd50>, <matplotlib.patches.Wedge object at 0x7f6f99d7f6d0>], [Text(-0.5575805272350158, 0.9482109236073596, 'male'), Text(0.5575805272350153, -0.9482109236073599, 'female')])\n"
          ]
        },
        {
          "output_type": "stream",
          "name": "stderr",
          "text": [
            "/usr/local/lib/python3.7/dist-packages/ipykernel_launcher.py:4: MatplotlibDeprecationWarning: Non-1D inputs to pie() are currently squeeze()d, but this behavior is deprecated since 3.1 and will be removed in 3.3; pass a 1D array instead.\n",
            "  after removing the cwd from sys.path.\n"
          ]
        },
        {
          "output_type": "display_data",
          "data": {
            "image/png": "[encoded data removed]",
            "text/plain": [
              "<Figure size 432x288 with 1 Axes>"
            ]
          },
          "metadata": {}
        },
        {
          "output_type": "stream",
          "name": "stdout",
          "text": [
            "None\n"
          ]
        }
      ],
      "source": [
        "males = data['male'].value_counts()\n",
        "females = data['female'].value_counts()\n",
        "genders = [males, females]\n",
        "print(plt.pie(genders, labels=['male', 'female']))\n",
        "print(plt.show())"
      ]
    },
    {
      "cell_type": "markdown",
      "metadata": {
        "id": "-TqRzwEZgyFr"
      },
      "source": [
        "**2.8. Count the number of missing values in each attribute in the dataset and report the percentage of missing values of each attribute (the original file uses '?' for missing values). (0.25 points)**"
      ]
    },
    {
      "cell_type": "code",
      "execution_count": null,
      "metadata": {
        "id": "8OCwVGZ7gyFr",
        "scrolled": false,
        "colab": {
          "base_uri": "https://localhost:8080/"
        },
        "outputId": "da167ab7-0e47-4aa7-d393-37c07d3d8e77"
      },
      "outputs": [
        {
          "output_type": "stream",
          "name": "stdout",
          "text": [
            "0.030072228069832566\n",
            "0.06083686283925834\n"
          ]
        }
      ],
      "source": [
        "print(data[\"male\"].isnull().sum()/data.size)\n",
        "print((data[\"female\"].isnull().sum())/data.size)\n"
      ]
    },
    {
      "cell_type": "markdown",
      "metadata": {
        "id": "JW2LQpVLTTuI"
      },
      "source": [
        "<strong>2.9. Please provide a descriptive statistics for the people who work(`workclass`) in private sector. <br>Separately answer the following questions, <br> What are their mean and median salaries (`salaries`), job satisfaction (`jobsatisfaction`)? <br> What are their highest and lowest level of education (`education`)? <br> Provide the percentage of `male` and `female` employee distribution of these people.  (0.5 points)<strong>"
      ]
    },
    {
      "cell_type": "code",
      "execution_count": null,
      "metadata": {
        "id": "IuYok_tiTTuI",
        "colab": {
          "base_uri": "https://localhost:8080/"
        },
        "outputId": "3f52c396-390e-42b4-d00d-c792a9658880"
      },
      "outputs": [
        {
          "output_type": "stream",
          "name": "stdout",
          "text": [
            "mean salaries is  38533.03433835846\n",
            "median salaries is  33556.0\n",
            "mean job satisfaction is  inf\n",
            "median job satisfaction is  8.0\n",
            "ratio males is  0.6585118575332805\n",
            "ratio females is  0.34148814246671955\n"
          ]
        }
      ],
      "source": [
        "private = data.loc[data['workclass'] == ' Private']\n",
        "\n",
        "print(\"mean salaries is \",private[\"salaries\"].mean())\n",
        "print(\"median salaries is \", private[\"salaries\"].median())\n",
        "\n",
        "print(\"mean job satisfaction is \", private[\"jobsatisfaction\"].mean())\n",
        "print(\"median job satisfaction is \",private[\"jobsatisfaction\"].median())\n",
        "\n",
        "# highest and lowest level of education (education)?\n",
        "\n",
        "print(\"ratio males is \", len(private[private[\"male\"]==1])/len(private))\n",
        "print(\"ratio females is \", len(private[private[\"female\"]==1])/len(private))"
      ]
    },
    {
      "cell_type": "markdown",
      "metadata": {
        "id": "zA0tQqQ-gyFu"
      },
      "source": [
        "# 3.  Data preparation (1.5 points)"
      ]
    },
    {
      "cell_type": "markdown",
      "metadata": {
        "id": "5oLOS7LWgyFu"
      },
      "source": [
        "Preparing the data for analysis is the most crucial part of data analysis. In this exercise, we will clean up the dataset 'adult.csv'. The dataset was purposefully made untidy so that you can practice cleaning it up.<br>"
      ]
    },
    {
      "cell_type": "markdown",
      "metadata": {
        "id": "H_S7GNXCgyFv"
      },
      "source": [
        "First, let's make a deep copy of the original DataFrame. Later we will compare it to the cleaned/modified DataFrame."
      ]
    },
    {
      "cell_type": "code",
      "execution_count": null,
      "metadata": {
        "id": "oTT78CZtgyFv",
        "scrolled": false
      },
      "outputs": [],
      "source": [
        "if data is not ...:\n",
        "    original_data = data.copy(deep=True) # Make a deep copy, including a copy of the data and the indices"
      ]
    },
    {
      "cell_type": "markdown",
      "metadata": {
        "id": "XPjMB5BfgyFx"
      },
      "source": [
        "**3.1. Sometimes values include leading and/or trailing spaces. Remove leading and trailing whitespace from strings. Count the number of rows that were changed in the dataset. (0.30 points)** <br>"
      ]
    },
    {
      "cell_type": "code",
      "execution_count": null,
      "metadata": {
        "id": "nLDSg2s0gyFx",
        "colab": {
          "base_uri": "https://localhost:8080/",
          "height": 455
        },
        "outputId": "f082dff1-02b3-478f-977e-720d6c0c2d8b"
      },
      "outputs": [
        {
          "output_type": "execute_result",
          "data": {
            "text/html": [
              "\n",
              "  <div id=\"df-95806a32-3a09-4c24-ba21-950c7771e5a3\">\n",
              "    <div class=\"colab-df-container\">\n",
              "      <div>\n",
              "<style scoped>\n",
              "    .dataframe tbody tr th:only-of-type {\n",
              "        vertical-align: middle;\n",
              "    }\n",
              "\n",
              "    .dataframe tbody tr th {\n",
              "        vertical-align: top;\n",
              "    }\n",
              "\n",
              "    .dataframe thead th {\n",
              "        text-align: right;\n",
              "    }\n",
              "</style>\n",
              "<table border=\"1\" class=\"dataframe\">\n",
              "  <thead>\n",
              "    <tr style=\"text-align: right;\">\n",
              "      <th></th>\n",
              "      <th>age</th>\n",
              "      <th>workclass</th>\n",
              "      <th>education</th>\n",
              "      <th>occupation</th>\n",
              "      <th>capital.gain</th>\n",
              "      <th>capital.loss</th>\n",
              "      <th>native.country</th>\n",
              "      <th>salaries</th>\n",
              "      <th>jobsatisfaction</th>\n",
              "      <th>male</th>\n",
              "      <th>female</th>\n",
              "    </tr>\n",
              "    <tr>\n",
              "      <th>X</th>\n",
              "      <th></th>\n",
              "      <th></th>\n",
              "      <th></th>\n",
              "      <th></th>\n",
              "      <th></th>\n",
              "      <th></th>\n",
              "      <th></th>\n",
              "      <th></th>\n",
              "      <th></th>\n",
              "      <th></th>\n",
              "      <th></th>\n",
              "    </tr>\n",
              "  </thead>\n",
              "  <tbody>\n",
              "    <tr>\n",
              "      <th>0</th>\n",
              "      <td>39</td>\n",
              "      <td>State-gov</td>\n",
              "      <td>Bachelors</td>\n",
              "      <td>Adm-clerical</td>\n",
              "      <td>2174</td>\n",
              "      <td>0</td>\n",
              "      <td>United-States</td>\n",
              "      <td>43136.0</td>\n",
              "      <td>0</td>\n",
              "      <td>1.0</td>\n",
              "      <td>NaN</td>\n",
              "    </tr>\n",
              "    <tr>\n",
              "      <th>1</th>\n",
              "      <td>50</td>\n",
              "      <td>Self-emp-not-inc</td>\n",
              "      <td>Bachelors</td>\n",
              "      <td>Exec-managerial</td>\n",
              "      <td>0</td>\n",
              "      <td>0</td>\n",
              "      <td>UnitedStates</td>\n",
              "      <td>46209.0</td>\n",
              "      <td>7</td>\n",
              "      <td>1.0</td>\n",
              "      <td>NaN</td>\n",
              "    </tr>\n",
              "    <tr>\n",
              "      <th>2</th>\n",
              "      <td>38</td>\n",
              "      <td>privat</td>\n",
              "      <td>HS-grad</td>\n",
              "      <td>Handlers-cleaners</td>\n",
              "      <td>0</td>\n",
              "      <td>0</td>\n",
              "      <td>United-States</td>\n",
              "      <td>28937.0</td>\n",
              "      <td>6</td>\n",
              "      <td>1.0</td>\n",
              "      <td>NaN</td>\n",
              "    </tr>\n",
              "    <tr>\n",
              "      <th>3</th>\n",
              "      <td>53</td>\n",
              "      <td>privat</td>\n",
              "      <td>11th</td>\n",
              "      <td>Handlers-cleaners</td>\n",
              "      <td>0</td>\n",
              "      <td>0</td>\n",
              "      <td>United-States</td>\n",
              "      <td>33658.0</td>\n",
              "      <td>6</td>\n",
              "      <td>1.0</td>\n",
              "      <td>NaN</td>\n",
              "    </tr>\n",
              "    <tr>\n",
              "      <th>4</th>\n",
              "      <td>28</td>\n",
              "      <td>privat</td>\n",
              "      <td>Bachelors</td>\n",
              "      <td>Prof-specialty</td>\n",
              "      <td>0</td>\n",
              "      <td>0</td>\n",
              "      <td>Cuba</td>\n",
              "      <td>34372.0</td>\n",
              "      <td>12</td>\n",
              "      <td>NaN</td>\n",
              "      <td>1.0</td>\n",
              "    </tr>\n",
              "    <tr>\n",
              "      <th>...</th>\n",
              "      <td>...</td>\n",
              "      <td>...</td>\n",
              "      <td>...</td>\n",
              "      <td>...</td>\n",
              "      <td>...</td>\n",
              "      <td>...</td>\n",
              "      <td>...</td>\n",
              "      <td>...</td>\n",
              "      <td>...</td>\n",
              "      <td>...</td>\n",
              "      <td>...</td>\n",
              "    </tr>\n",
              "    <tr>\n",
              "      <th>32556</th>\n",
              "      <td>27</td>\n",
              "      <td>Private</td>\n",
              "      <td>Assoc-acdm</td>\n",
              "      <td>Tech-support</td>\n",
              "      <td>0</td>\n",
              "      <td>0</td>\n",
              "      <td>United-States</td>\n",
              "      <td>21393.0</td>\n",
              "      <td>14</td>\n",
              "      <td>NaN</td>\n",
              "      <td>1.0</td>\n",
              "    </tr>\n",
              "    <tr>\n",
              "      <th>32557</th>\n",
              "      <td>40</td>\n",
              "      <td>Private</td>\n",
              "      <td>HS-grad</td>\n",
              "      <td>Machine-op-inspct</td>\n",
              "      <td>0</td>\n",
              "      <td>0</td>\n",
              "      <td>United-States</td>\n",
              "      <td>75199.0</td>\n",
              "      <td>10</td>\n",
              "      <td>1.0</td>\n",
              "      <td>NaN</td>\n",
              "    </tr>\n",
              "    <tr>\n",
              "      <th>32558</th>\n",
              "      <td>58</td>\n",
              "      <td>Private</td>\n",
              "      <td>HS-grad</td>\n",
              "      <td>Adm-clerical</td>\n",
              "      <td>0</td>\n",
              "      <td>0</td>\n",
              "      <td>United-States</td>\n",
              "      <td>25603.0</td>\n",
              "      <td>1</td>\n",
              "      <td>NaN</td>\n",
              "      <td>1.0</td>\n",
              "    </tr>\n",
              "    <tr>\n",
              "      <th>32559</th>\n",
              "      <td>22</td>\n",
              "      <td>Private</td>\n",
              "      <td>HS-grad</td>\n",
              "      <td>Adm-clerical</td>\n",
              "      <td>0</td>\n",
              "      <td>0</td>\n",
              "      <td>United-States</td>\n",
              "      <td>42138.0</td>\n",
              "      <td>3</td>\n",
              "      <td>1.0</td>\n",
              "      <td>NaN</td>\n",
              "    </tr>\n",
              "    <tr>\n",
              "      <th>32560</th>\n",
              "      <td>52</td>\n",
              "      <td>Self-emp-inc</td>\n",
              "      <td>HS-grad</td>\n",
              "      <td>Exec-managerial</td>\n",
              "      <td>15024</td>\n",
              "      <td>0</td>\n",
              "      <td>United-States</td>\n",
              "      <td>71709.0</td>\n",
              "      <td>9</td>\n",
              "      <td>NaN</td>\n",
              "      <td>1.0</td>\n",
              "    </tr>\n",
              "  </tbody>\n",
              "</table>\n",
              "<p>32561 rows × 11 columns</p>\n",
              "</div>\n",
              "      <button class=\"colab-df-convert\" onclick=\"convertToInteractive('df-95806a32-3a09-4c24-ba21-950c7771e5a3')\"\n",
              "              title=\"Convert this dataframe to an interactive table.\"\n",
              "              style=\"display:none;\">\n",
              "        \n",
              "  <svg xmlns=\"http://www.w3.org/2000/svg\" height=\"24px\"viewBox=\"0 0 24 24\"\n",
              "       width=\"24px\">\n",
              "    <path d=\"M0 0h24v24H0V0z\" fill=\"none\"/>\n",
              "    <path d=\"M18.56 5.44l.94 2.06.94-2.06 2.06-.94-2.06-.94-.94-2.06-.94 2.06-2.06.94zm-11 1L8.5 8.5l.94-2.06 2.06-.94-2.06-.94L8.5 2.5l-.94 2.06-2.06.94zm10 10l.94 2.06.94-2.06 2.06-.94-2.06-.94-.94-2.06-.94 2.06-2.06.94z\"/><path d=\"M17.41 7.96l-1.37-1.37c-.4-.4-.92-.59-1.43-.59-.52 0-1.04.2-1.43.59L10.3 9.45l-7.72 7.72c-.78.78-.78 2.05 0 2.83L4 21.41c.39.39.9.59 1.41.59.51 0 1.02-.2 1.41-.59l7.78-7.78 2.81-2.81c.8-.78.8-2.07 0-2.86zM5.41 20L4 18.59l7.72-7.72 1.47 1.35L5.41 20z\"/>\n",
              "  </svg>\n",
              "      </button>\n",
              "      \n",
              "  <style>\n",
              "    .colab-df-container {\n",
              "      display:flex;\n",
              "      flex-wrap:wrap;\n",
              "      gap: 12px;\n",
              "    }\n",
              "\n",
              "    .colab-df-convert {\n",
              "      background-color: #E8F0FE;\n",
              "      border: none;\n",
              "      border-radius: 50%;\n",
              "      cursor: pointer;\n",
              "      display: none;\n",
              "      fill: #1967D2;\n",
              "      height: 32px;\n",
              "      padding: 0 0 0 0;\n",
              "      width: 32px;\n",
              "    }\n",
              "\n",
              "    .colab-df-convert:hover {\n",
              "      background-color: #E2EBFA;\n",
              "      box-shadow: 0px 1px 2px rgba(60, 64, 67, 0.3), 0px 1px 3px 1px rgba(60, 64, 67, 0.15);\n",
              "      fill: #174EA6;\n",
              "    }\n",
              "\n",
              "    [theme=dark] .colab-df-convert {\n",
              "      background-color: #3B4455;\n",
              "      fill: #D2E3FC;\n",
              "    }\n",
              "\n",
              "    [theme=dark] .colab-df-convert:hover {\n",
              "      background-color: #434B5C;\n",
              "      box-shadow: 0px 1px 3px 1px rgba(0, 0, 0, 0.15);\n",
              "      filter: drop-shadow(0px 1px 2px rgba(0, 0, 0, 0.3));\n",
              "      fill: #FFFFFF;\n",
              "    }\n",
              "  </style>\n",
              "\n",
              "      <script>\n",
              "        const buttonEl =\n",
              "          document.querySelector('#df-95806a32-3a09-4c24-ba21-950c7771e5a3 button.colab-df-convert');\n",
              "        buttonEl.style.display =\n",
              "          google.colab.kernel.accessAllowed ? 'block' : 'none';\n",
              "\n",
              "        async function convertToInteractive(key) {\n",
              "          const element = document.querySelector('#df-95806a32-3a09-4c24-ba21-950c7771e5a3');\n",
              "          const dataTable =\n",
              "            await google.colab.kernel.invokeFunction('convertToInteractive',\n",
              "                                                     [key], {});\n",
              "          if (!dataTable) return;\n",
              "\n",
              "          const docLinkHtml = 'Like what you see? Visit the ' +\n",
              "            '<a target=\"_blank\" href=https://colab.research.google.com/notebooks/data_table.ipynb>data table notebook</a>'\n",
              "            + ' to learn more about interactive tables.';\n",
              "          element.innerHTML = '';\n",
              "          dataTable['output_type'] = 'display_data';\n",
              "          await google.colab.output.renderOutput(dataTable, element);\n",
              "          const docLink = document.createElement('div');\n",
              "          docLink.innerHTML = docLinkHtml;\n",
              "          element.appendChild(docLink);\n",
              "        }\n",
              "      </script>\n",
              "    </div>\n",
              "  </div>\n",
              "  "
            ],
            "text/plain": [
              "      age         workclass   education         occupation  capital.gain  \\\n",
              "X                                                                          \n",
              "0      39         State-gov   Bachelors       Adm-clerical          2174   \n",
              "1      50  Self-emp-not-inc   Bachelors    Exec-managerial             0   \n",
              "2      38            privat     HS-grad  Handlers-cleaners             0   \n",
              "3      53            privat        11th  Handlers-cleaners             0   \n",
              "4      28            privat   Bachelors     Prof-specialty             0   \n",
              "...    ..               ...         ...                ...           ...   \n",
              "32556  27           Private  Assoc-acdm       Tech-support             0   \n",
              "32557  40           Private     HS-grad  Machine-op-inspct             0   \n",
              "32558  58           Private     HS-grad       Adm-clerical             0   \n",
              "32559  22           Private     HS-grad       Adm-clerical             0   \n",
              "32560  52      Self-emp-inc     HS-grad    Exec-managerial         15024   \n",
              "\n",
              "       capital.loss native.country  salaries jobsatisfaction  male  female  \n",
              "X                                                                           \n",
              "0                 0  United-States   43136.0               0   1.0     NaN  \n",
              "1                 0   UnitedStates   46209.0               7   1.0     NaN  \n",
              "2                 0  United-States   28937.0               6   1.0     NaN  \n",
              "3                 0  United-States   33658.0               6   1.0     NaN  \n",
              "4                 0           Cuba   34372.0              12   NaN     1.0  \n",
              "...             ...            ...       ...             ...   ...     ...  \n",
              "32556             0  United-States   21393.0              14   NaN     1.0  \n",
              "32557             0  United-States   75199.0              10   1.0     NaN  \n",
              "32558             0  United-States   25603.0               1   NaN     1.0  \n",
              "32559             0  United-States   42138.0               3   1.0     NaN  \n",
              "32560             0  United-States   71709.0               9   NaN     1.0  \n",
              "\n",
              "[32561 rows x 11 columns]"
            ]
          },
          "metadata": {},
          "execution_count": 81
        }
      ],
      "source": [
        "#Perform manipulations in the 'data' dataframe. So that later you can use the code block below to compare\n",
        "data.iloc[0,1].strip()\n",
        "#data.str.strip()\n",
        "for column in ['workclass','education','occupation', 'native.country']:\n",
        "  data[column] = data[column].str.strip()\n",
        "data"
      ]
    },
    {
      "cell_type": "markdown",
      "metadata": {
        "id": "ypKQ7rHDgyFz"
      },
      "source": [
        "Use code below to count how many rows were affected."
      ]
    },
    {
      "cell_type": "code",
      "execution_count": null,
      "metadata": {
        "id": "p1GVNw05gyF1",
        "colab": {
          "base_uri": "https://localhost:8080/"
        },
        "outputId": "679f3131-439d-4379-f539-57457e5483a3"
      },
      "outputs": [
        {
          "output_type": "stream",
          "name": "stdout",
          "text": [
            "Difference: 32561\n"
          ]
        }
      ],
      "source": [
        "# Count differences\n",
        "if data is not ...:\n",
        "    data_all = pd.concat([original_data, data]).drop_duplicates()\n",
        "    diff = data_all.shape[0] - data.shape[0]\n",
        "    print ('Difference: ' + str(diff))"
      ]
    },
    {
      "cell_type": "markdown",
      "metadata": {
        "id": "_rfkpGsJgyF3"
      },
      "source": [
        "**<font color='red'>Answer:</font>** 32561 rows were affected."
      ]
    },
    {
      "cell_type": "markdown",
      "metadata": {
        "id": "BBT286CHgyF3"
      },
      "source": [
        "**3.2. Replace all non-sensical values in `data` with np.nan from numpy package to denote missing values (Original file uses '?' for missing values). Fix the typos in the dataset. Justify all the changes that you do, explaining why you are sure that this is a correct change and what you think the cause for such error. (0.60 points)**  <br>"
      ]
    },
    {
      "cell_type": "code",
      "execution_count": null,
      "metadata": {
        "id": "IETuPnl6gyF4",
        "colab": {
          "base_uri": "https://localhost:8080/",
          "height": 455
        },
        "outputId": "ccaac183-e82f-4d86-8933-5bedb9f66c5e"
      },
      "outputs": [
        {
          "output_type": "execute_result",
          "data": {
            "text/html": [
              "\n",
              "  <div id=\"df-3353ded1-6f2e-43b7-b3f5-5858df4b51a7\">\n",
              "    <div class=\"colab-df-container\">\n",
              "      <div>\n",
              "<style scoped>\n",
              "    .dataframe tbody tr th:only-of-type {\n",
              "        vertical-align: middle;\n",
              "    }\n",
              "\n",
              "    .dataframe tbody tr th {\n",
              "        vertical-align: top;\n",
              "    }\n",
              "\n",
              "    .dataframe thead th {\n",
              "        text-align: right;\n",
              "    }\n",
              "</style>\n",
              "<table border=\"1\" class=\"dataframe\">\n",
              "  <thead>\n",
              "    <tr style=\"text-align: right;\">\n",
              "      <th></th>\n",
              "      <th>age</th>\n",
              "      <th>workclass</th>\n",
              "      <th>education</th>\n",
              "      <th>occupation</th>\n",
              "      <th>capital.gain</th>\n",
              "      <th>capital.loss</th>\n",
              "      <th>native.country</th>\n",
              "      <th>salaries</th>\n",
              "      <th>jobsatisfaction</th>\n",
              "      <th>male</th>\n",
              "      <th>female</th>\n",
              "    </tr>\n",
              "    <tr>\n",
              "      <th>X</th>\n",
              "      <th></th>\n",
              "      <th></th>\n",
              "      <th></th>\n",
              "      <th></th>\n",
              "      <th></th>\n",
              "      <th></th>\n",
              "      <th></th>\n",
              "      <th></th>\n",
              "      <th></th>\n",
              "      <th></th>\n",
              "      <th></th>\n",
              "    </tr>\n",
              "  </thead>\n",
              "  <tbody>\n",
              "    <tr>\n",
              "      <th>0</th>\n",
              "      <td>39</td>\n",
              "      <td>State-gov</td>\n",
              "      <td>Bachelors</td>\n",
              "      <td>Adm-clerical</td>\n",
              "      <td>2174</td>\n",
              "      <td>0</td>\n",
              "      <td>United-States</td>\n",
              "      <td>43136.0</td>\n",
              "      <td>0</td>\n",
              "      <td>1.0</td>\n",
              "      <td>NaN</td>\n",
              "    </tr>\n",
              "    <tr>\n",
              "      <th>1</th>\n",
              "      <td>50</td>\n",
              "      <td>Self-emp-not-inc</td>\n",
              "      <td>Bachelors</td>\n",
              "      <td>Exec-managerial</td>\n",
              "      <td>0</td>\n",
              "      <td>0</td>\n",
              "      <td>UnitedStates</td>\n",
              "      <td>46209.0</td>\n",
              "      <td>7</td>\n",
              "      <td>1.0</td>\n",
              "      <td>NaN</td>\n",
              "    </tr>\n",
              "    <tr>\n",
              "      <th>2</th>\n",
              "      <td>38</td>\n",
              "      <td>privat</td>\n",
              "      <td>HS-grad</td>\n",
              "      <td>Handlers-cleaners</td>\n",
              "      <td>0</td>\n",
              "      <td>0</td>\n",
              "      <td>United-States</td>\n",
              "      <td>28937.0</td>\n",
              "      <td>6</td>\n",
              "      <td>1.0</td>\n",
              "      <td>NaN</td>\n",
              "    </tr>\n",
              "    <tr>\n",
              "      <th>3</th>\n",
              "      <td>53</td>\n",
              "      <td>privat</td>\n",
              "      <td>11th</td>\n",
              "      <td>Handlers-cleaners</td>\n",
              "      <td>0</td>\n",
              "      <td>0</td>\n",
              "      <td>United-States</td>\n",
              "      <td>33658.0</td>\n",
              "      <td>6</td>\n",
              "      <td>1.0</td>\n",
              "      <td>NaN</td>\n",
              "    </tr>\n",
              "    <tr>\n",
              "      <th>4</th>\n",
              "      <td>28</td>\n",
              "      <td>privat</td>\n",
              "      <td>Bachelors</td>\n",
              "      <td>Prof-specialty</td>\n",
              "      <td>0</td>\n",
              "      <td>0</td>\n",
              "      <td>Cuba</td>\n",
              "      <td>34372.0</td>\n",
              "      <td>12</td>\n",
              "      <td>NaN</td>\n",
              "      <td>1.0</td>\n",
              "    </tr>\n",
              "    <tr>\n",
              "      <th>...</th>\n",
              "      <td>...</td>\n",
              "      <td>...</td>\n",
              "      <td>...</td>\n",
              "      <td>...</td>\n",
              "      <td>...</td>\n",
              "      <td>...</td>\n",
              "      <td>...</td>\n",
              "      <td>...</td>\n",
              "      <td>...</td>\n",
              "      <td>...</td>\n",
              "      <td>...</td>\n",
              "    </tr>\n",
              "    <tr>\n",
              "      <th>32556</th>\n",
              "      <td>27</td>\n",
              "      <td>Private</td>\n",
              "      <td>Assoc-acdm</td>\n",
              "      <td>Tech-support</td>\n",
              "      <td>0</td>\n",
              "      <td>0</td>\n",
              "      <td>United-States</td>\n",
              "      <td>21393.0</td>\n",
              "      <td>14</td>\n",
              "      <td>NaN</td>\n",
              "      <td>1.0</td>\n",
              "    </tr>\n",
              "    <tr>\n",
              "      <th>32557</th>\n",
              "      <td>40</td>\n",
              "      <td>Private</td>\n",
              "      <td>HS-grad</td>\n",
              "      <td>Machine-op-inspct</td>\n",
              "      <td>0</td>\n",
              "      <td>0</td>\n",
              "      <td>United-States</td>\n",
              "      <td>75199.0</td>\n",
              "      <td>10</td>\n",
              "      <td>1.0</td>\n",
              "      <td>NaN</td>\n",
              "    </tr>\n",
              "    <tr>\n",
              "      <th>32558</th>\n",
              "      <td>58</td>\n",
              "      <td>Private</td>\n",
              "      <td>HS-grad</td>\n",
              "      <td>Adm-clerical</td>\n",
              "      <td>0</td>\n",
              "      <td>0</td>\n",
              "      <td>United-States</td>\n",
              "      <td>25603.0</td>\n",
              "      <td>1</td>\n",
              "      <td>NaN</td>\n",
              "      <td>1.0</td>\n",
              "    </tr>\n",
              "    <tr>\n",
              "      <th>32559</th>\n",
              "      <td>22</td>\n",
              "      <td>Private</td>\n",
              "      <td>HS-grad</td>\n",
              "      <td>Adm-clerical</td>\n",
              "      <td>0</td>\n",
              "      <td>0</td>\n",
              "      <td>United-States</td>\n",
              "      <td>42138.0</td>\n",
              "      <td>3</td>\n",
              "      <td>1.0</td>\n",
              "      <td>NaN</td>\n",
              "    </tr>\n",
              "    <tr>\n",
              "      <th>32560</th>\n",
              "      <td>52</td>\n",
              "      <td>Self-emp-inc</td>\n",
              "      <td>HS-grad</td>\n",
              "      <td>Exec-managerial</td>\n",
              "      <td>15024</td>\n",
              "      <td>0</td>\n",
              "      <td>United-States</td>\n",
              "      <td>71709.0</td>\n",
              "      <td>9</td>\n",
              "      <td>NaN</td>\n",
              "      <td>1.0</td>\n",
              "    </tr>\n",
              "  </tbody>\n",
              "</table>\n",
              "<p>32561 rows × 11 columns</p>\n",
              "</div>\n",
              "      <button class=\"colab-df-convert\" onclick=\"convertToInteractive('df-3353ded1-6f2e-43b7-b3f5-5858df4b51a7')\"\n",
              "              title=\"Convert this dataframe to an interactive table.\"\n",
              "              style=\"display:none;\">\n",
              "        \n",
              "  <svg xmlns=\"http://www.w3.org/2000/svg\" height=\"24px\"viewBox=\"0 0 24 24\"\n",
              "       width=\"24px\">\n",
              "    <path d=\"M0 0h24v24H0V0z\" fill=\"none\"/>\n",
              "    <path d=\"M18.56 5.44l.94 2.06.94-2.06 2.06-.94-2.06-.94-.94-2.06-.94 2.06-2.06.94zm-11 1L8.5 8.5l.94-2.06 2.06-.94-2.06-.94L8.5 2.5l-.94 2.06-2.06.94zm10 10l.94 2.06.94-2.06 2.06-.94-2.06-.94-.94-2.06-.94 2.06-2.06.94z\"/><path d=\"M17.41 7.96l-1.37-1.37c-.4-.4-.92-.59-1.43-.59-.52 0-1.04.2-1.43.59L10.3 9.45l-7.72 7.72c-.78.78-.78 2.05 0 2.83L4 21.41c.39.39.9.59 1.41.59.51 0 1.02-.2 1.41-.59l7.78-7.78 2.81-2.81c.8-.78.8-2.07 0-2.86zM5.41 20L4 18.59l7.72-7.72 1.47 1.35L5.41 20z\"/>\n",
              "  </svg>\n",
              "      </button>\n",
              "      \n",
              "  <style>\n",
              "    .colab-df-container {\n",
              "      display:flex;\n",
              "      flex-wrap:wrap;\n",
              "      gap: 12px;\n",
              "    }\n",
              "\n",
              "    .colab-df-convert {\n",
              "      background-color: #E8F0FE;\n",
              "      border: none;\n",
              "      border-radius: 50%;\n",
              "      cursor: pointer;\n",
              "      display: none;\n",
              "      fill: #1967D2;\n",
              "      height: 32px;\n",
              "      padding: 0 0 0 0;\n",
              "      width: 32px;\n",
              "    }\n",
              "\n",
              "    .colab-df-convert:hover {\n",
              "      background-color: #E2EBFA;\n",
              "      box-shadow: 0px 1px 2px rgba(60, 64, 67, 0.3), 0px 1px 3px 1px rgba(60, 64, 67, 0.15);\n",
              "      fill: #174EA6;\n",
              "    }\n",
              "\n",
              "    [theme=dark] .colab-df-convert {\n",
              "      background-color: #3B4455;\n",
              "      fill: #D2E3FC;\n",
              "    }\n",
              "\n",
              "    [theme=dark] .colab-df-convert:hover {\n",
              "      background-color: #434B5C;\n",
              "      box-shadow: 0px 1px 3px 1px rgba(0, 0, 0, 0.15);\n",
              "      filter: drop-shadow(0px 1px 2px rgba(0, 0, 0, 0.3));\n",
              "      fill: #FFFFFF;\n",
              "    }\n",
              "  </style>\n",
              "\n",
              "      <script>\n",
              "        const buttonEl =\n",
              "          document.querySelector('#df-3353ded1-6f2e-43b7-b3f5-5858df4b51a7 button.colab-df-convert');\n",
              "        buttonEl.style.display =\n",
              "          google.colab.kernel.accessAllowed ? 'block' : 'none';\n",
              "\n",
              "        async function convertToInteractive(key) {\n",
              "          const element = document.querySelector('#df-3353ded1-6f2e-43b7-b3f5-5858df4b51a7');\n",
              "          const dataTable =\n",
              "            await google.colab.kernel.invokeFunction('convertToInteractive',\n",
              "                                                     [key], {});\n",
              "          if (!dataTable) return;\n",
              "\n",
              "          const docLinkHtml = 'Like what you see? Visit the ' +\n",
              "            '<a target=\"_blank\" href=https://colab.research.google.com/notebooks/data_table.ipynb>data table notebook</a>'\n",
              "            + ' to learn more about interactive tables.';\n",
              "          element.innerHTML = '';\n",
              "          dataTable['output_type'] = 'display_data';\n",
              "          await google.colab.output.renderOutput(dataTable, element);\n",
              "          const docLink = document.createElement('div');\n",
              "          docLink.innerHTML = docLinkHtml;\n",
              "          element.appendChild(docLink);\n",
              "        }\n",
              "      </script>\n",
              "    </div>\n",
              "  </div>\n",
              "  "
            ],
            "text/plain": [
              "      age         workclass   education         occupation  capital.gain  \\\n",
              "X                                                                          \n",
              "0      39         State-gov   Bachelors       Adm-clerical          2174   \n",
              "1      50  Self-emp-not-inc   Bachelors    Exec-managerial             0   \n",
              "2      38            privat     HS-grad  Handlers-cleaners             0   \n",
              "3      53            privat        11th  Handlers-cleaners             0   \n",
              "4      28            privat   Bachelors     Prof-specialty             0   \n",
              "...    ..               ...         ...                ...           ...   \n",
              "32556  27           Private  Assoc-acdm       Tech-support             0   \n",
              "32557  40           Private     HS-grad  Machine-op-inspct             0   \n",
              "32558  58           Private     HS-grad       Adm-clerical             0   \n",
              "32559  22           Private     HS-grad       Adm-clerical             0   \n",
              "32560  52      Self-emp-inc     HS-grad    Exec-managerial         15024   \n",
              "\n",
              "       capital.loss native.country  salaries jobsatisfaction  male  female  \n",
              "X                                                                           \n",
              "0                 0  United-States   43136.0               0   1.0     NaN  \n",
              "1                 0   UnitedStates   46209.0               7   1.0     NaN  \n",
              "2                 0  United-States   28937.0               6   1.0     NaN  \n",
              "3                 0  United-States   33658.0               6   1.0     NaN  \n",
              "4                 0           Cuba   34372.0              12   NaN     1.0  \n",
              "...             ...            ...       ...             ...   ...     ...  \n",
              "32556             0  United-States   21393.0              14   NaN     1.0  \n",
              "32557             0  United-States   75199.0              10   1.0     NaN  \n",
              "32558             0  United-States   25603.0               1   NaN     1.0  \n",
              "32559             0  United-States   42138.0               3   1.0     NaN  \n",
              "32560             0  United-States   71709.0               9   NaN     1.0  \n",
              "\n",
              "[32561 rows x 11 columns]"
            ]
          },
          "metadata": {},
          "execution_count": 83
        }
      ],
      "source": [
        "import numpy as np\n",
        "data.replace('?', np.isnan)"
      ]
    },
    {
      "cell_type": "markdown",
      "metadata": {
        "id": "rsO6f0E3gyF6"
      },
      "source": [
        "**<font color='red'>Answer:</font>** empty values have been changed, which could appear due to insufficient data validation."
      ]
    },
    {
      "cell_type": "markdown",
      "metadata": {
        "id": "BRZ8piLMgyF6"
      },
      "source": [
        "**3.3. Count the rows which were changed in the subtask 3.2 (0.30 points)** <br>"
      ]
    },
    {
      "cell_type": "code",
      "execution_count": null,
      "metadata": {
        "id": "MeyNTYLegyF8",
        "scrolled": true,
        "colab": {
          "base_uri": "https://localhost:8080/"
        },
        "outputId": "4ecbef73-28b3-4b12-a68d-20ce50e197a8"
      },
      "outputs": [
        {
          "output_type": "stream",
          "name": "stdout",
          "text": [
            "Difference: 32561\n"
          ]
        }
      ],
      "source": [
        "data_all = pd.concat([original_data, data]).drop_duplicates()\n",
        "diff = data_all.shape[0] - data.shape[0]\n",
        "print ('Difference: ' + str(diff))"
      ]
    },
    {
      "cell_type": "markdown",
      "metadata": {
        "id": "FLjQtWwygyF-"
      },
      "source": [
        "**<font color='red'>Answer:</font>** 32561 rows were changed."
      ]
    },
    {
      "cell_type": "markdown",
      "metadata": {
        "id": "SMz9X0figyF_"
      },
      "source": [
        "**3.4. Report values that look suspicious. By suspicious we mean that you are not sure if those values are wrong or right. This is an open-ended question, use your rational judgement. (0.30 points)** <br> "
      ]
    },
    {
      "cell_type": "markdown",
      "metadata": {
        "id": "_07BDDEJgyF_"
      },
      "source": [
        "**<font color='red'>Answer:</font>** Some of the native country data contain spelling errors, which generally makes it difficult to analyze the data. Also, data in which female and male genders would be listed simultaneously or would be completely absent would make data processing difficult."
      ]
    },
    {
      "cell_type": "markdown",
      "metadata": {
        "id": "W9KyP9U8gyGB"
      },
      "source": [
        "# 4.  Exploring dataset (1.5 points)"
      ]
    },
    {
      "cell_type": "markdown",
      "metadata": {
        "id": "srZFaEN4gyGB"
      },
      "source": [
        "Gathering interesting facts about the `adult.csv` through visualization without complex data analysis."
      ]
    },
    {
      "cell_type": "markdown",
      "metadata": {
        "id": "pRkB8hD3gyGB"
      },
      "source": [
        "**4.1. Convert the attribute `Education` into type `category` and introduce the order for this attribute based on the education level (e.g. Masters is higher education than Bachelors; use your best guess in ordering those levels for which the order is not obvious). Create a bar chart visualising the relative frequencies of values. (0.5 Points)**"
      ]
    },
    {
      "cell_type": "code",
      "execution_count": null,
      "metadata": {
        "id": "jOk7vRjXgyGC"
      },
      "outputs": [],
      "source": [
        "#data.education.astype('categorical')"
      ]
    },
    {
      "cell_type": "markdown",
      "metadata": {
        "id": "xqfN3JGdgyGE"
      },
      "source": [
        "**4.2.  Create and print a Pandas data frame where each row stands for an occupation, each column stands for a level of education, and the cells in the table contain the average salary of people with the corresponding occupation and education level.(0.5 Points)** <br> \n",
        "Hint 1: You can use crosstab, see also aggfunc from the pandas documentation."
      ]
    },
    {
      "cell_type": "code",
      "execution_count": null,
      "metadata": {
        "id": "ZP9FpDmQgyGE",
        "scrolled": false,
        "colab": {
          "base_uri": "https://localhost:8080/",
          "height": 647
        },
        "outputId": "59567fa9-70cd-4f55-ab41-a4b6df6271ae"
      },
      "outputs": [
        {
          "output_type": "execute_result",
          "data": {
            "text/html": [
              "\n",
              "  <div id=\"df-e92e418a-d62d-441c-a009-14d2c1e78c44\">\n",
              "    <div class=\"colab-df-container\">\n",
              "      <div>\n",
              "<style scoped>\n",
              "    .dataframe tbody tr th:only-of-type {\n",
              "        vertical-align: middle;\n",
              "    }\n",
              "\n",
              "    .dataframe tbody tr th {\n",
              "        vertical-align: top;\n",
              "    }\n",
              "\n",
              "    .dataframe thead th {\n",
              "        text-align: right;\n",
              "    }\n",
              "</style>\n",
              "<table border=\"1\" class=\"dataframe\">\n",
              "  <thead>\n",
              "    <tr style=\"text-align: right;\">\n",
              "      <th>education</th>\n",
              "      <th>10th</th>\n",
              "      <th>11th</th>\n",
              "      <th>12th</th>\n",
              "      <th>1st-4th</th>\n",
              "      <th>5th-6th</th>\n",
              "      <th>7th-8th</th>\n",
              "      <th>9th</th>\n",
              "      <th>Assoc-acdm</th>\n",
              "      <th>Assoc-voc</th>\n",
              "      <th>Bachelors</th>\n",
              "      <th>Doctorate</th>\n",
              "      <th>HS-grad</th>\n",
              "      <th>Masters</th>\n",
              "      <th>Preschool</th>\n",
              "      <th>Prof-school</th>\n",
              "      <th>Some-college</th>\n",
              "    </tr>\n",
              "    <tr>\n",
              "      <th>occupation</th>\n",
              "      <th></th>\n",
              "      <th></th>\n",
              "      <th></th>\n",
              "      <th></th>\n",
              "      <th></th>\n",
              "      <th></th>\n",
              "      <th></th>\n",
              "      <th></th>\n",
              "      <th></th>\n",
              "      <th></th>\n",
              "      <th></th>\n",
              "      <th></th>\n",
              "      <th></th>\n",
              "      <th></th>\n",
              "      <th></th>\n",
              "      <th></th>\n",
              "    </tr>\n",
              "  </thead>\n",
              "  <tbody>\n",
              "    <tr>\n",
              "      <th>?</th>\n",
              "      <td>31292.245514</td>\n",
              "      <td>29582.051563</td>\n",
              "      <td>31123.750000</td>\n",
              "      <td>30193.583333</td>\n",
              "      <td>31864.566667</td>\n",
              "      <td>32282.267662</td>\n",
              "      <td>31683.627451</td>\n",
              "      <td>34653.872340</td>\n",
              "      <td>36020.442623</td>\n",
              "      <td>40028.502890</td>\n",
              "      <td>57649.466667</td>\n",
              "      <td>33286.817648</td>\n",
              "      <td>43630.416667</td>\n",
              "      <td>24989.200000</td>\n",
              "      <td>46083.555556</td>\n",
              "      <td>32974.985753</td>\n",
              "    </tr>\n",
              "    <tr>\n",
              "      <th>Adm-clerical</th>\n",
              "      <td>29957.973684</td>\n",
              "      <td>29976.850746</td>\n",
              "      <td>29722.605263</td>\n",
              "      <td>NaN</td>\n",
              "      <td>26075.000000</td>\n",
              "      <td>35226.909091</td>\n",
              "      <td>32473.000000</td>\n",
              "      <td>34836.388601</td>\n",
              "      <td>33989.095808</td>\n",
              "      <td>38987.468379</td>\n",
              "      <td>43041.600000</td>\n",
              "      <td>34729.643318</td>\n",
              "      <td>42550.852941</td>\n",
              "      <td>31927.500000</td>\n",
              "      <td>44568.111111</td>\n",
              "      <td>34387.942978</td>\n",
              "    </tr>\n",
              "    <tr>\n",
              "      <th>Armed-Forces</th>\n",
              "      <td>NaN</td>\n",
              "      <td>NaN</td>\n",
              "      <td>48635.000000</td>\n",
              "      <td>NaN</td>\n",
              "      <td>NaN</td>\n",
              "      <td>NaN</td>\n",
              "      <td>NaN</td>\n",
              "      <td>NaN</td>\n",
              "      <td>NaN</td>\n",
              "      <td>15014.000000</td>\n",
              "      <td>NaN</td>\n",
              "      <td>35544.000000</td>\n",
              "      <td>67993.000000</td>\n",
              "      <td>NaN</td>\n",
              "      <td>NaN</td>\n",
              "      <td>19421.000000</td>\n",
              "    </tr>\n",
              "    <tr>\n",
              "      <th>Craft-repair</th>\n",
              "      <td>35271.211765</td>\n",
              "      <td>36050.302857</td>\n",
              "      <td>35800.189655</td>\n",
              "      <td>32884.086957</td>\n",
              "      <td>33559.627907</td>\n",
              "      <td>33048.060345</td>\n",
              "      <td>35322.854167</td>\n",
              "      <td>41023.078261</td>\n",
              "      <td>42391.511905</td>\n",
              "      <td>45141.606195</td>\n",
              "      <td>54458.500000</td>\n",
              "      <td>38615.121584</td>\n",
              "      <td>46957.590909</td>\n",
              "      <td>33937.500000</td>\n",
              "      <td>52143.714286</td>\n",
              "      <td>41353.640553</td>\n",
              "    </tr>\n",
              "    <tr>\n",
              "      <th>Exec-managerial</th>\n",
              "      <td>38655.333333</td>\n",
              "      <td>36805.441176</td>\n",
              "      <td>36365.307692</td>\n",
              "      <td>50014.500000</td>\n",
              "      <td>71742.000000</td>\n",
              "      <td>42949.736842</td>\n",
              "      <td>38819.615385</td>\n",
              "      <td>46605.034483</td>\n",
              "      <td>45784.686667</td>\n",
              "      <td>50908.816654</td>\n",
              "      <td>63967.981818</td>\n",
              "      <td>42182.164808</td>\n",
              "      <td>57455.882236</td>\n",
              "      <td>NaN</td>\n",
              "      <td>58638.115385</td>\n",
              "      <td>43447.339022</td>\n",
              "    </tr>\n",
              "    <tr>\n",
              "      <th>Farming-fishing</th>\n",
              "      <td>32535.090909</td>\n",
              "      <td>34774.054054</td>\n",
              "      <td>33999.875000</td>\n",
              "      <td>31450.000000</td>\n",
              "      <td>30814.361111</td>\n",
              "      <td>33664.483009</td>\n",
              "      <td>31886.178571</td>\n",
              "      <td>32939.187858</td>\n",
              "      <td>38431.480769</td>\n",
              "      <td>39866.142857</td>\n",
              "      <td>70039.000000</td>\n",
              "      <td>35043.565395</td>\n",
              "      <td>40793.100000</td>\n",
              "      <td>32559.333333</td>\n",
              "      <td>43915.500000</td>\n",
              "      <td>33912.568114</td>\n",
              "    </tr>\n",
              "    <tr>\n",
              "      <th>Handlers-cleaners</th>\n",
              "      <td>32047.000000</td>\n",
              "      <td>30906.227642</td>\n",
              "      <td>32224.447368</td>\n",
              "      <td>31633.062500</td>\n",
              "      <td>32748.475000</td>\n",
              "      <td>30780.347826</td>\n",
              "      <td>34131.204082</td>\n",
              "      <td>33321.333333</td>\n",
              "      <td>34322.857143</td>\n",
              "      <td>37371.940000</td>\n",
              "      <td>NaN</td>\n",
              "      <td>32552.255672</td>\n",
              "      <td>29983.000000</td>\n",
              "      <td>30799.000000</td>\n",
              "      <td>NaN</td>\n",
              "      <td>32719.355805</td>\n",
              "    </tr>\n",
              "    <tr>\n",
              "      <th>Machine-op-inspct</th>\n",
              "      <td>32183.326733</td>\n",
              "      <td>31165.656566</td>\n",
              "      <td>28159.485714</td>\n",
              "      <td>32227.956522</td>\n",
              "      <td>33421.928571</td>\n",
              "      <td>33776.591398</td>\n",
              "      <td>32178.881579</td>\n",
              "      <td>43272.303030</td>\n",
              "      <td>39073.587302</td>\n",
              "      <td>38791.840580</td>\n",
              "      <td>70502.000000</td>\n",
              "      <td>35660.081200</td>\n",
              "      <td>31144.500000</td>\n",
              "      <td>32628.818182</td>\n",
              "      <td>38026.000000</td>\n",
              "      <td>36279.219355</td>\n",
              "    </tr>\n",
              "    <tr>\n",
              "      <th>Other-service</th>\n",
              "      <td>30484.644330</td>\n",
              "      <td>31202.760504</td>\n",
              "      <td>31881.764706</td>\n",
              "      <td>29770.650000</td>\n",
              "      <td>31433.078125</td>\n",
              "      <td>31001.632653</td>\n",
              "      <td>31044.702970</td>\n",
              "      <td>33145.141026</td>\n",
              "      <td>33618.782609</td>\n",
              "      <td>35861.408840</td>\n",
              "      <td>71626.000000</td>\n",
              "      <td>32137.304029</td>\n",
              "      <td>32017.684211</td>\n",
              "      <td>32498.466667</td>\n",
              "      <td>37343.750000</td>\n",
              "      <td>31471.024328</td>\n",
              "    </tr>\n",
              "    <tr>\n",
              "      <th>Priv-house-serv</th>\n",
              "      <td>33172.000000</td>\n",
              "      <td>27458.428571</td>\n",
              "      <td>34069.250000</td>\n",
              "      <td>25066.363636</td>\n",
              "      <td>26133.071429</td>\n",
              "      <td>28921.250000</td>\n",
              "      <td>33230.200000</td>\n",
              "      <td>16753.500000</td>\n",
              "      <td>34781.250000</td>\n",
              "      <td>37750.428571</td>\n",
              "      <td>NaN</td>\n",
              "      <td>31240.140000</td>\n",
              "      <td>28568.000000</td>\n",
              "      <td>26577.000000</td>\n",
              "      <td>NaN</td>\n",
              "      <td>31587.562500</td>\n",
              "    </tr>\n",
              "    <tr>\n",
              "      <th>Prof-specialty</th>\n",
              "      <td>45071.666667</td>\n",
              "      <td>30745.050000</td>\n",
              "      <td>37524.000000</td>\n",
              "      <td>23128.500000</td>\n",
              "      <td>39091.000000</td>\n",
              "      <td>28300.222222</td>\n",
              "      <td>35095.000000</td>\n",
              "      <td>40030.978261</td>\n",
              "      <td>42809.147059</td>\n",
              "      <td>44600.974582</td>\n",
              "      <td>56764.623053</td>\n",
              "      <td>40999.918455</td>\n",
              "      <td>48030.883886</td>\n",
              "      <td>34861.000000</td>\n",
              "      <td>58333.599558</td>\n",
              "      <td>40584.197674</td>\n",
              "    </tr>\n",
              "    <tr>\n",
              "      <th>Protective-serv</th>\n",
              "      <td>26930.166667</td>\n",
              "      <td>38363.142857</td>\n",
              "      <td>30582.833333</td>\n",
              "      <td>41685.000000</td>\n",
              "      <td>19378.000000</td>\n",
              "      <td>30010.333333</td>\n",
              "      <td>33974.000000</td>\n",
              "      <td>42760.500000</td>\n",
              "      <td>41284.541667</td>\n",
              "      <td>50673.920000</td>\n",
              "      <td>NaN</td>\n",
              "      <td>39481.474419</td>\n",
              "      <td>48472.133333</td>\n",
              "      <td>NaN</td>\n",
              "      <td>64038.000000</td>\n",
              "      <td>43383.000000</td>\n",
              "    </tr>\n",
              "    <tr>\n",
              "      <th>Sales</th>\n",
              "      <td>33370.271605</td>\n",
              "      <td>31411.951389</td>\n",
              "      <td>35273.382979</td>\n",
              "      <td>31324.250000</td>\n",
              "      <td>39858.666667</td>\n",
              "      <td>37247.896552</td>\n",
              "      <td>33974.468750</td>\n",
              "      <td>40032.569444</td>\n",
              "      <td>38573.943396</td>\n",
              "      <td>47796.294190</td>\n",
              "      <td>53759.500000</td>\n",
              "      <td>37536.600561</td>\n",
              "      <td>52718.708955</td>\n",
              "      <td>NaN</td>\n",
              "      <td>52483.888889</td>\n",
              "      <td>38450.688801</td>\n",
              "    </tr>\n",
              "    <tr>\n",
              "      <th>Tech-support</th>\n",
              "      <td>44464.666667</td>\n",
              "      <td>32796.666667</td>\n",
              "      <td>43313.000000</td>\n",
              "      <td>NaN</td>\n",
              "      <td>39695.000000</td>\n",
              "      <td>32947.200000</td>\n",
              "      <td>32152.500000</td>\n",
              "      <td>40934.410959</td>\n",
              "      <td>42085.611111</td>\n",
              "      <td>43159.543478</td>\n",
              "      <td>58249.000000</td>\n",
              "      <td>40867.106918</td>\n",
              "      <td>48925.405405</td>\n",
              "      <td>NaN</td>\n",
              "      <td>42851.857143</td>\n",
              "      <td>40650.135531</td>\n",
              "    </tr>\n",
              "    <tr>\n",
              "      <th>Transport-moving</th>\n",
              "      <td>38104.952381</td>\n",
              "      <td>32254.358696</td>\n",
              "      <td>39585.769231</td>\n",
              "      <td>33409.875000</td>\n",
              "      <td>31557.000000</td>\n",
              "      <td>35341.450000</td>\n",
              "      <td>33625.571429</td>\n",
              "      <td>32465.222222</td>\n",
              "      <td>41845.225000</td>\n",
              "      <td>40176.129032</td>\n",
              "      <td>18726.000000</td>\n",
              "      <td>38235.360684</td>\n",
              "      <td>43370.400000</td>\n",
              "      <td>NaN</td>\n",
              "      <td>67293.333333</td>\n",
              "      <td>39624.395760</td>\n",
              "    </tr>\n",
              "  </tbody>\n",
              "</table>\n",
              "</div>\n",
              "      <button class=\"colab-df-convert\" onclick=\"convertToInteractive('df-e92e418a-d62d-441c-a009-14d2c1e78c44')\"\n",
              "              title=\"Convert this dataframe to an interactive table.\"\n",
              "              style=\"display:none;\">\n",
              "        \n",
              "  <svg xmlns=\"http://www.w3.org/2000/svg\" height=\"24px\"viewBox=\"0 0 24 24\"\n",
              "       width=\"24px\">\n",
              "    <path d=\"M0 0h24v24H0V0z\" fill=\"none\"/>\n",
              "    <path d=\"M18.56 5.44l.94 2.06.94-2.06 2.06-.94-2.06-.94-.94-2.06-.94 2.06-2.06.94zm-11 1L8.5 8.5l.94-2.06 2.06-.94-2.06-.94L8.5 2.5l-.94 2.06-2.06.94zm10 10l.94 2.06.94-2.06 2.06-.94-2.06-.94-.94-2.06-.94 2.06-2.06.94z\"/><path d=\"M17.41 7.96l-1.37-1.37c-.4-.4-.92-.59-1.43-.59-.52 0-1.04.2-1.43.59L10.3 9.45l-7.72 7.72c-.78.78-.78 2.05 0 2.83L4 21.41c.39.39.9.59 1.41.59.51 0 1.02-.2 1.41-.59l7.78-7.78 2.81-2.81c.8-.78.8-2.07 0-2.86zM5.41 20L4 18.59l7.72-7.72 1.47 1.35L5.41 20z\"/>\n",
              "  </svg>\n",
              "      </button>\n",
              "      \n",
              "  <style>\n",
              "    .colab-df-container {\n",
              "      display:flex;\n",
              "      flex-wrap:wrap;\n",
              "      gap: 12px;\n",
              "    }\n",
              "\n",
              "    .colab-df-convert {\n",
              "      background-color: #E8F0FE;\n",
              "      border: none;\n",
              "      border-radius: 50%;\n",
              "      cursor: pointer;\n",
              "      display: none;\n",
              "      fill: #1967D2;\n",
              "      height: 32px;\n",
              "      padding: 0 0 0 0;\n",
              "      width: 32px;\n",
              "    }\n",
              "\n",
              "    .colab-df-convert:hover {\n",
              "      background-color: #E2EBFA;\n",
              "      box-shadow: 0px 1px 2px rgba(60, 64, 67, 0.3), 0px 1px 3px 1px rgba(60, 64, 67, 0.15);\n",
              "      fill: #174EA6;\n",
              "    }\n",
              "\n",
              "    [theme=dark] .colab-df-convert {\n",
              "      background-color: #3B4455;\n",
              "      fill: #D2E3FC;\n",
              "    }\n",
              "\n",
              "    [theme=dark] .colab-df-convert:hover {\n",
              "      background-color: #434B5C;\n",
              "      box-shadow: 0px 1px 3px 1px rgba(0, 0, 0, 0.15);\n",
              "      filter: drop-shadow(0px 1px 2px rgba(0, 0, 0, 0.3));\n",
              "      fill: #FFFFFF;\n",
              "    }\n",
              "  </style>\n",
              "\n",
              "      <script>\n",
              "        const buttonEl =\n",
              "          document.querySelector('#df-e92e418a-d62d-441c-a009-14d2c1e78c44 button.colab-df-convert');\n",
              "        buttonEl.style.display =\n",
              "          google.colab.kernel.accessAllowed ? 'block' : 'none';\n",
              "\n",
              "        async function convertToInteractive(key) {\n",
              "          const element = document.querySelector('#df-e92e418a-d62d-441c-a009-14d2c1e78c44');\n",
              "          const dataTable =\n",
              "            await google.colab.kernel.invokeFunction('convertToInteractive',\n",
              "                                                     [key], {});\n",
              "          if (!dataTable) return;\n",
              "\n",
              "          const docLinkHtml = 'Like what you see? Visit the ' +\n",
              "            '<a target=\"_blank\" href=https://colab.research.google.com/notebooks/data_table.ipynb>data table notebook</a>'\n",
              "            + ' to learn more about interactive tables.';\n",
              "          element.innerHTML = '';\n",
              "          dataTable['output_type'] = 'display_data';\n",
              "          await google.colab.output.renderOutput(dataTable, element);\n",
              "          const docLink = document.createElement('div');\n",
              "          docLink.innerHTML = docLinkHtml;\n",
              "          element.appendChild(docLink);\n",
              "        }\n",
              "      </script>\n",
              "    </div>\n",
              "  </div>\n",
              "  "
            ],
            "text/plain": [
              "education                   10th          11th          12th       1st-4th  \\\n",
              "occupation                                                                   \n",
              " ?                  31292.245514  29582.051563  31123.750000  30193.583333   \n",
              " Adm-clerical       29957.973684  29976.850746  29722.605263           NaN   \n",
              " Armed-Forces                NaN           NaN  48635.000000           NaN   \n",
              " Craft-repair       35271.211765  36050.302857  35800.189655  32884.086957   \n",
              " Exec-managerial    38655.333333  36805.441176  36365.307692  50014.500000   \n",
              " Farming-fishing    32535.090909  34774.054054  33999.875000  31450.000000   \n",
              " Handlers-cleaners  32047.000000  30906.227642  32224.447368  31633.062500   \n",
              " Machine-op-inspct  32183.326733  31165.656566  28159.485714  32227.956522   \n",
              " Other-service      30484.644330  31202.760504  31881.764706  29770.650000   \n",
              " Priv-house-serv    33172.000000  27458.428571  34069.250000  25066.363636   \n",
              " Prof-specialty     45071.666667  30745.050000  37524.000000  23128.500000   \n",
              " Protective-serv    26930.166667  38363.142857  30582.833333  41685.000000   \n",
              " Sales              33370.271605  31411.951389  35273.382979  31324.250000   \n",
              " Tech-support       44464.666667  32796.666667  43313.000000           NaN   \n",
              " Transport-moving   38104.952381  32254.358696  39585.769231  33409.875000   \n",
              "\n",
              "education                5th-6th       7th-8th           9th    Assoc-acdm  \\\n",
              "occupation                                                                   \n",
              " ?                  31864.566667  32282.267662  31683.627451  34653.872340   \n",
              " Adm-clerical       26075.000000  35226.909091  32473.000000  34836.388601   \n",
              " Armed-Forces                NaN           NaN           NaN           NaN   \n",
              " Craft-repair       33559.627907  33048.060345  35322.854167  41023.078261   \n",
              " Exec-managerial    71742.000000  42949.736842  38819.615385  46605.034483   \n",
              " Farming-fishing    30814.361111  33664.483009  31886.178571  32939.187858   \n",
              " Handlers-cleaners  32748.475000  30780.347826  34131.204082  33321.333333   \n",
              " Machine-op-inspct  33421.928571  33776.591398  32178.881579  43272.303030   \n",
              " Other-service      31433.078125  31001.632653  31044.702970  33145.141026   \n",
              " Priv-house-serv    26133.071429  28921.250000  33230.200000  16753.500000   \n",
              " Prof-specialty     39091.000000  28300.222222  35095.000000  40030.978261   \n",
              " Protective-serv    19378.000000  30010.333333  33974.000000  42760.500000   \n",
              " Sales              39858.666667  37247.896552  33974.468750  40032.569444   \n",
              " Tech-support       39695.000000  32947.200000  32152.500000  40934.410959   \n",
              " Transport-moving   31557.000000  35341.450000  33625.571429  32465.222222   \n",
              "\n",
              "education              Assoc-voc     Bachelors     Doctorate       HS-grad  \\\n",
              "occupation                                                                   \n",
              " ?                  36020.442623  40028.502890  57649.466667  33286.817648   \n",
              " Adm-clerical       33989.095808  38987.468379  43041.600000  34729.643318   \n",
              " Armed-Forces                NaN  15014.000000           NaN  35544.000000   \n",
              " Craft-repair       42391.511905  45141.606195  54458.500000  38615.121584   \n",
              " Exec-managerial    45784.686667  50908.816654  63967.981818  42182.164808   \n",
              " Farming-fishing    38431.480769  39866.142857  70039.000000  35043.565395   \n",
              " Handlers-cleaners  34322.857143  37371.940000           NaN  32552.255672   \n",
              " Machine-op-inspct  39073.587302  38791.840580  70502.000000  35660.081200   \n",
              " Other-service      33618.782609  35861.408840  71626.000000  32137.304029   \n",
              " Priv-house-serv    34781.250000  37750.428571           NaN  31240.140000   \n",
              " Prof-specialty     42809.147059  44600.974582  56764.623053  40999.918455   \n",
              " Protective-serv    41284.541667  50673.920000           NaN  39481.474419   \n",
              " Sales              38573.943396  47796.294190  53759.500000  37536.600561   \n",
              " Tech-support       42085.611111  43159.543478  58249.000000  40867.106918   \n",
              " Transport-moving   41845.225000  40176.129032  18726.000000  38235.360684   \n",
              "\n",
              "education                Masters     Preschool   Prof-school   Some-college  \n",
              "occupation                                                                   \n",
              " ?                  43630.416667  24989.200000  46083.555556   32974.985753  \n",
              " Adm-clerical       42550.852941  31927.500000  44568.111111   34387.942978  \n",
              " Armed-Forces       67993.000000           NaN           NaN   19421.000000  \n",
              " Craft-repair       46957.590909  33937.500000  52143.714286   41353.640553  \n",
              " Exec-managerial    57455.882236           NaN  58638.115385   43447.339022  \n",
              " Farming-fishing    40793.100000  32559.333333  43915.500000   33912.568114  \n",
              " Handlers-cleaners  29983.000000  30799.000000           NaN   32719.355805  \n",
              " Machine-op-inspct  31144.500000  32628.818182  38026.000000   36279.219355  \n",
              " Other-service      32017.684211  32498.466667  37343.750000   31471.024328  \n",
              " Priv-house-serv    28568.000000  26577.000000           NaN   31587.562500  \n",
              " Prof-specialty     48030.883886  34861.000000  58333.599558   40584.197674  \n",
              " Protective-serv    48472.133333           NaN  64038.000000   43383.000000  \n",
              " Sales              52718.708955           NaN  52483.888889   38450.688801  \n",
              " Tech-support       48925.405405           NaN  42851.857143   40650.135531  \n",
              " Transport-moving   43370.400000           NaN  67293.333333   39624.395760  "
            ]
          },
          "metadata": {},
          "execution_count": 110
        }
      ],
      "source": [
        "crosstable = pd.crosstab(index=data['occupation'], columns=data['education'], values=data['salaries'], aggfunc='mean')\n",
        "crosstable"
      ]
    },
    {
      "cell_type": "markdown",
      "metadata": {
        "id": "SkfgCZwdgyGG"
      },
      "source": [
        "**4.3. Make a separate plot for each row (occupation) of the table created in subtask 4.2. Choose the type of the plot to convey the information as good as you can.(0.25 Points)** <br>"
      ]
    },
    {
      "cell_type": "code",
      "execution_count": null,
      "metadata": {
        "id": "CgInKfXBgyGG",
        "scrolled": false,
        "colab": {
          "base_uri": "https://localhost:8080/",
          "height": 279
        },
        "outputId": "7372a8ef-746a-473b-d098-da271cf8c5b1"
      },
      "outputs": [
        {
          "output_type": "display_data",
          "data": {
            "image/png": "[encoded data removed]",
            "text/plain": [
              "<Figure size 432x288 with 1 Axes>"
            ]
          },
          "metadata": {
            "needs_background": "light"
          }
        }
      ],
      "source": [
        "import matplotlib.pyplot as plt\n",
        "education = {'Doctorate':16, 'Master':15, 'Bachelors':14, 'Some-College':13, 'Assoc-acdm':12, 'Assoc-voc':11, 'Prof-school':10, 'HS-grad':9, '12th':8, '11th':7, '10th':6, '9th':5, '7th-8th':4, '5th-6th':3, '1st-4th':2, 'Preschool':1}\n",
        "transposedOccs = crosstable.T.sort_values(\"education\").plot()"
      ]
    },
    {
      "cell_type": "markdown",
      "metadata": {
        "id": "F16HJ-fagyGH"
      },
      "source": [
        "**4.4. List 3 interesting facts that you can read out of these plots from subtask 4.3. (0.25 points)** <br>"
      ]
    },
    {
      "cell_type": "markdown",
      "metadata": {
        "id": "9oApcs-OgyGI"
      },
      "source": [
        "**<font color='red'>Fact 1:</font>** Executive managerial positions earn a significantly higher amount of money, compared to other occupations. This is especially true with \"5th-6th\" education."
      ]
    },
    {
      "cell_type": "markdown",
      "metadata": {
        "id": "v5CG6OpdgyGI"
      },
      "source": [
        "**<font color='red'>Fact 2:</font>** Private house services have some of the lowest salaries."
      ]
    },
    {
      "cell_type": "markdown",
      "metadata": {
        "id": "KkRuEv5DgyGJ"
      },
      "source": [
        "**<font color='red'>Fact 3:</font>** Sales jobs only provide average or slightly above-average salaries. Don't believe someone when they promise you riches for becoming a salesman."
      ]
    },
    {
      "cell_type": "markdown",
      "metadata": {
        "id": "hxttFXvDTTuS"
      },
      "source": [
        "# 5. Basic Clustering (5 points)\n",
        "We will learn RFM (Recency, Frequency, Monetary value) technique and basic clustering algorithms: K-means, DBSCAN, and Hierarchical clustering in this section. \n",
        "\n"
      ]
    },
    {
      "cell_type": "markdown",
      "metadata": {
        "id": "KIWlyfPHUv7q"
      },
      "source": [
        "## 5.1 RFM (1.5 points)\n",
        "We will apply the RFM technique in this section similar to the practice session. The dataset for this task belongs to http://donorschoose.org/. \n",
        "\n",
        "The web platform http://donorschoose.org helps projects in collecting donations. The donators have the option to give 15% of what they donate to this webplatform. The dataset contains the following fields:\n",
        "\n",
        "- Donor ID - Unique identifier of donors\n",
        "- Donation Included Optional Donation - The donor has agreed(Yes/No) to give 15% of donation amount to Donoschoose.org\n",
        "- Donation Amount - Total amount donated\n",
        "- Donor Cart Sequence - The ranking of the donaton project in the donors list\n",
        "- Donation Received Date - Date of online payment\n"
      ]
    },
    {
      "cell_type": "markdown",
      "metadata": {
        "id": "EzHz71HBTTuS"
      },
      "source": [
        "**5.1.1**\n",
        "**Please load the dataset Donations.csv. <br>The field ```Donation Included Optional Donation``` shows if the donor agreed (Yes/No) to give 15% of donation amount to Donoschoose.org. <br>Update the field \"Donation Amount\" so that it represents the correct amount of donation; which means if `Donation Included Optional Donation`=yes, calculate the `Donation Amount`. (0.25 points)** "
      ]
    },
    {
      "cell_type": "code",
      "execution_count": null,
      "metadata": {
        "id": "njF6zluVTTuS",
        "colab": {
          "base_uri": "https://localhost:8080/"
        },
        "outputId": "f84e578f-eea3-4799-dce6-f7dc733af23d"
      },
      "outputs": [
        {
          "output_type": "stream",
          "name": "stdout",
          "text": [
            "<class 'pandas.core.frame.DataFrame'>\n",
            "RangeIndex: 2169634 entries, 0 to 2169633\n",
            "Data columns (total 5 columns):\n",
            " #   Column                               Dtype         \n",
            "---  ------                               -----         \n",
            " 0   Donor ID                             object        \n",
            " 1   Donation Included Optional Donation  object        \n",
            " 2   Donation Amount                      float64       \n",
            " 3   Donor Cart Sequence                  int64         \n",
            " 4   Donation Received Date               datetime64[ns]\n",
            "dtypes: datetime64[ns](1), float64(1), int64(1), object(2)\n",
            "memory usage: 82.8+ MB\n"
          ]
        }
      ],
      "source": [
        "import pandas as pd\n",
        "import numpy as np\n",
        "\n",
        "df = pd.read_csv(\"Donations.csv\", sep=' ')\n",
        "\n",
        "df[\"Donation Received Date\"] = pd.to_datetime(df[\"Donation Received Date\"])\n",
        "\n",
        "df['Donation Amount'] = np.where(df['Donation Included Optional Donation'].eq(\"Yes\"), \n",
        "                                 round(df[\"Donation Amount\"]*(1 - 0.15), 2), \n",
        "                                 df[\"Donation Amount\"])\n",
        "df.info()"
      ]
    },
    {
      "cell_type": "markdown",
      "metadata": {
        "id": "YiAqRFfoTTuT"
      },
      "source": [
        "**5.1.2 For understanding `Recency`, consider 2018-05-31 23:00:00 as the reference date\n",
        "(we assume this is report date).<br> Calculate the number of days between this date and the date of last purchase  for each customer. How long the donor with ID equal to e0fe4d9b8def8a71635e65ba4ff5ef40 has been inactive ? (0.25 points)**"
      ]
    },
    {
      "cell_type": "code",
      "execution_count": null,
      "metadata": {
        "id": "0Y6ue9XaTTuT",
        "colab": {
          "base_uri": "https://localhost:8080/"
        },
        "outputId": "1a63c263-5401-4c4f-ea55-7ed4e7ed6be0"
      },
      "outputs": [
        {
          "output_type": "execute_result",
          "data": {
            "text/plain": [
              "Recency    34\n",
              "Name: e0fe4d9b8def8a71635e65ba4ff5ef40, dtype: int64"
            ]
          },
          "metadata": {},
          "execution_count": 88
        }
      ],
      "source": [
        "reference_date = pd.to_datetime('2018-05-31 23:00:00')\n",
        "rfm = pd.DataFrame()\n",
        "rfm[\"Recency\"] = df.groupby('Donor ID').agg({'Donation Received Date': lambda date: int((reference_date - date.max()).days)})\n",
        "\n",
        "# Let's calculate how long the donor with ID e0fe4d9b8def8a71635e65ba4ff5ef40 has been inactive\n",
        "rfm.loc['e0fe4d9b8def8a71635e65ba4ff5ef40']"
      ]
    },
    {
      "cell_type": "markdown",
      "source": [
        "<font color='red'>**Answer:**</font> The donor with ID e0fe4d9b8def8a71635e65ba4ff5ef40 has been inactive for 34 days."
      ],
      "metadata": {
        "id": "0JM3ZbmJwZK0"
      }
    },
    {
      "cell_type": "markdown",
      "metadata": {
        "id": "5UU7gBDVTTuT"
      },
      "source": [
        "**5.1.3 For understanding `Frequency`, calculate how frequently (how many times) a user has made donations.<br> Assume that we want to recognize the person with the highest frequency by displaying her/ his name on the webpage, please find the donor ID for the highest frequency available. (0.25 points)**"
      ]
    },
    {
      "cell_type": "code",
      "execution_count": null,
      "metadata": {
        "id": "8CvdrcUSTTuT",
        "colab": {
          "base_uri": "https://localhost:8080/",
          "height": 35
        },
        "outputId": "7221cd43-f655-40c0-df40-843e4cc2b0ce"
      },
      "outputs": [
        {
          "output_type": "execute_result",
          "data": {
            "application/vnd.google.colaboratory.intrinsic+json": {
              "type": "string"
            },
            "text/plain": [
              "'39df9399f5384334a42905bcf0acdcbf'"
            ]
          },
          "metadata": {},
          "execution_count": 89
        }
      ],
      "source": [
        "# We temporarily concatenate a Donation ID column, in order to count the number of donations when aggregating\n",
        "dfIndex = pd.DataFrame()\n",
        "dfIndex[\"Donation ID\"] = df.index\n",
        "dfWithIndex = pd.concat([dfIndex, df], axis=1)\n",
        "\n",
        "# We count the number of donations per donor ID by aggregating\n",
        "rfm[\"Frequency\"] = dfWithIndex.groupby('Donor ID').agg({'Donation ID': lambda num: num.shape[0]})\n",
        "\n",
        "\n",
        "# We find the Donor ID for the person with the highest frequency\n",
        "rfm.Frequency.idxmax()"
      ]
    },
    {
      "cell_type": "markdown",
      "source": [
        "<font color='red'>**Answer:**</font> The donor ID for the person with the highest frequency is 39df9399f5384334a42905bcf0acdcbf"
      ],
      "metadata": {
        "id": "KtdVu5eZjtAU"
      }
    },
    {
      "cell_type": "markdown",
      "metadata": {
        "id": "s2ZG95vmTTuT"
      },
      "source": [
        "**5.1.4 For understanding `Monetary Value`, calculate the amount of donation. <br> What is the highest donation amount and what is the donor ID of that donation? <br> Is donor ID from from this the same with donor ID from the highest frequency? (0.25 points)**"
      ]
    },
    {
      "cell_type": "code",
      "execution_count": null,
      "metadata": {
        "id": "ojHx71yETTuU",
        "colab": {
          "base_uri": "https://localhost:8080/",
          "height": 81
        },
        "outputId": "dc9b29e8-5420-4cc7-8f96-cfee932d3862"
      },
      "outputs": [
        {
          "output_type": "execute_result",
          "data": {
            "text/html": [
              "\n",
              "  <div id=\"df-47191e0b-1b2f-4341-a96c-2608ce16a42b\">\n",
              "    <div class=\"colab-df-container\">\n",
              "      <div>\n",
              "<style scoped>\n",
              "    .dataframe tbody tr th:only-of-type {\n",
              "        vertical-align: middle;\n",
              "    }\n",
              "\n",
              "    .dataframe tbody tr th {\n",
              "        vertical-align: top;\n",
              "    }\n",
              "\n",
              "    .dataframe thead th {\n",
              "        text-align: right;\n",
              "    }\n",
              "</style>\n",
              "<table border=\"1\" class=\"dataframe\">\n",
              "  <thead>\n",
              "    <tr style=\"text-align: right;\">\n",
              "      <th></th>\n",
              "      <th>Donor ID</th>\n",
              "      <th>Donation Included Optional Donation</th>\n",
              "      <th>Donation Amount</th>\n",
              "      <th>Donor Cart Sequence</th>\n",
              "      <th>Donation Received Date</th>\n",
              "    </tr>\n",
              "  </thead>\n",
              "  <tbody>\n",
              "    <tr>\n",
              "      <th>1189376</th>\n",
              "      <td>8f70fc7370842e0709cd9af3d29b4b0b</td>\n",
              "      <td>No</td>\n",
              "      <td>60000.0</td>\n",
              "      <td>59</td>\n",
              "      <td>2013-04-25 14:25:57</td>\n",
              "    </tr>\n",
              "  </tbody>\n",
              "</table>\n",
              "</div>\n",
              "      <button class=\"colab-df-convert\" onclick=\"convertToInteractive('df-47191e0b-1b2f-4341-a96c-2608ce16a42b')\"\n",
              "              title=\"Convert this dataframe to an interactive table.\"\n",
              "              style=\"display:none;\">\n",
              "        \n",
              "  <svg xmlns=\"http://www.w3.org/2000/svg\" height=\"24px\"viewBox=\"0 0 24 24\"\n",
              "       width=\"24px\">\n",
              "    <path d=\"M0 0h24v24H0V0z\" fill=\"none\"/>\n",
              "    <path d=\"M18.56 5.44l.94 2.06.94-2.06 2.06-.94-2.06-.94-.94-2.06-.94 2.06-2.06.94zm-11 1L8.5 8.5l.94-2.06 2.06-.94-2.06-.94L8.5 2.5l-.94 2.06-2.06.94zm10 10l.94 2.06.94-2.06 2.06-.94-2.06-.94-.94-2.06-.94 2.06-2.06.94z\"/><path d=\"M17.41 7.96l-1.37-1.37c-.4-.4-.92-.59-1.43-.59-.52 0-1.04.2-1.43.59L10.3 9.45l-7.72 7.72c-.78.78-.78 2.05 0 2.83L4 21.41c.39.39.9.59 1.41.59.51 0 1.02-.2 1.41-.59l7.78-7.78 2.81-2.81c.8-.78.8-2.07 0-2.86zM5.41 20L4 18.59l7.72-7.72 1.47 1.35L5.41 20z\"/>\n",
              "  </svg>\n",
              "      </button>\n",
              "      \n",
              "  <style>\n",
              "    .colab-df-container {\n",
              "      display:flex;\n",
              "      flex-wrap:wrap;\n",
              "      gap: 12px;\n",
              "    }\n",
              "\n",
              "    .colab-df-convert {\n",
              "      background-color: #E8F0FE;\n",
              "      border: none;\n",
              "      border-radius: 50%;\n",
              "      cursor: pointer;\n",
              "      display: none;\n",
              "      fill: #1967D2;\n",
              "      height: 32px;\n",
              "      padding: 0 0 0 0;\n",
              "      width: 32px;\n",
              "    }\n",
              "\n",
              "    .colab-df-convert:hover {\n",
              "      background-color: #E2EBFA;\n",
              "      box-shadow: 0px 1px 2px rgba(60, 64, 67, 0.3), 0px 1px 3px 1px rgba(60, 64, 67, 0.15);\n",
              "      fill: #174EA6;\n",
              "    }\n",
              "\n",
              "    [theme=dark] .colab-df-convert {\n",
              "      background-color: #3B4455;\n",
              "      fill: #D2E3FC;\n",
              "    }\n",
              "\n",
              "    [theme=dark] .colab-df-convert:hover {\n",
              "      background-color: #434B5C;\n",
              "      box-shadow: 0px 1px 3px 1px rgba(0, 0, 0, 0.15);\n",
              "      filter: drop-shadow(0px 1px 2px rgba(0, 0, 0, 0.3));\n",
              "      fill: #FFFFFF;\n",
              "    }\n",
              "  </style>\n",
              "\n",
              "      <script>\n",
              "        const buttonEl =\n",
              "          document.querySelector('#df-47191e0b-1b2f-4341-a96c-2608ce16a42b button.colab-df-convert');\n",
              "        buttonEl.style.display =\n",
              "          google.colab.kernel.accessAllowed ? 'block' : 'none';\n",
              "\n",
              "        async function convertToInteractive(key) {\n",
              "          const element = document.querySelector('#df-47191e0b-1b2f-4341-a96c-2608ce16a42b');\n",
              "          const dataTable =\n",
              "            await google.colab.kernel.invokeFunction('convertToInteractive',\n",
              "                                                     [key], {});\n",
              "          if (!dataTable) return;\n",
              "\n",
              "          const docLinkHtml = 'Like what you see? Visit the ' +\n",
              "            '<a target=\"_blank\" href=https://colab.research.google.com/notebooks/data_table.ipynb>data table notebook</a>'\n",
              "            + ' to learn more about interactive tables.';\n",
              "          element.innerHTML = '';\n",
              "          dataTable['output_type'] = 'display_data';\n",
              "          await google.colab.output.renderOutput(dataTable, element);\n",
              "          const docLink = document.createElement('div');\n",
              "          docLink.innerHTML = docLinkHtml;\n",
              "          element.appendChild(docLink);\n",
              "        }\n",
              "      </script>\n",
              "    </div>\n",
              "  </div>\n",
              "  "
            ],
            "text/plain": [
              "                                 Donor ID Donation Included Optional Donation  \\\n",
              "1189376  8f70fc7370842e0709cd9af3d29b4b0b                                  No   \n",
              "\n",
              "         Donation Amount  Donor Cart Sequence Donation Received Date  \n",
              "1189376          60000.0                   59    2013-04-25 14:25:57  "
            ]
          },
          "metadata": {},
          "execution_count": 90
        }
      ],
      "source": [
        "#Let's calculate monetary value (how much each person has donated)\n",
        "rfm[\"Monetary\"] = df.groupby('Donor ID').agg({'Donation Amount': lambda price: price.sum()})\n",
        "\n",
        "# Let's find the highest single donation amount\n",
        "df.sort_values(\"Donation Amount\", ascending=False).head(1)\n",
        "\n",
        "# NOTE: If I wanted to find the person who has donated the most money total, I'd do this:\n",
        "# rfm.sort_values(\"Monetary\", ascending=False).head(1)"
      ]
    },
    {
      "cell_type": "markdown",
      "source": [
        "<font color='red'>**Answer:**</font> The highest donation amount is 60000 and this donator's donor ID is 8f70fc7370842e0709cd9af3d29b4b0b. It is not the same donor ID as the donor with the highest frequency.\t\t"
      ],
      "metadata": {
        "id": "3KIFLFvV2uze"
      }
    },
    {
      "cell_type": "markdown",
      "metadata": {
        "id": "YhQ4oh2pTTuU"
      },
      "source": [
        "**5.1.5 Create a column `RFM_Score` with the quantiles of Recency, Frequency, Monetary value. Interpret the value of `RFM_Score`. (0.50 points)**"
      ]
    },
    {
      "cell_type": "code",
      "execution_count": null,
      "metadata": {
        "id": "FqrOG6-UTTuU",
        "colab": {
          "base_uri": "https://localhost:8080/"
        },
        "outputId": "c09cb8ba-0fd6-4582-d495-2d9a572b0d0d"
      },
      "outputs": [
        {
          "output_type": "execute_result",
          "data": {
            "text/plain": [
              "54.439144617223924"
            ]
          },
          "metadata": {},
          "execution_count": 91
        }
      ],
      "source": [
        "# Let's separate RFM to quartiles\n",
        "rfm['r_quantile'] = pd.qcut(rfm['Recency'], 5, ['1','2','3','4', '5'])\n",
        "rfm['f_quantile'] = pd.qcut(rfm['Frequency'].rank(method='first'), 5, ['5', '4','3','2','1']) \n",
        "rfm['m_quantile'] = pd.qcut(rfm['Monetary'], 5, ['5', '4','3','2','1'])\n",
        "# Note: Technically the \"rank(method='first')\" section violates some rules of quartiles, \n",
        "# because it splits identical elements into different bins.\n",
        "# However, in our case we're disregarding this rule for the sake of analysis, \n",
        "# as it's the only way we can successfully divide the elements into bins of appropriate sizes.\n",
        "\n",
        "# Let's create a single RFM score to interpret the data a bit easier\n",
        "rfm[\"RFM_Score\"] = rfm.r_quantile.astype(str)+ rfm.f_quantile.astype(str) + rfm.m_quantile.astype(str)\n",
        "\n",
        "# Let's find our most valuable donators\n",
        "rfm[rfm['RFM_Score']=='111'].sort_values('Monetary', ascending=False)\n",
        "\n",
        "# (out of curiosity), Let's find out how much money our most valuable donators donate in a single transaction on average\n",
        "mostValuableDonators = df[df[\"Donor ID\"].isin(rfm[rfm['RFM_Score']=='111'].index)]\n",
        "mostValuableDonators[\"Donation Amount\"].mean()"
      ]
    },
    {
      "cell_type": "code",
      "source": [
        "ax = sns.jointplot(hue=\"r_quantile\", x=\"Frequency\", y=\"Monetary\", data=rfm, palette='mako')"
      ],
      "metadata": {
        "colab": {
          "base_uri": "https://localhost:8080/",
          "height": 441
        },
        "id": "hM8WuC68oZcV",
        "outputId": "665dceb3-f067-4168-9582-8b28cbbb4175"
      },
      "execution_count": null,
      "outputs": [
        {
          "output_type": "display_data",
          "data": {
            "image/png": "[encoded data removed]",
            "text/plain": [
              "<Figure size 432x432 with 3 Axes>"
            ]
          },
          "metadata": {}
        }
      ]
    },
    {
      "cell_type": "markdown",
      "source": [
        "<font color='red'>**Answer:**</font> By graphing out and interpreting the RFM, we can see that our most recent donators donate either very frequently or in large amounts. \n",
        "\n",
        "However, most of the donators have donated very small amounts of money very infrequently.\n",
        "\n",
        "Also, based on the RFM score, our most valuable donators on average donate about 54.44 at a time."
      ],
      "metadata": {
        "id": "Db8J5MX8oaeK"
      }
    },
    {
      "cell_type": "markdown",
      "metadata": {
        "id": "DxVq6XBUTTuU"
      },
      "source": [
        "## 5.2 K-means Clustering (1.5 points)\n",
        "We will learn to apply K-means clustering algorithm in this section. "
      ]
    },
    {
      "cell_type": "markdown",
      "metadata": {
        "id": "6YaoYBLxTTuV"
      },
      "source": [
        "**5.2.1 Plese load the `customers.csv` dataset and provide a descriptives of the dataset. (0.05 points)** <br>\n",
        "*Make sure to pass `encoding = \"ISO-8859-1\"` in the pandas read_csv() function*"
      ]
    },
    {
      "cell_type": "code",
      "execution_count": null,
      "metadata": {
        "id": "CXnBReqnTTuV",
        "colab": {
          "base_uri": "https://localhost:8080/",
          "height": 394
        },
        "outputId": "3e3e0821-9dbf-444d-b5d9-a02fa95dc8c4"
      },
      "outputs": [
        {
          "output_type": "execute_result",
          "data": {
            "text/html": [
              "\n",
              "  <div id=\"df-d0313a2a-5377-4d99-b221-aee92de945a4\">\n",
              "    <div class=\"colab-df-container\">\n",
              "      <div>\n",
              "<style scoped>\n",
              "    .dataframe tbody tr th:only-of-type {\n",
              "        vertical-align: middle;\n",
              "    }\n",
              "\n",
              "    .dataframe tbody tr th {\n",
              "        vertical-align: top;\n",
              "    }\n",
              "\n",
              "    .dataframe thead th {\n",
              "        text-align: right;\n",
              "    }\n",
              "</style>\n",
              "<table border=\"1\" class=\"dataframe\">\n",
              "  <thead>\n",
              "    <tr style=\"text-align: right;\">\n",
              "      <th></th>\n",
              "      <th>CustomerID</th>\n",
              "      <th>Gender</th>\n",
              "      <th>Age</th>\n",
              "      <th>Annual Income (k$)</th>\n",
              "      <th>Spending Score (1-100)</th>\n",
              "    </tr>\n",
              "  </thead>\n",
              "  <tbody>\n",
              "    <tr>\n",
              "      <th>count</th>\n",
              "      <td>200.000000</td>\n",
              "      <td>200</td>\n",
              "      <td>200.000000</td>\n",
              "      <td>200.000000</td>\n",
              "      <td>200.000000</td>\n",
              "    </tr>\n",
              "    <tr>\n",
              "      <th>unique</th>\n",
              "      <td>NaN</td>\n",
              "      <td>2</td>\n",
              "      <td>NaN</td>\n",
              "      <td>NaN</td>\n",
              "      <td>NaN</td>\n",
              "    </tr>\n",
              "    <tr>\n",
              "      <th>top</th>\n",
              "      <td>NaN</td>\n",
              "      <td>Female</td>\n",
              "      <td>NaN</td>\n",
              "      <td>NaN</td>\n",
              "      <td>NaN</td>\n",
              "    </tr>\n",
              "    <tr>\n",
              "      <th>freq</th>\n",
              "      <td>NaN</td>\n",
              "      <td>112</td>\n",
              "      <td>NaN</td>\n",
              "      <td>NaN</td>\n",
              "      <td>NaN</td>\n",
              "    </tr>\n",
              "    <tr>\n",
              "      <th>mean</th>\n",
              "      <td>100.500000</td>\n",
              "      <td>NaN</td>\n",
              "      <td>38.850000</td>\n",
              "      <td>60.560000</td>\n",
              "      <td>50.200000</td>\n",
              "    </tr>\n",
              "    <tr>\n",
              "      <th>std</th>\n",
              "      <td>57.879185</td>\n",
              "      <td>NaN</td>\n",
              "      <td>13.969007</td>\n",
              "      <td>26.264721</td>\n",
              "      <td>25.823522</td>\n",
              "    </tr>\n",
              "    <tr>\n",
              "      <th>min</th>\n",
              "      <td>1.000000</td>\n",
              "      <td>NaN</td>\n",
              "      <td>18.000000</td>\n",
              "      <td>15.000000</td>\n",
              "      <td>1.000000</td>\n",
              "    </tr>\n",
              "    <tr>\n",
              "      <th>25%</th>\n",
              "      <td>50.750000</td>\n",
              "      <td>NaN</td>\n",
              "      <td>28.750000</td>\n",
              "      <td>41.500000</td>\n",
              "      <td>34.750000</td>\n",
              "    </tr>\n",
              "    <tr>\n",
              "      <th>50%</th>\n",
              "      <td>100.500000</td>\n",
              "      <td>NaN</td>\n",
              "      <td>36.000000</td>\n",
              "      <td>61.500000</td>\n",
              "      <td>50.000000</td>\n",
              "    </tr>\n",
              "    <tr>\n",
              "      <th>75%</th>\n",
              "      <td>150.250000</td>\n",
              "      <td>NaN</td>\n",
              "      <td>49.000000</td>\n",
              "      <td>78.000000</td>\n",
              "      <td>73.000000</td>\n",
              "    </tr>\n",
              "    <tr>\n",
              "      <th>max</th>\n",
              "      <td>200.000000</td>\n",
              "      <td>NaN</td>\n",
              "      <td>70.000000</td>\n",
              "      <td>137.000000</td>\n",
              "      <td>99.000000</td>\n",
              "    </tr>\n",
              "  </tbody>\n",
              "</table>\n",
              "</div>\n",
              "      <button class=\"colab-df-convert\" onclick=\"convertToInteractive('df-d0313a2a-5377-4d99-b221-aee92de945a4')\"\n",
              "              title=\"Convert this dataframe to an interactive table.\"\n",
              "              style=\"display:none;\">\n",
              "        \n",
              "  <svg xmlns=\"http://www.w3.org/2000/svg\" height=\"24px\"viewBox=\"0 0 24 24\"\n",
              "       width=\"24px\">\n",
              "    <path d=\"M0 0h24v24H0V0z\" fill=\"none\"/>\n",
              "    <path d=\"M18.56 5.44l.94 2.06.94-2.06 2.06-.94-2.06-.94-.94-2.06-.94 2.06-2.06.94zm-11 1L8.5 8.5l.94-2.06 2.06-.94-2.06-.94L8.5 2.5l-.94 2.06-2.06.94zm10 10l.94 2.06.94-2.06 2.06-.94-2.06-.94-.94-2.06-.94 2.06-2.06.94z\"/><path d=\"M17.41 7.96l-1.37-1.37c-.4-.4-.92-.59-1.43-.59-.52 0-1.04.2-1.43.59L10.3 9.45l-7.72 7.72c-.78.78-.78 2.05 0 2.83L4 21.41c.39.39.9.59 1.41.59.51 0 1.02-.2 1.41-.59l7.78-7.78 2.81-2.81c.8-.78.8-2.07 0-2.86zM5.41 20L4 18.59l7.72-7.72 1.47 1.35L5.41 20z\"/>\n",
              "  </svg>\n",
              "      </button>\n",
              "      \n",
              "  <style>\n",
              "    .colab-df-container {\n",
              "      display:flex;\n",
              "      flex-wrap:wrap;\n",
              "      gap: 12px;\n",
              "    }\n",
              "\n",
              "    .colab-df-convert {\n",
              "      background-color: #E8F0FE;\n",
              "      border: none;\n",
              "      border-radius: 50%;\n",
              "      cursor: pointer;\n",
              "      display: none;\n",
              "      fill: #1967D2;\n",
              "      height: 32px;\n",
              "      padding: 0 0 0 0;\n",
              "      width: 32px;\n",
              "    }\n",
              "\n",
              "    .colab-df-convert:hover {\n",
              "      background-color: #E2EBFA;\n",
              "      box-shadow: 0px 1px 2px rgba(60, 64, 67, 0.3), 0px 1px 3px 1px rgba(60, 64, 67, 0.15);\n",
              "      fill: #174EA6;\n",
              "    }\n",
              "\n",
              "    [theme=dark] .colab-df-convert {\n",
              "      background-color: #3B4455;\n",
              "      fill: #D2E3FC;\n",
              "    }\n",
              "\n",
              "    [theme=dark] .colab-df-convert:hover {\n",
              "      background-color: #434B5C;\n",
              "      box-shadow: 0px 1px 3px 1px rgba(0, 0, 0, 0.15);\n",
              "      filter: drop-shadow(0px 1px 2px rgba(0, 0, 0, 0.3));\n",
              "      fill: #FFFFFF;\n",
              "    }\n",
              "  </style>\n",
              "\n",
              "      <script>\n",
              "        const buttonEl =\n",
              "          document.querySelector('#df-d0313a2a-5377-4d99-b221-aee92de945a4 button.colab-df-convert');\n",
              "        buttonEl.style.display =\n",
              "          google.colab.kernel.accessAllowed ? 'block' : 'none';\n",
              "\n",
              "        async function convertToInteractive(key) {\n",
              "          const element = document.querySelector('#df-d0313a2a-5377-4d99-b221-aee92de945a4');\n",
              "          const dataTable =\n",
              "            await google.colab.kernel.invokeFunction('convertToInteractive',\n",
              "                                                     [key], {});\n",
              "          if (!dataTable) return;\n",
              "\n",
              "          const docLinkHtml = 'Like what you see? Visit the ' +\n",
              "            '<a target=\"_blank\" href=https://colab.research.google.com/notebooks/data_table.ipynb>data table notebook</a>'\n",
              "            + ' to learn more about interactive tables.';\n",
              "          element.innerHTML = '';\n",
              "          dataTable['output_type'] = 'display_data';\n",
              "          await google.colab.output.renderOutput(dataTable, element);\n",
              "          const docLink = document.createElement('div');\n",
              "          docLink.innerHTML = docLinkHtml;\n",
              "          element.appendChild(docLink);\n",
              "        }\n",
              "      </script>\n",
              "    </div>\n",
              "  </div>\n",
              "  "
            ],
            "text/plain": [
              "        CustomerID  Gender         Age  Annual Income (k$)  \\\n",
              "count   200.000000     200  200.000000          200.000000   \n",
              "unique         NaN       2         NaN                 NaN   \n",
              "top            NaN  Female         NaN                 NaN   \n",
              "freq           NaN     112         NaN                 NaN   \n",
              "mean    100.500000     NaN   38.850000           60.560000   \n",
              "std      57.879185     NaN   13.969007           26.264721   \n",
              "min       1.000000     NaN   18.000000           15.000000   \n",
              "25%      50.750000     NaN   28.750000           41.500000   \n",
              "50%     100.500000     NaN   36.000000           61.500000   \n",
              "75%     150.250000     NaN   49.000000           78.000000   \n",
              "max     200.000000     NaN   70.000000          137.000000   \n",
              "\n",
              "        Spending Score (1-100)  \n",
              "count               200.000000  \n",
              "unique                     NaN  \n",
              "top                        NaN  \n",
              "freq                       NaN  \n",
              "mean                 50.200000  \n",
              "std                  25.823522  \n",
              "min                   1.000000  \n",
              "25%                  34.750000  \n",
              "50%                  50.000000  \n",
              "75%                  73.000000  \n",
              "max                  99.000000  "
            ]
          },
          "metadata": {},
          "execution_count": 93
        }
      ],
      "source": [
        "import pandas as pd\n",
        "\n",
        "df = pd.read_csv(\"customers.csv\", encoding = \"ISO-8859-1\")\n",
        "\n",
        "df.describe(include='all')"
      ]
    },
    {
      "cell_type": "markdown",
      "metadata": {
        "id": "oIbOA9lvTTuV"
      },
      "source": [
        "**5.2.2 Visualize the relation of `Age` and `Annual Income (k$)` of customers in the dataset. You can use your perefered plotting method to show the result. Could you explain the result if there is any relation among the variables? (0.10 points)**"
      ]
    },
    {
      "cell_type": "code",
      "execution_count": null,
      "metadata": {
        "id": "YfRqVfdjTTuV",
        "colab": {
          "base_uri": "https://localhost:8080/",
          "height": 420
        },
        "outputId": "c969c599-fdd2-4efe-8869-8e117bcafd0c"
      },
      "outputs": [
        {
          "output_type": "display_data",
          "data": {
            "image/png": "[encoded data removed]",
            "text/plain": [
              "<Figure size 432x432 with 1 Axes>"
            ]
          },
          "metadata": {}
        }
      ],
      "source": [
        "import numpy as np\n",
        "from matplotlib import pyplot as plt\n",
        "import seaborn as sns\n",
        "\n",
        "plt.rcParams['figure.figsize'] = [6, 6]\n",
        "plt.style.use(\"fivethirtyeight\")\n",
        "ax = sns.scatterplot(x='Age', y=\"Annual Income (k$)\", data=df)"
      ]
    },
    {
      "cell_type": "markdown",
      "source": [
        "<font color='red'>**Answer:**</font> \n",
        "Before the age of 25, the top annual income of customers is around 81 thousand dollars. This is probably because it is difficult to get high-paying jobs at a young age. Generally, high-paying jobs require career experience.\n",
        "\n",
        "Additionally, after the age of 55, the top annual income decreases to around 100 thousand dollars per year and keeps decreasing. This is likely because beyond that age, the customers may become too old for the job market.\n",
        "\n",
        "Between the ages 25 and 55, the annual income varies from 10 to 139 dollars per hour."
      ],
      "metadata": {
        "id": "YYF9karskkgn"
      }
    },
    {
      "cell_type": "markdown",
      "metadata": {
        "id": "-KT0rjbVTTuW"
      },
      "source": [
        "**5.2.3 Visualize the relation of `Age` and `Spending Score (1-100)` of customers in the dataset. You can use your perefered plotting method to show the result. Could you explain the result if there is anything interesting going on? (0.10 points)**"
      ]
    },
    {
      "cell_type": "code",
      "execution_count": null,
      "metadata": {
        "id": "JVXB_gS-TTuW",
        "colab": {
          "base_uri": "https://localhost:8080/",
          "height": 420
        },
        "outputId": "ea8b64c9-32df-4546-f6c6-8e69411eceba"
      },
      "outputs": [
        {
          "output_type": "display_data",
          "data": {
            "image/png": "[encoded data removed]",
            "text/plain": [
              "<Figure size 432x432 with 1 Axes>"
            ]
          },
          "metadata": {}
        }
      ],
      "source": [
        "plt.rcParams['figure.figsize'] = [6, 6]\n",
        "plt.style.use(\"fivethirtyeight\")\n",
        "ax = sns.scatterplot(x='Age', y=\"Spending Score (1-100)\", data=df)"
      ]
    },
    {
      "cell_type": "markdown",
      "source": [
        "<font color='red'>**Answer:**</font> Customers that are below 30 years old typically have a very high spending score (at least 30). Customers between the ages 30 and 50 have a lot of variety in spending score, all the way from 1 to 100. Customers above the age of 40 have a much lower spending score of about 2 to 60."
      ],
      "metadata": {
        "id": "DMAV_J1BkqRf"
      }
    },
    {
      "cell_type": "markdown",
      "metadata": {
        "id": "lilm8rLVTTuX"
      },
      "source": [
        "**5.2.4 Visualize the relation of `Annual Income (k$)` and `Spending Score (1-100)` of customers in the dataset. (0.10 points)**"
      ]
    },
    {
      "cell_type": "code",
      "execution_count": null,
      "metadata": {
        "id": "8czjAtb5TTuX",
        "colab": {
          "base_uri": "https://localhost:8080/",
          "height": 420
        },
        "outputId": "91705176-44cf-4e42-e10d-313c73e58d29"
      },
      "outputs": [
        {
          "output_type": "display_data",
          "data": {
            "image/png": "[encoded data removed]",
            "text/plain": [
              "<Figure size 432x432 with 1 Axes>"
            ]
          },
          "metadata": {}
        }
      ],
      "source": [
        "plt.rcParams['figure.figsize'] = [6, 6]\n",
        "plt.style.use(\"fivethirtyeight\")\n",
        "ax = sns.scatterplot(x='Annual Income (k$)', y=\"Spending Score (1-100)\", data=df)"
      ]
    },
    {
      "cell_type": "markdown",
      "metadata": {
        "id": "j6bsJJ6aTTuX"
      },
      "source": [
        "If you successfully plotted the diagram of 5.2.4, you should be able to see how the instances(points) are dispersed; clearly there are some groups where the instances are close to each other. Unfortunately computers cannot just look at the plot, guess on the clusters and their boundaries. <br>In order to make machine understand the clusters, we will apply K-means, a very popular and easy algorithm. <br><br>\n",
        "But before applying K-means we have to know on which columns we will apply the K-means algorithm. For that, we have to perform data preprocessing. Since the above plot shows a relation between `Anunual Income (k$)` and `Spending Score (1-100)`, it is wise just to pick those two and proceed. <br><br>\n",
        "\n",
        "However, there are drawbacks of K-means algorithm. It does not inherently know how many possible clusters are available in the dataset. So, we have to set the parameter manually before we run the algorithm. One of the ways to know number clusters is to apply elbow method. The elbow method has been discussed in the lecture. Now it is your turn to apply elbow method on our dataset. "
      ]
    },
    {
      "cell_type": "markdown",
      "metadata": {
        "id": "IHKz2nCRTTuX"
      },
      "source": [
        "**5.2.5 Select `Anunual Income (k$)` and `Spending Score (1-100)` to create a new dataset for the purpose of elbow method and K-means. Apply elbow method on the new dataset and plot the result. (0.5 points)**"
      ]
    },
    {
      "cell_type": "code",
      "execution_count": null,
      "metadata": {
        "id": "CJgdr2PhTTuY",
        "outputId": "c393897c-9edc-4f16-93ad-1d1a339971cd",
        "colab": {
          "base_uri": "https://localhost:8080/",
          "height": 513
        }
      },
      "outputs": [
        {
          "output_type": "display_data",
          "data": {
            "image/png": "[encoded data removed]",
            "text/plain": [
              "<Figure size 1152x576 with 1 Axes>"
            ]
          },
          "metadata": {
            "needs_background": "light"
          }
        }
      ],
      "source": [
        "CRED = '\\033[91m'\n",
        "CEND = '\\033[0m'\n",
        "\n",
        "#packages you need to do the tasks\n",
        "import pandas as pd\n",
        "import numpy as np\n",
        "import matplotlib.pyplot as plt\n",
        "%matplotlib inline \n",
        "from sklearn.cluster import KMeans\n",
        "\n",
        "#funtion to plot elbow method\n",
        "def plot_elbow(x,y):\n",
        "    if len(y)!=0:\n",
        "        \n",
        "        plt.figure(figsize=(16,8))\n",
        "        plt.plot(K, dist, 'bx-')\n",
        "        plt.xlabel('Number of K')\n",
        "        plt.ylabel('Distortion')\n",
        "        plt.title('Elbow Method')\n",
        "        plt.show()\n",
        "    else:\n",
        "        raise NotImplementedError(\"Oops! There is some error, implement the elbow method correctly!\")\n",
        "    \n",
        "\n",
        "#data preprocessing\n",
        "\n",
        "\n",
        "\n",
        "##### YOUR DATA PREPROCESSING CODE STARTS ##### (please do not delete this line)\n",
        "clustering_data = pd.DataFrame()\n",
        "\n",
        "clustering_data[\"income\"] = df[\"Annual Income (k$)\"]\n",
        "clustering_data[\"spending_score\"] = df[\"Spending Score (1-100)\"]\n",
        "##### YOUR DATA PREPROCESSING CODE ENDS ##### (please do not delete this line)\n",
        "\n",
        "\n",
        "\n",
        "\n",
        " \n",
        "dist = []            #Store the distortion in dist variable.\n",
        "K = range(1,10)      #we can check upto 10 clusters, you can change the value if you want to experiment.\n",
        "\n",
        "\n",
        "\n",
        "\n",
        "##### YOUR ELBOW METHOD CODE STARTS ##### (please do not delete this line)\n",
        "model_array = [KMeans(n_clusters=i) for i in K]\n",
        "dist = [-model_array[i].fit(clustering_data).score(clustering_data) for i in range(len(model_array))]\n",
        "##### YOUR ELBOW METHOD CODE ENDS ##### (please do not delete this line)\n",
        "\n",
        "\n",
        "\n",
        "\n",
        "#plot of elbow method\n",
        "try:\n",
        "    plot_elbow(K, dist) \n",
        "except NotImplementedError as e:\n",
        "    print(CRED + \"TODO: \" + str(e) + CEND)"
      ]
    },
    {
      "cell_type": "markdown",
      "metadata": {
        "id": "rI9A95HPTTuc"
      },
      "source": [
        "**5.2.6 If you could successfully apply elbow method, pick the optimal value of K and pass the value to the k-means algoithm you are about to apply.\n",
        "<br> Please apply the K-means algorithm with `max_iter=1`. Pass the argument to the K-means function. \n",
        "<br>Do not forget to visualize the clustering result. <br>Report the cluster centroids(0.5 points)**"
      ]
    },
    {
      "cell_type": "code",
      "execution_count": null,
      "metadata": {
        "id": "HquMlx7ZTTud",
        "colab": {
          "base_uri": "https://localhost:8080/",
          "height": 904
        },
        "outputId": "d42b102c-e055-4f7e-9319-15f838988e1e"
      },
      "outputs": [
        {
          "output_type": "execute_result",
          "data": {
            "text/plain": [
              "Text(0.5, 1, 'Centroids')"
            ]
          },
          "metadata": {},
          "execution_count": 98
        },
        {
          "output_type": "display_data",
          "data": {
            "image/png": "[encoded data removed]",
            "text/plain": [
              "<Figure size 432x432 with 3 Axes>"
            ]
          },
          "metadata": {
            "needs_background": "light"
          }
        },
        {
          "output_type": "display_data",
          "data": {
            "image/png": "[encoded data removed]",
            "text/plain": [
              "<Figure size 432x432 with 3 Axes>"
            ]
          },
          "metadata": {
            "needs_background": "light"
          }
        }
      ],
      "source": [
        "##### YOUR K-MEANS CODE STARTS ##### (please do not delete this line)\n",
        "# create the model\n",
        "model = KMeans(n_clusters=5, max_iter=1) # We picked 5 as the number of clusters based on the elbow plot\n",
        "# fit our data to the model\n",
        "model.fit(clustering_data)\n",
        "# Calculate and add the clusters to the data\n",
        "kMeans_data = pd.DataFrame()\n",
        "kMeans_data[\"Spending Score\"] = clustering_data['spending_score']\n",
        "kMeans_data[\"Annual Income\"] = clustering_data['income']\n",
        "kMeans_data[\"clusters\"] = model.predict(clustering_data)\n",
        "\n",
        "# Let's visualize the result\n",
        "sns.jointplot(x='Annual Income', y='Spending Score', data=kMeans_data, hue='clusters', palette='tab10').fig.suptitle(\"Clusters\", y = 1);\n",
        "\n",
        "# Let's find the cluster centroids!\n",
        "centroids = pd.DataFrame(data=model.cluster_centers_)\n",
        "centroids.columns = [\"Income\", \"Spending Score\"]\n",
        "sns.jointplot(x=\"Income\", y=\"Spending Score\", data=centroids).fig.suptitle(\"Centroids\", y = 1)\n",
        "##### YOUR K-MEANS CODE ENDS ##### (please do not delete this line)"
      ]
    },
    {
      "cell_type": "markdown",
      "metadata": {
        "id": "YI9ppZdfTTue"
      },
      "source": [
        "**5.2.7 Please apply the K-means algorithm again with `max_iter=10`. \n",
        "<br>Do not forget to visualize the clustering result. <br>Report the cluster centroids(0.05 points)**"
      ]
    },
    {
      "cell_type": "code",
      "execution_count": null,
      "metadata": {
        "id": "H1zTmOO6TTue",
        "colab": {
          "base_uri": "https://localhost:8080/",
          "height": 904
        },
        "outputId": "e4b5a626-1ee7-49ba-f7f1-3cd33dcfa49b"
      },
      "outputs": [
        {
          "output_type": "execute_result",
          "data": {
            "text/plain": [
              "Text(0.5, 1, 'Centroids')"
            ]
          },
          "metadata": {},
          "execution_count": 99
        },
        {
          "output_type": "display_data",
          "data": {
            "image/png": "[encoded data removed]",
            "text/plain": [
              "<Figure size 432x432 with 3 Axes>"
            ]
          },
          "metadata": {
            "needs_background": "light"
          }
        },
        {
          "output_type": "display_data",
          "data": {
            "image/png": "[encoded data removed]",
            "text/plain": [
              "<Figure size 432x432 with 3 Axes>"
            ]
          },
          "metadata": {
            "needs_background": "light"
          }
        }
      ],
      "source": [
        "# create the model\n",
        "model = KMeans(n_clusters=5, max_iter=10) # We picked 5 as the number of clusters based on the elbow plot\n",
        "# fit our data to the model\n",
        "model.fit(clustering_data)\n",
        "# Calculate and add the clusters to the data\n",
        "kMeans2_data = pd.DataFrame()\n",
        "kMeans2_data[\"Spending Score\"] = clustering_data['spending_score']\n",
        "kMeans2_data[\"Annual Income\"] = clustering_data['income']\n",
        "kMeans2_data[\"clusters\"] = model.predict(clustering_data)\n",
        "\n",
        "# Let's visualize the result\n",
        "sns.jointplot(x='Annual Income', y='Spending Score', data=kMeans2_data, hue='clusters', palette='tab10').fig.suptitle(\"Clusters\", y = 1);\n",
        "\n",
        "# Let's find the cluster centroids!\n",
        "centroids = pd.DataFrame(data=model.cluster_centers_)\n",
        "centroids.columns = [\"Income\", \"Spending Score\"]\n",
        "sns.jointplot(x=\"Income\", y=\"Spending Score\", data=centroids).fig.suptitle(\"Centroids\", y = 1)"
      ]
    },
    {
      "cell_type": "markdown",
      "metadata": {
        "id": "aI6t6drnTTue"
      },
      "source": [
        "**5.2.8 Is there a difference between the centroids with different max_iter value? Justify your answer. (0.1 points)**"
      ]
    },
    {
      "cell_type": "code",
      "execution_count": null,
      "metadata": {
        "id": "sLmTL3vTTTue"
      },
      "outputs": [],
      "source": [
        "# There are small differences between the centroids, but they are not very significant.\n",
        "# This is because there are some outliars that were added to different clusters within the extra iterations"
      ]
    },
    {
      "cell_type": "markdown",
      "metadata": {
        "id": "Sob_gKeDTTue"
      },
      "source": [
        "## 5.3 DBSCAN (1 points)\n",
        "We will apply DBSCAN on the same dataset used for K-means in this section. "
      ]
    },
    {
      "cell_type": "markdown",
      "metadata": {
        "id": "k0letld6TTue"
      },
      "source": [
        "**5.3.1 Apply DBSCAN on the same dataset you used to train K-means. Play with the parameter, especially `eps`, and get the best clustering result based on the visualitation which means you have to train and visualize multiple times with a range of values of `eps`. You do not have to check an infinite list of values, pick 4 values and check the visualization after clustering with them. Report the one you find to be the best. (0.5 points)**"
      ]
    },
    {
      "cell_type": "code",
      "execution_count": null,
      "metadata": {
        "id": "4cabuegXTTuf",
        "colab": {
          "base_uri": "https://localhost:8080/",
          "height": 452
        },
        "outputId": "c3f64149-60ef-41ee-cf19-f2a698872500"
      },
      "outputs": [
        {
          "output_type": "display_data",
          "data": {
            "image/png": "[encoded data removed]",
            "text/plain": [
              "<Figure size 432x432 with 3 Axes>"
            ]
          },
          "metadata": {
            "needs_background": "light"
          }
        }
      ],
      "source": [
        "from sklearn.cluster import DBSCAN\n",
        "from sklearn.preprocessing import StandardScaler\n",
        "\n",
        "scaler = StandardScaler()\n",
        "clustering_scaled = scaler.fit_transform(clustering_data)\n",
        "\n",
        "# cluster the data\n",
        "dbscan_data = pd.DataFrame()\n",
        "dbscan_data[\"Spending Score\"] = clustering_data['spending_score']\n",
        "dbscan_data[\"Annual Income\"] = clustering_data['income']\n",
        "\n",
        "dbscan = DBSCAN(eps=0.4, min_samples = 5)\n",
        "dbscan_data[\"clusters\"] = dbscan.fit_predict(clustering_scaled)\n",
        "\n",
        "# plot the cluster assignments\n",
        "sns.jointplot(x='Annual Income', y='Spending Score', data=dbscan_data, hue='clusters', palette='tab10').fig.suptitle(\"eps 0.4\", y = 1);\n"
      ]
    },
    {
      "cell_type": "markdown",
      "source": [
        "<font color='red'>**Answer:**</font> I tried four different values: eps=0.123, eps=0.4, eps=0.6 and eps=8.0\n",
        "\n",
        "I got the best result with an eps value of 0.4"
      ],
      "metadata": {
        "id": "CF0nIHJ-FdrW"
      }
    },
    {
      "cell_type": "markdown",
      "metadata": {
        "id": "mL0rzReVTTuf"
      },
      "source": [
        "**5.3.2 Is the result better than K-means? Justify your answer. Make sure you clearly address the reason why it performed better or worse than K-means. Please answer the advantage and disadvantage of both DBSCAN and K-means. (0.5 points)**"
      ]
    },
    {
      "cell_type": "code",
      "execution_count": null,
      "metadata": {
        "id": "T9wFaG8UTTuf"
      },
      "outputs": [],
      "source": [
        "# In this case, the result is much worse than K-means, because the densities of data clusters\n",
        "# varies significantly.\n",
        "# A disadvantage of DBSCAN is that it performs poorly when densities of data clusters are different.\n",
        "# An advantage of K-means is that in such cases, it can perform well.\n",
        "\n",
        "# However, in other cases, I would say that the advantage of DBSCAN is that we don't need to figure out the number of clusters before using the algorithm.\n",
        "# With DBSCAN, we can just play with the variables until we achieve a satisfactory result. A disadvantage of K-means is that the user will need to somehow\n",
        "# determine the number of clusters before using the algorithm (i.e. with the elbow method). \n",
        "# This can be especially difficult with noisy data, where the ideal number of clusters may not be easy to determine.\n"
      ]
    },
    {
      "cell_type": "markdown",
      "metadata": {
        "id": "ECRpjPqCTTug"
      },
      "source": [
        "## 5.4 Hierarchical clustering (1 points)\n",
        "We will apply Hierarchical clustering in this section on the same dataset of K-means. The reason we are repeating the task with different clustering algorithm is to ensure that you understand the nuances of different clustering algorithms and know when to use what."
      ]
    },
    {
      "cell_type": "markdown",
      "metadata": {
        "id": "wWkgF_piTTuh"
      },
      "source": [
        "**5.4.1 Like K-means, we have to know the number of clusters required for performing hierarchical clustering. One such way is through plotting dendograms. Please plot a dendogram on the same dataset you used for k-means and DBSCAN. (0.25 points)**"
      ]
    },
    {
      "cell_type": "code",
      "execution_count": null,
      "metadata": {
        "id": "lUyCqPHgTTuh",
        "colab": {
          "base_uri": "https://localhost:8080/",
          "height": 588
        },
        "outputId": "358592ee-1d2d-4bf5-867b-833abc28f29f"
      },
      "outputs": [
        {
          "output_type": "display_data",
          "data": {
            "image/png": "[encoded data removed]",
            "text/plain": [
              "<Figure size 1440x720 with 1 Axes>"
            ]
          },
          "metadata": {
            "needs_background": "light"
          }
        }
      ],
      "source": [
        "from sklearn.cluster import AgglomerativeClustering\n",
        "from scipy.cluster.hierarchy import dendrogram\n",
        "from scipy.cluster import hierarchy\n",
        "\n",
        "model = AgglomerativeClustering(distance_threshold=0, n_clusters=None)\n",
        "\n",
        "model = model.fit(clustering_data)\n",
        "\n",
        "Z = hierarchy.linkage(clustering_data, 'ward')\n",
        "\n",
        "plt.figure(figsize=(20,10))\n",
        "dn = hierarchy.dendrogram(Z)"
      ]
    },
    {
      "cell_type": "markdown",
      "metadata": {
        "id": "kY8IClpxTTui"
      },
      "source": [
        "**5.4.2 Explain how you got the optimum number of clusters in the answer section. (0.1 points)**"
      ]
    },
    {
      "cell_type": "markdown",
      "metadata": {
        "id": "4s5YD5l8TTui"
      },
      "source": [
        "<font color='red'>**Answer:**</font> If we draw a horizontal line at around y=200 of the dendogram, the created clusters are of relatively similar size and shape. If we count the number of intersecting vertical lines, we find that the optimal number of clusters is **five**. "
      ]
    },
    {
      "cell_type": "markdown",
      "metadata": {
        "id": "TJeza6YkTTui"
      },
      "source": [
        "**5.4.3 Apply hierarchical clustering on the dataset using the optimum number of clusters you got from previous task and visualize the result. (0.4 points)**"
      ]
    },
    {
      "cell_type": "code",
      "execution_count": null,
      "metadata": {
        "id": "L-epxtOqTTui",
        "colab": {
          "base_uri": "https://localhost:8080/",
          "height": 452
        },
        "outputId": "1ff97a47-dfa6-4af6-e450-45ba995127bf"
      },
      "outputs": [
        {
          "output_type": "display_data",
          "data": {
            "image/png": "[encoded data removed]",
            "text/plain": [
              "<Figure size 432x432 with 3 Axes>"
            ]
          },
          "metadata": {
            "needs_background": "light"
          }
        }
      ],
      "source": [
        "from scipy.cluster.hierarchy import fcluster\n",
        "clusters = fcluster(Z, t=5, criterion='maxclust')\n",
        "\n",
        "hierarchy_data = pd.DataFrame()\n",
        "hierarchy_data[\"Spending Score\"] = clustering_data['spending_score']\n",
        "hierarchy_data[\"Annual Income\"] = clustering_data['income']\n",
        "\n",
        "hierarchy_data[\"clusters\"] = clusters\n",
        "sns.jointplot(x='Annual Income', y='Spending Score', data=hierarchy_data, hue='clusters', palette='tab10').fig.suptitle(\"Clusters\", y = 1);"
      ]
    },
    {
      "cell_type": "markdown",
      "metadata": {
        "id": "lPZMickBTTui"
      },
      "source": [
        "**5.4.4 Based on all three clustering, take the best result and explain. \n",
        "In the explanation address how you would describe the customer behavior, are they miser or spendthrift or something else? (0.25 points)**"
      ]
    },
    {
      "cell_type": "markdown",
      "metadata": {
        "id": "iN28407HuVp_"
      },
      "source": [
        "<font color='red'>**Answer:**</font> The best result is from hierarchical clustering, but the result of K-means is quite similar. In both results, we can see five distinct clusters of customers:\n",
        "\n",
        "1.   One of them is the misers (in purple), they spend very little money, but earn a lot.\n",
        "2.   Another is the spenders (in red), they earn a lot and spend a lot.\n",
        "3.   This is the middle class (in green). They have average income and they spend an average amount of money.\n",
        "4.   This group is the spendthrifts (in blue), they spend a lot of money and have very little income.\n",
        "5.   This group is the savers (in yellow). Their income is low and they also avoid sending money.\n"
      ]
    },
    {
      "cell_type": "markdown",
      "metadata": {
        "id": "apsnb8pugyGJ"
      },
      "source": [
        "## How long did it take you to solve the homework?\n",
        "\n",
        "* Please answer as precisely as you can. It does not affect your points or grade. It is okay, if it took 0.5 hours or 24 hours or more. The collected information will be used to improve future homeworks.\n",
        "\n",
        "<font color='red'> **Answer:**</font>\n",
        "It took us both about 12 hours of work.\n",
        "\n",
        "\n",
        "## How much the homework is difficult?\n",
        "you can put only number between $0:10$ ($0:$ easy, $10:$ difficult)\n",
        "\n",
        "<font color='red'> **Answer:**</font> 8\n",
        "\n",
        "\n"
      ]
    },
    {
      "cell_type": "code",
      "execution_count": null,
      "metadata": {
        "id": "XLqRY_TYTTuj"
      },
      "outputs": [],
      "source": [
        ""
      ]
    }
  ],
  "metadata": {
    "colab": {
      "collapsed_sections": [
        "Sob_gKeDTTue",
        "ECRpjPqCTTug",
        "apsnb8pugyGJ"
      ],
      "name": "01_Data Exploration and Customer Segmentation.ipynb\"",
      "provenance": []
    },
    "kernelspec": {
      "display_name": "Python 3 (ipykernel)",
      "language": "python",
      "name": "python3"
    },
    "language_info": {
      "codemirror_mode": {
        "name": "ipython",
        "version": 3
      },
      "file_extension": ".py",
      "mimetype": "text/x-python",
      "name": "python",
      "nbconvert_exporter": "python",
      "pygments_lexer": "ipython3",
      "version": "3.9.7"
    }
  },
  "nbformat": 4,
  "nbformat_minor": 0
}